{
 "cells": [
  {
   "cell_type": "code",
   "execution_count": 1,
   "id": "ef640975",
   "metadata": {},
   "outputs": [],
   "source": [
    "a = [1,2,3,4,5]"
   ]
  },
  {
   "cell_type": "code",
   "execution_count": 2,
   "id": "00045371",
   "metadata": {},
   "outputs": [],
   "source": [
    "# pop, drop, append, clear"
   ]
  },
  {
   "cell_type": "code",
   "execution_count": 3,
   "id": "1109be63",
   "metadata": {},
   "outputs": [],
   "source": [
    "a = 1"
   ]
  },
  {
   "cell_type": "code",
   "execution_count": 5,
   "id": "79d5a2c7",
   "metadata": {},
   "outputs": [
    {
     "data": {
      "text/plain": [
       "int"
      ]
     },
     "execution_count": 5,
     "metadata": {},
     "output_type": "execute_result"
    }
   ],
   "source": [
    "type(a) #매서드 이름 () <-- 파라미터 값이 들어간다"
   ]
  },
  {
   "cell_type": "code",
   "execution_count": 7,
   "id": "3dd0ed79",
   "metadata": {},
   "outputs": [],
   "source": [
    "#dict = [키:값} <-- key : values\n",
    "menu = {'apple':1000, 'kiwi':2000, 'melon':5000}"
   ]
  },
  {
   "cell_type": "code",
   "execution_count": 8,
   "id": "8fb99d9f",
   "metadata": {},
   "outputs": [
    {
     "data": {
      "text/plain": [
       "dict"
      ]
     },
     "execution_count": 8,
     "metadata": {},
     "output_type": "execute_result"
    }
   ],
   "source": [
    "type(menu)"
   ]
  },
  {
   "cell_type": "code",
   "execution_count": 9,
   "id": "83daa73c",
   "metadata": {},
   "outputs": [
    {
     "data": {
      "text/plain": [
       "1000"
      ]
     },
     "execution_count": 9,
     "metadata": {},
     "output_type": "execute_result"
    }
   ],
   "source": [
    "menu['apple']"
   ]
  },
  {
   "cell_type": "code",
   "execution_count": 10,
   "id": "3ded7094",
   "metadata": {},
   "outputs": [
    {
     "data": {
      "text/plain": [
       "2000"
      ]
     },
     "execution_count": 10,
     "metadata": {},
     "output_type": "execute_result"
    }
   ],
   "source": [
    "menu['kiwi']"
   ]
  },
  {
   "cell_type": "code",
   "execution_count": 11,
   "id": "85d611f0",
   "metadata": {},
   "outputs": [
    {
     "data": {
      "text/plain": [
       "5000"
      ]
     },
     "execution_count": 11,
     "metadata": {},
     "output_type": "execute_result"
    }
   ],
   "source": [
    "menu['melon']"
   ]
  },
  {
   "cell_type": "code",
   "execution_count": 12,
   "id": "328286fc",
   "metadata": {},
   "outputs": [
    {
     "name": "stdout",
     "output_type": "stream",
     "text": [
      "{'apple': 1000, 'kiwi': 2000, 'melon': 5000}\n"
     ]
    }
   ],
   "source": [
    "print(menu)"
   ]
  },
  {
   "cell_type": "code",
   "execution_count": 14,
   "id": "eaf2a0a8",
   "metadata": {},
   "outputs": [],
   "source": [
    "menu.update({'a':100, 'b':200, 'c':500})"
   ]
  },
  {
   "cell_type": "code",
   "execution_count": 15,
   "id": "1803160b",
   "metadata": {},
   "outputs": [
    {
     "data": {
      "text/plain": [
       "{'apple': 1000, 'kiwi': 2000, 'melon': 5000, 'a': 100, 'b': 200, 'c': 500}"
      ]
     },
     "execution_count": 15,
     "metadata": {},
     "output_type": "execute_result"
    }
   ],
   "source": [
    "menu"
   ]
  },
  {
   "cell_type": "code",
   "execution_count": 16,
   "id": "ec8efd5d",
   "metadata": {},
   "outputs": [],
   "source": [
    "menu = {}"
   ]
  },
  {
   "cell_type": "code",
   "execution_count": 39,
   "id": "13615b97",
   "metadata": {},
   "outputs": [
    {
     "name": "stdout",
     "output_type": "stream",
     "text": [
      "{'apple': [1000, 35], 'kiwi': [2000, 70], 'melon': [3000, 140]}\n"
     ]
    }
   ],
   "source": [
    "print(menu)"
   ]
  },
  {
   "cell_type": "code",
   "execution_count": 40,
   "id": "3021e1c3",
   "metadata": {},
   "outputs": [],
   "source": [
    "menu = {'apple':[2000,35], 'kiwi':[4000,70], 'melon':[3000,140]}\n",
    "# []뜻은 list형식으로 넣겠다"
   ]
  },
  {
   "cell_type": "code",
   "execution_count": 41,
   "id": "10d3cfc4",
   "metadata": {},
   "outputs": [
    {
     "data": {
      "text/plain": [
       "[2000, 35]"
      ]
     },
     "execution_count": 41,
     "metadata": {},
     "output_type": "execute_result"
    }
   ],
   "source": [
    "menu['apple']"
   ]
  },
  {
   "cell_type": "code",
   "execution_count": 42,
   "id": "abb8752c",
   "metadata": {},
   "outputs": [
    {
     "data": {
      "text/plain": [
       "dict"
      ]
     },
     "execution_count": 42,
     "metadata": {},
     "output_type": "execute_result"
    }
   ],
   "source": [
    "type(menu)"
   ]
  },
  {
   "cell_type": "code",
   "execution_count": 43,
   "id": "111ce8ad",
   "metadata": {},
   "outputs": [
    {
     "data": {
      "text/plain": [
       "list"
      ]
     },
     "execution_count": 43,
     "metadata": {},
     "output_type": "execute_result"
    }
   ],
   "source": [
    "type(menu['apple'])"
   ]
  },
  {
   "cell_type": "code",
   "execution_count": 44,
   "id": "7e6771bb",
   "metadata": {},
   "outputs": [],
   "source": [
    "#if, for, while"
   ]
  },
  {
   "cell_type": "code",
   "execution_count": 45,
   "id": "a3a5308f",
   "metadata": {},
   "outputs": [
    {
     "name": "stdout",
     "output_type": "stream",
     "text": [
      "사과랑 키위 둘 다 너무 비싸네요 안 사요\n"
     ]
    }
   ],
   "source": [
    "if menu['apple'][0] < 1500: #~라면, ~상황인 경우,\n",
    "    print('하나 주세요')\n",
    "elif menu['kiwi'] [0] < 3000: # elif \n",
    "    print ('키위도 하나 주세요')\n",
    "else:\n",
    "    print('사과랑 키위 둘 다 너무 비싸네요 안 사요')"
   ]
  },
  {
   "cell_type": "code",
   "execution_count": 53,
   "id": "b9af72d6",
   "metadata": {},
   "outputs": [
    {
     "name": "stdout",
     "output_type": "stream",
     "text": [
      "[2000, 35]  <class 'list'>\n",
      "[4000, 70]  <class 'list'>\n",
      "[3000, 140]  <class 'list'>\n"
     ]
    }
   ],
   "source": [
    "#repeat tool\n",
    "for i in menu.values(): #for 받을 변수 in 범위\n",
    "    print(str(i) + \"  \" + str(type(i)))"
   ]
  },
  {
   "cell_type": "code",
   "execution_count": 56,
   "id": "d6b4da64",
   "metadata": {},
   "outputs": [
    {
     "name": "stdout",
     "output_type": "stream",
     "text": [
      "coding\n",
      "coding\n",
      "coding\n",
      "coding\n",
      "coding\n"
     ]
    }
   ],
   "source": [
    "for i in range(5):\n",
    "    print('coding')"
   ]
  },
  {
   "cell_type": "code",
   "execution_count": null,
   "id": "1d3fe789",
   "metadata": {},
   "outputs": [],
   "source": []
  },
  {
   "cell_type": "code",
   "execution_count": null,
   "id": "8faea530",
   "metadata": {},
   "outputs": [],
   "source": []
  }
 ],
 "metadata": {
  "kernelspec": {
   "display_name": "Python 3 (ipykernel)",
   "language": "python",
   "name": "python3"
  },
  "language_info": {
   "codemirror_mode": {
    "name": "ipython",
    "version": 3
   },
   "file_extension": ".py",
   "mimetype": "text/x-python",
   "name": "python",
   "nbconvert_exporter": "python",
   "pygments_lexer": "ipython3",
   "version": "3.9.12"
  }
 },
 "nbformat": 4,
 "nbformat_minor": 5
}
