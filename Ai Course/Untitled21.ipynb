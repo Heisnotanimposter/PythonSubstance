{
 "cells": [
  {
   "cell_type": "code",
   "execution_count": 83,
   "id": "54bef4fe",
   "metadata": {},
   "outputs": [],
   "source": [
    "#사용자로부처 금액을 입력받은 후 원화로 변환하는 프로그램"
   ]
  },
  {
   "cell_type": "code",
   "execution_count": 84,
   "id": "678e9058",
   "metadata": {},
   "outputs": [],
   "source": [
    "val = {\"dollor\":1167,\"yen\":1.096,\"euro\":1268,\"yuan\":171}"
   ]
  },
  {
   "cell_type": "code",
   "execution_count": 85,
   "id": "02ca63e2",
   "metadata": {
    "scrolled": true
   },
   "outputs": [
    {
     "data": {
      "text/plain": [
       "dict"
      ]
     },
     "execution_count": 85,
     "metadata": {},
     "output_type": "execute_result"
    }
   ],
   "source": [
    "type(val)"
   ]
  },
  {
   "cell_type": "code",
   "execution_count": 86,
   "id": "0d1da9d3",
   "metadata": {},
   "outputs": [
    {
     "name": "stdout",
     "output_type": "stream",
     "text": [
      "300 euro\n"
     ]
    }
   ],
   "source": [
    "won = input()"
   ]
  },
  {
   "cell_type": "code",
   "execution_count": 87,
   "id": "4d443d72",
   "metadata": {},
   "outputs": [],
   "source": [
    "a = won.split()"
   ]
  },
  {
   "cell_type": "code",
   "execution_count": 88,
   "id": "ab56cdd8",
   "metadata": {},
   "outputs": [
    {
     "data": {
      "text/plain": [
       "['300', 'euro']"
      ]
     },
     "execution_count": 88,
     "metadata": {},
     "output_type": "execute_result"
    }
   ],
   "source": [
    "a"
   ]
  },
  {
   "cell_type": "code",
   "execution_count": 89,
   "id": "4079d2ed",
   "metadata": {},
   "outputs": [
    {
     "name": "stdout",
     "output_type": "stream",
     "text": [
      "380400 won \n"
     ]
    }
   ],
   "source": [
    "print (str(int(a[0]) * val[a[1]] ) + \" won \" )"
   ]
  },
  {
   "cell_type": "code",
   "execution_count": null,
   "id": "023b5553",
   "metadata": {},
   "outputs": [],
   "source": []
  }
 ],
 "metadata": {
  "kernelspec": {
   "display_name": "Python 3 (ipykernel)",
   "language": "python",
   "name": "python3"
  },
  "language_info": {
   "codemirror_mode": {
    "name": "ipython",
    "version": 3
   },
   "file_extension": ".py",
   "mimetype": "text/x-python",
   "name": "python",
   "nbconvert_exporter": "python",
   "pygments_lexer": "ipython3",
   "version": "3.9.7"
  }
 },
 "nbformat": 4,
 "nbformat_minor": 5
}
