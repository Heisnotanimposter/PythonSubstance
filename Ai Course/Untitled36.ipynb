{
 "cells": [
  {
   "cell_type": "code",
   "execution_count": 7,
   "id": "ee3231bd",
   "metadata": {},
   "outputs": [],
   "source": [
    "f = open(\"C:\\\\Users\\\\redca\\\\Desktop\\\\매수종목1.txt\", mode=\"wt\", encoding=\"utf-8\")\n",
    "f.write(\"005930\\n\")\n",
    "f.write(\"005380\\n\")\n",
    "f.write(\"035420\")\n",
    "f.close()"
   ]
  },
  {
   "cell_type": "code",
   "execution_count": 8,
   "id": "7e248229",
   "metadata": {},
   "outputs": [],
   "source": [
    "path1 = 'C:\\\\Users\\\\redca\\\\Desktop\\\\매수종목1.txt'"
   ]
  },
  {
   "cell_type": "code",
   "execution_count": 3,
   "id": "029a9a61",
   "metadata": {},
   "outputs": [],
   "source": [
    "f = open(\"C:\\\\Users\\\\redca\\\\Desktop\\\\매수종목1.txt\", mode=\"wt\", encoding=\"utf-8\")\n",
    "f.write(\"005930 삼성전자\\n\")\n",
    "f.write(\"005380 현대차\\n\")\n",
    "f.write(\"035420 NAVER\\n\")\n",
    "f.close()\n"
   ]
  },
  {
   "cell_type": "code",
   "execution_count": 32,
   "id": "2a51c1ea",
   "metadata": {},
   "outputs": [],
   "source": [
    "path2 = 'C:\\\\Users\\\\redca\\\\Desktop\\\\매수종목1.txt'"
   ]
  },
  {
   "cell_type": "code",
   "execution_count": 17,
   "id": "c6d570b5",
   "metadata": {},
   "outputs": [],
   "source": [
    "with open(path1, 'r', encoding='cp949') as f:\n",
    "    a = f.readlines()\n",
    "    d = {}\n",
    "    for i in a:\n",
    "        b = i.strip() \n",
    "        b = b.split(\" \")\n",
    "        d[b[0]] = b[0]"
   ]
  },
  {
   "cell_type": "code",
   "execution_count": 18,
   "id": "3d8449f1",
   "metadata": {},
   "outputs": [
    {
     "data": {
      "text/plain": [
       "dict_keys(['005930', '005380', '035420'])"
      ]
     },
     "execution_count": 18,
     "metadata": {},
     "output_type": "execute_result"
    }
   ],
   "source": [
    "d.keys()"
   ]
  },
  {
   "cell_type": "code",
   "execution_count": 19,
   "id": "fdd19006",
   "metadata": {},
   "outputs": [
    {
     "data": {
      "text/plain": [
       "dict_values(['005930', '005380', '035420'])"
      ]
     },
     "execution_count": 19,
     "metadata": {},
     "output_type": "execute_result"
    }
   ],
   "source": [
    "d.values()"
   ]
  },
  {
   "cell_type": "code",
   "execution_count": 21,
   "id": "005a3ac8",
   "metadata": {},
   "outputs": [],
   "source": [
    "per = ['10.31', \"\", '8.00']"
   ]
  },
  {
   "cell_type": "code",
   "execution_count": 22,
   "id": "07b4f7e1",
   "metadata": {},
   "outputs": [
    {
     "data": {
      "text/plain": [
       "['10.31', '', '8.00']"
      ]
     },
     "execution_count": 22,
     "metadata": {},
     "output_type": "execute_result"
    }
   ],
   "source": [
    "per"
   ]
  },
  {
   "cell_type": "code",
   "execution_count": 26,
   "id": "c8eff8d3",
   "metadata": {},
   "outputs": [
    {
     "name": "stdout",
     "output_type": "stream",
     "text": [
      "10.31\n",
      "0\n",
      "8.0\n"
     ]
    }
   ],
   "source": [
    "for i in per:\n",
    "    try:\n",
    "        print(float(i))\n",
    "    except ValueError:\n",
    "        print(0)   "
   ]
  },
  {
   "cell_type": "code",
   "execution_count": 30,
   "id": "7d295591",
   "metadata": {},
   "outputs": [
    {
     "name": "stdout",
     "output_type": "stream",
     "text": [
      "cannot divide by zero\n"
     ]
    }
   ],
   "source": [
    "try:\n",
    "    b = 3/0\n",
    "except ZeroDivisionError:\n",
    "    print(\"cannot divide by zero\")"
   ]
  },
  {
   "cell_type": "code",
   "execution_count": 31,
   "id": "df273d8e",
   "metadata": {
    "scrolled": true
   },
   "outputs": [
    {
     "name": "stdout",
     "output_type": "stream",
     "text": [
      "1\n",
      "2\n",
      "3\n",
      "list index out of range\n",
      "list index out of range\n"
     ]
    }
   ],
   "source": [
    "data = [1, 2, 3]\n",
    "\n",
    "for i in range(5):\n",
    "    try:\n",
    "        print(data[i])\n",
    "    except IndexError as e:\n",
    "        print(e)"
   ]
  },
  {
   "cell_type": "code",
   "execution_count": null,
   "id": "84298a2f",
   "metadata": {},
   "outputs": [],
   "source": []
  }
 ],
 "metadata": {
  "kernelspec": {
   "display_name": "Python 3 (ipykernel)",
   "language": "python",
   "name": "python3"
  },
  "language_info": {
   "codemirror_mode": {
    "name": "ipython",
    "version": 3
   },
   "file_extension": ".py",
   "mimetype": "text/x-python",
   "name": "python",
   "nbconvert_exporter": "python",
   "pygments_lexer": "ipython3",
   "version": "3.9.12"
  }
 },
 "nbformat": 4,
 "nbformat_minor": 5
}
