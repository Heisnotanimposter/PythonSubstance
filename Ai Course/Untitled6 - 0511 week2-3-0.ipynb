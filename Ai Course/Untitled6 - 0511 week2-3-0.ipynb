{
 "cells": [
  {
   "cell_type": "code",
   "execution_count": 4,
   "id": "d66680b9",
   "metadata": {},
   "outputs": [
    {
     "name": "stdout",
     "output_type": "stream",
     "text": [
      "Hello \t \n",
      " World!\n"
     ]
    }
   ],
   "source": [
    "print(\"Hello \\t \\n World!\")"
   ]
  },
  {
   "cell_type": "code",
   "execution_count": 44,
   "id": "db2c7cf4",
   "metadata": {},
   "outputs": [],
   "source": [
    "#list 수정 가능 tuple 수정불가능"
   ]
  },
  {
   "cell_type": "code",
   "execution_count": 45,
   "id": "293a1e93",
   "metadata": {},
   "outputs": [],
   "source": [
    "#슬라이싱"
   ]
  },
  {
   "cell_type": "code",
   "execution_count": 46,
   "id": "690fc6da",
   "metadata": {},
   "outputs": [],
   "source": [
    "a = 10"
   ]
  },
  {
   "cell_type": "code",
   "execution_count": 47,
   "id": "6078746b",
   "metadata": {},
   "outputs": [
    {
     "data": {
      "text/plain": [
       "10"
      ]
     },
     "execution_count": 47,
     "metadata": {},
     "output_type": "execute_result"
    }
   ],
   "source": [
    "a"
   ]
  },
  {
   "cell_type": "code",
   "execution_count": 48,
   "id": "b2646ae5",
   "metadata": {},
   "outputs": [],
   "source": [
    "a = [1,2,3,4,5,6,7,8,9,10] #소괄호 = 튜플 , 대괄호 = 리스트"
   ]
  },
  {
   "cell_type": "code",
   "execution_count": 49,
   "id": "b0f482a1",
   "metadata": {},
   "outputs": [
    {
     "data": {
      "text/plain": [
       "[1, 3, 5, 7, 9]"
      ]
     },
     "execution_count": 49,
     "metadata": {},
     "output_type": "execute_result"
    }
   ],
   "source": [
    "a[ : :2] #시작위치 : 끝나는 위치 : 점프할 크기"
   ]
  },
  {
   "cell_type": "code",
   "execution_count": 50,
   "id": "c021e6c9",
   "metadata": {},
   "outputs": [
    {
     "data": {
      "text/plain": [
       "[2, 4, 6, 8, 10]"
      ]
     },
     "execution_count": 50,
     "metadata": {},
     "output_type": "execute_result"
    }
   ],
   "source": [
    "a[1: :2]"
   ]
  },
  {
   "cell_type": "code",
   "execution_count": 51,
   "id": "14545c80",
   "metadata": {},
   "outputs": [],
   "source": [
    "stocks = \"2,104,006,789\""
   ]
  },
  {
   "cell_type": "code",
   "execution_count": 55,
   "id": "b1fdce51",
   "metadata": {},
   "outputs": [],
   "source": [
    "stocks2 = stocks.replace (\",\", \"\") #replace 변경하기, 문자열 사이에 있는 특정한 값들을 바꿔준다."
   ]
  },
  {
   "cell_type": "code",
   "execution_count": 56,
   "id": "d2077cd3",
   "metadata": {},
   "outputs": [
    {
     "data": {
      "text/plain": [
       "'2104006789'"
      ]
     },
     "execution_count": 56,
     "metadata": {},
     "output_type": "execute_result"
    }
   ],
   "source": [
    "stocks2 #arguments = 인자 , 괄호 안 "
   ]
  },
  {
   "cell_type": "code",
   "execution_count": 57,
   "id": "82cd6013",
   "metadata": {},
   "outputs": [
    {
     "data": {
      "text/plain": [
       "str"
      ]
     },
     "execution_count": 57,
     "metadata": {},
     "output_type": "execute_result"
    }
   ],
   "source": [
    "type(stocks2)"
   ]
  },
  {
   "cell_type": "code",
   "execution_count": 58,
   "id": "17e01457",
   "metadata": {},
   "outputs": [],
   "source": [
    "stocks3 = int(stocks2)"
   ]
  },
  {
   "cell_type": "code",
   "execution_count": 59,
   "id": "21764ed8",
   "metadata": {},
   "outputs": [
    {
     "data": {
      "text/plain": [
       "int"
      ]
     },
     "execution_count": 59,
     "metadata": {},
     "output_type": "execute_result"
    }
   ],
   "source": [
    "type(stocks3)"
   ]
  }
 ],
 "metadata": {
  "kernelspec": {
   "display_name": "Python 3 (ipykernel)",
   "language": "python",
   "name": "python3"
  },
  "language_info": {
   "codemirror_mode": {
    "name": "ipython",
    "version": 3
   },
   "file_extension": ".py",
   "mimetype": "text/x-python",
   "name": "python",
   "nbconvert_exporter": "python",
   "pygments_lexer": "ipython3",
   "version": "3.9.7"
  }
 },
 "nbformat": 4,
 "nbformat_minor": 5
}
