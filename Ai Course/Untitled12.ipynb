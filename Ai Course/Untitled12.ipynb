{
 "cells": [
  {
   "cell_type": "code",
   "execution_count": 3,
   "id": "6bb5d63e",
   "metadata": {},
   "outputs": [],
   "source": [
    "ice = {'a':1000, 'b':2000, 'c':3000}"
   ]
  },
  {
   "cell_type": "code",
   "execution_count": 4,
   "id": "e17b9c4e",
   "metadata": {},
   "outputs": [
    {
     "data": {
      "text/plain": [
       "{'a': 1000, 'b': 2000, 'c': 3000}"
      ]
     },
     "execution_count": 4,
     "metadata": {},
     "output_type": "execute_result"
    }
   ],
   "source": [
    "ice"
   ]
  },
  {
   "cell_type": "code",
   "execution_count": 6,
   "id": "13b9898e",
   "metadata": {},
   "outputs": [
    {
     "data": {
      "text/plain": [
       "6000"
      ]
     },
     "execution_count": 6,
     "metadata": {},
     "output_type": "execute_result"
    }
   ],
   "source": [
    "sum(ice.values())"
   ]
  },
  {
   "cell_type": "code",
   "execution_count": 8,
   "id": "6e72d04a",
   "metadata": {},
   "outputs": [],
   "source": [
    "result= {}"
   ]
  },
  {
   "cell_type": "code",
   "execution_count": 16,
   "id": "dcce58b0",
   "metadata": {},
   "outputs": [],
   "source": [
    "keys = ('apple', 'pear', 'peach')"
   ]
  },
  {
   "cell_type": "code",
   "execution_count": 34,
   "id": "ee5308a8",
   "metadata": {},
   "outputs": [],
   "source": [
    "vals = ('300','200','250')"
   ]
  },
  {
   "cell_type": "code",
   "execution_count": 35,
   "id": "7f3d44d6",
   "metadata": {},
   "outputs": [],
   "source": [
    "a= zip(keys, vals) #zip으로 상호동일한 두 변수를 딕셔너리로 변환"
   ]
  },
  {
   "cell_type": "code",
   "execution_count": 36,
   "id": "c79ba11e",
   "metadata": {},
   "outputs": [
    {
     "data": {
      "text/plain": [
       "<zip at 0x11b74ebae80>"
      ]
     },
     "execution_count": 36,
     "metadata": {},
     "output_type": "execute_result"
    }
   ],
   "source": [
    "a"
   ]
  },
  {
   "cell_type": "code",
   "execution_count": 37,
   "id": "4cd7936f",
   "metadata": {},
   "outputs": [
    {
     "data": {
      "text/plain": [
       "{'apple': '300', 'pear': '200', 'peach': '250'}"
      ]
     },
     "execution_count": 37,
     "metadata": {},
     "output_type": "execute_result"
    }
   ],
   "source": [
    "dict (a)"
   ]
  },
  {
   "cell_type": "code",
   "execution_count": 38,
   "id": "b991bdfd",
   "metadata": {},
   "outputs": [],
   "source": [
    "result = dict(a)"
   ]
  },
  {
   "cell_type": "code",
   "execution_count": 39,
   "id": "a99e606a",
   "metadata": {},
   "outputs": [
    {
     "data": {
      "text/plain": [
       "{}"
      ]
     },
     "execution_count": 39,
     "metadata": {},
     "output_type": "execute_result"
    }
   ],
   "source": [
    "result"
   ]
  },
  {
   "cell_type": "code",
   "execution_count": 40,
   "id": "8cac2d21",
   "metadata": {},
   "outputs": [],
   "source": [
    "a = 10"
   ]
  },
  {
   "cell_type": "code",
   "execution_count": 41,
   "id": "760a558e",
   "metadata": {},
   "outputs": [
    {
     "data": {
      "text/plain": [
       "10"
      ]
     },
     "execution_count": 41,
     "metadata": {},
     "output_type": "execute_result"
    }
   ],
   "source": [
    "int(a)"
   ]
  },
  {
   "cell_type": "code",
   "execution_count": 44,
   "id": "9c93529e",
   "metadata": {},
   "outputs": [],
   "source": [
    "a = '20'"
   ]
  },
  {
   "cell_type": "code",
   "execution_count": 45,
   "id": "11a21a71",
   "metadata": {},
   "outputs": [
    {
     "data": {
      "text/plain": [
       "20"
      ]
     },
     "execution_count": 45,
     "metadata": {},
     "output_type": "execute_result"
    }
   ],
   "source": [
    "int (a)"
   ]
  },
  {
   "cell_type": "code",
   "execution_count": 46,
   "id": "e4b43cba",
   "metadata": {},
   "outputs": [],
   "source": [
    "b = '3.14'"
   ]
  },
  {
   "cell_type": "code",
   "execution_count": 47,
   "id": "a0c77c66",
   "metadata": {},
   "outputs": [
    {
     "data": {
      "text/plain": [
       "3.14"
      ]
     },
     "execution_count": 47,
     "metadata": {},
     "output_type": "execute_result"
    }
   ],
   "source": [
    "float (b)"
   ]
  },
  {
   "cell_type": "code",
   "execution_count": 48,
   "id": "c2bd6ddc",
   "metadata": {},
   "outputs": [
    {
     "data": {
      "text/plain": [
       "str"
      ]
     },
     "execution_count": 48,
     "metadata": {},
     "output_type": "execute_result"
    }
   ],
   "source": [
    "type(a)"
   ]
  },
  {
   "cell_type": "code",
   "execution_count": 49,
   "id": "3d73e664",
   "metadata": {},
   "outputs": [
    {
     "data": {
      "text/plain": [
       "str"
      ]
     },
     "execution_count": 49,
     "metadata": {},
     "output_type": "execute_result"
    }
   ],
   "source": [
    "type(b)"
   ]
  },
  {
   "cell_type": "code",
   "execution_count": 50,
   "id": "7f551df7",
   "metadata": {},
   "outputs": [],
   "source": [
    "a = 1"
   ]
  },
  {
   "cell_type": "code",
   "execution_count": 51,
   "id": "e57a22fa",
   "metadata": {},
   "outputs": [
    {
     "data": {
      "text/plain": [
       "1.0"
      ]
     },
     "execution_count": 51,
     "metadata": {},
     "output_type": "execute_result"
    }
   ],
   "source": [
    "float (a)"
   ]
  },
  {
   "cell_type": "code",
   "execution_count": null,
   "id": "83aec45e",
   "metadata": {},
   "outputs": [],
   "source": [
    "#그외에도 copy,count,index,remove,sort,reverse 등등 있음"
   ]
  }
 ],
 "metadata": {
  "kernelspec": {
   "display_name": "Python 3 (ipykernel)",
   "language": "python",
   "name": "python3"
  },
  "language_info": {
   "codemirror_mode": {
    "name": "ipython",
    "version": 3
   },
   "file_extension": ".py",
   "mimetype": "text/x-python",
   "name": "python",
   "nbconvert_exporter": "python",
   "pygments_lexer": "ipython3",
   "version": "3.9.7"
  }
 },
 "nbformat": 4,
 "nbformat_minor": 5
}
