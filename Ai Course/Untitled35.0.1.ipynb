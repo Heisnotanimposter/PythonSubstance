{
 "cells": [
  {
   "cell_type": "code",
   "execution_count": 9,
   "id": "66278851",
   "metadata": {
    "scrolled": true
   },
   "outputs": [
    {
     "data": {
      "text/plain": [
       "'C:\\\\Users\\\\redca'"
      ]
     },
     "execution_count": 9,
     "metadata": {},
     "output_type": "execute_result"
    }
   ],
   "source": [
    "pwd"
   ]
  },
  {
   "cell_type": "code",
   "execution_count": 14,
   "id": "e4f30f1c",
   "metadata": {},
   "outputs": [],
   "source": [
    "f = open(\"./new2.txt\",'w',) #decoding and incoding"
   ]
  },
  {
   "cell_type": "code",
   "execution_count": 16,
   "id": "c6b7a60a",
   "metadata": {},
   "outputs": [
    {
     "data": {
      "text/plain": [
       "1"
      ]
     },
     "execution_count": 16,
     "metadata": {},
     "output_type": "execute_result"
    }
   ],
   "source": [
    "f.write(\"1\")"
   ]
  },
  {
   "cell_type": "code",
   "execution_count": 18,
   "id": "06b5665b",
   "metadata": {},
   "outputs": [],
   "source": [
    "f.close() #r -> read, w-> write, a = append"
   ]
  },
  {
   "cell_type": "code",
   "execution_count": 26,
   "id": "3d1fead3",
   "metadata": {},
   "outputs": [
    {
     "ename": "TypeError",
     "evalue": "'builtin_function_or_method' object is not subscriptable",
     "output_type": "error",
     "traceback": [
      "\u001b[1;31m---------------------------------------------------------------------------\u001b[0m",
      "\u001b[1;31mTypeError\u001b[0m                                 Traceback (most recent call last)",
      "Input \u001b[1;32mIn [26]\u001b[0m, in \u001b[0;36m<cell line: 1>\u001b[1;34m()\u001b[0m\n\u001b[0;32m      1\u001b[0m \u001b[38;5;28;01mfor\u001b[39;00m i \u001b[38;5;129;01min\u001b[39;00m \u001b[38;5;28mrange\u001b[39m(\u001b[38;5;241m5\u001b[39m):\n\u001b[1;32m----> 2\u001b[0m     \u001b[43mf\u001b[49m\u001b[38;5;241;43m.\u001b[39;49m\u001b[43mwrite\u001b[49m\u001b[43m[\u001b[49m\u001b[38;5;28;43mstr\u001b[39;49m\u001b[43m(\u001b[49m\u001b[43mi\u001b[49m\u001b[43m)\u001b[49m\u001b[38;5;241;43m+\u001b[39;49m\u001b[38;5;124;43m\"\u001b[39;49m\u001b[38;5;130;43;01m\\n\u001b[39;49;00m\u001b[38;5;124;43m\"\u001b[39;49m\u001b[43m]\u001b[49m\n",
      "\u001b[1;31mTypeError\u001b[0m: 'builtin_function_or_method' object is not subscriptable"
     ]
    }
   ],
   "source": [
    "for i in range(5):\n",
    "    f.write[str(i)+\"\\n\"]"
   ]
  },
  {
   "cell_type": "code",
   "execution_count": 28,
   "id": "4ab5d224",
   "metadata": {},
   "outputs": [],
   "source": [
    "f = open(\"./new_file.txt\", 'r')"
   ]
  },
  {
   "cell_type": "code",
   "execution_count": 30,
   "id": "2a680e9e",
   "metadata": {},
   "outputs": [],
   "source": [
    "lines = f.readlines()"
   ]
  },
  {
   "cell_type": "code",
   "execution_count": 32,
   "id": "0b173392",
   "metadata": {},
   "outputs": [],
   "source": [
    "for line in lines:\n",
    "    print(line)\n",
    "f.close()"
   ]
  },
  {
   "cell_type": "code",
   "execution_count": null,
   "id": "a3321f8c",
   "metadata": {},
   "outputs": [],
   "source": [
    "f = open(\"./open\")"
   ]
  }
 ],
 "metadata": {
  "kernelspec": {
   "display_name": "Python 3 (ipykernel)",
   "language": "python",
   "name": "python3"
  },
  "language_info": {
   "codemirror_mode": {
    "name": "ipython",
    "version": 3
   },
   "file_extension": ".py",
   "mimetype": "text/x-python",
   "name": "python",
   "nbconvert_exporter": "python",
   "pygments_lexer": "ipython3",
   "version": "3.9.12"
  }
 },
 "nbformat": 4,
 "nbformat_minor": 5
}
