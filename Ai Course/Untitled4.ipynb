{
 "cells": [
  {
   "cell_type": "code",
   "execution_count": 1,
   "id": "5d5dff4a",
   "metadata": {},
   "outputs": [],
   "source": [
    "msg = \"교통대학교\" #컴퓨터는 0번부터 계산한다 / 01234 ~ 교통대학교"
   ]
  },
  {
   "cell_type": "code",
   "execution_count": 2,
   "id": "e8409b80",
   "metadata": {},
   "outputs": [
    {
     "data": {
      "text/plain": [
       "'교통대학교'"
      ]
     },
     "execution_count": 2,
     "metadata": {},
     "output_type": "execute_result"
    }
   ],
   "source": [
    "msg"
   ]
  },
  {
   "cell_type": "code",
   "execution_count": 6,
   "id": "601caea3",
   "metadata": {},
   "outputs": [
    {
     "data": {
      "text/plain": [
       "'교통대학'"
      ]
     },
     "execution_count": 6,
     "metadata": {},
     "output_type": "execute_result"
    }
   ],
   "source": [
    "msg[0:4]"
   ]
  },
  {
   "cell_type": "code",
   "execution_count": 7,
   "id": "b0ae3a4a",
   "metadata": {},
   "outputs": [
    {
     "data": {
      "text/plain": [
       "'교통대학교'"
      ]
     },
     "execution_count": 7,
     "metadata": {},
     "output_type": "execute_result"
    }
   ],
   "source": [
    "msg[0:5]"
   ]
  },
  {
   "cell_type": "code",
   "execution_count": 9,
   "id": "4291c98f",
   "metadata": {},
   "outputs": [
    {
     "data": {
      "text/plain": [
       "'대학교'"
      ]
     },
     "execution_count": 9,
     "metadata": {},
     "output_type": "execute_result"
    }
   ],
   "source": [
    "msg[2: ] #뒷 칸에 아무것도 없으면 끝까지 가라는 뜻"
   ]
  },
  {
   "cell_type": "code",
   "execution_count": 10,
   "id": "9c071f82",
   "metadata": {},
   "outputs": [
    {
     "data": {
      "text/plain": [
       "'교통'"
      ]
     },
     "execution_count": 10,
     "metadata": {},
     "output_type": "execute_result"
    }
   ],
   "source": [
    "msg[0:2]"
   ]
  },
  {
   "cell_type": "code",
   "execution_count": 11,
   "id": "4a9f8010",
   "metadata": {},
   "outputs": [
    {
     "data": {
      "text/plain": [
       "'교통'"
      ]
     },
     "execution_count": 11,
     "metadata": {},
     "output_type": "execute_result"
    }
   ],
   "source": [
    "msg[ :2] #앞 쪽에 아무것도 없으면 처음부터"
   ]
  },
  {
   "cell_type": "code",
   "execution_count": 14,
   "id": "da764a61",
   "metadata": {},
   "outputs": [
    {
     "data": {
      "text/plain": [
       "'교통대학교'"
      ]
     },
     "execution_count": 14,
     "metadata": {},
     "output_type": "execute_result"
    }
   ],
   "source": [
    "msg [ : ] #처음부터 끝까지"
   ]
  },
  {
   "cell_type": "code",
   "execution_count": 16,
   "id": "f7ed4fe0",
   "metadata": {},
   "outputs": [
    {
     "data": {
      "text/plain": [
       "'교'"
      ]
     },
     "execution_count": 16,
     "metadata": {},
     "output_type": "execute_result"
    }
   ],
   "source": [
    "msg [-1]"
   ]
  },
  {
   "cell_type": "code",
   "execution_count": 17,
   "id": "82122cc1",
   "metadata": {},
   "outputs": [
    {
     "data": {
      "text/plain": [
       "'학'"
      ]
     },
     "execution_count": 17,
     "metadata": {},
     "output_type": "execute_result"
    }
   ],
   "source": [
    "msg[-2]"
   ]
  },
  {
   "cell_type": "code",
   "execution_count": 18,
   "id": "0470f2c6",
   "metadata": {},
   "outputs": [
    {
     "data": {
      "text/plain": [
       "'대'"
      ]
     },
     "execution_count": 18,
     "metadata": {},
     "output_type": "execute_result"
    }
   ],
   "source": [
    "msg[-3]"
   ]
  },
  {
   "cell_type": "code",
   "execution_count": 19,
   "id": "50b6186a",
   "metadata": {},
   "outputs": [],
   "source": [
    "nums = [1,2,3,4,5,6,7,8,9]"
   ]
  },
  {
   "cell_type": "code",
   "execution_count": 25,
   "id": "42d3f563",
   "metadata": {
    "scrolled": true
   },
   "outputs": [
    {
     "data": {
      "text/plain": [
       "[1, 2, 3, 4, 5, 6, 7, 8, 9]"
      ]
     },
     "execution_count": 25,
     "metadata": {},
     "output_type": "execute_result"
    }
   ],
   "source": [
    "nums"
   ]
  },
  {
   "cell_type": "code",
   "execution_count": 26,
   "id": "78e3422d",
   "metadata": {},
   "outputs": [
    {
     "data": {
      "text/plain": [
       "[1, 3, 5, 7, 9]"
      ]
     },
     "execution_count": 26,
     "metadata": {},
     "output_type": "execute_result"
    }
   ],
   "source": [
    "nums[0:9:2]"
   ]
  },
  {
   "cell_type": "code",
   "execution_count": 28,
   "id": "7295cb93",
   "metadata": {},
   "outputs": [],
   "source": [
    "#처음 시작하는 칸: 건너 뛰는 칸"
   ]
  },
  {
   "cell_type": "code",
   "execution_count": 29,
   "id": "48393a77",
   "metadata": {},
   "outputs": [
    {
     "data": {
      "text/plain": [
       "[1, 4, 7]"
      ]
     },
     "execution_count": 29,
     "metadata": {},
     "output_type": "execute_result"
    }
   ],
   "source": [
    "nums[0:9:3]"
   ]
  },
  {
   "cell_type": "code",
   "execution_count": null,
   "id": "d0e5cbea",
   "metadata": {},
   "outputs": [],
   "source": []
  }
 ],
 "metadata": {
  "kernelspec": {
   "display_name": "Python 3 (ipykernel)",
   "language": "python",
   "name": "python3"
  },
  "language_info": {
   "codemirror_mode": {
    "name": "ipython",
    "version": 3
   },
   "file_extension": ".py",
   "mimetype": "text/x-python",
   "name": "python",
   "nbconvert_exporter": "python",
   "pygments_lexer": "ipython3",
   "version": "3.9.7"
  }
 },
 "nbformat": 4,
 "nbformat_minor": 5
}
