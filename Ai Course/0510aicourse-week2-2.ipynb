{
 "cells": [
  {
   "cell_type": "code",
   "execution_count": 2,
   "id": "3e7bf60e",
   "metadata": {},
   "outputs": [],
   "source": [
    "a = 1"
   ]
  },
  {
   "cell_type": "code",
   "execution_count": 16,
   "id": "36c529fe",
   "metadata": {},
   "outputs": [
    {
     "data": {
      "text/plain": [
       "3"
      ]
     },
     "execution_count": 16,
     "metadata": {},
     "output_type": "execute_result"
    }
   ],
   "source": [
    "a"
   ]
  },
  {
   "cell_type": "code",
   "execution_count": 4,
   "id": "a8d4c58c",
   "metadata": {},
   "outputs": [],
   "source": [
    "b = 2"
   ]
  },
  {
   "cell_type": "code",
   "execution_count": 17,
   "id": "b9ba0723",
   "metadata": {},
   "outputs": [
    {
     "data": {
      "text/plain": [
       "2"
      ]
     },
     "execution_count": 17,
     "metadata": {},
     "output_type": "execute_result"
    }
   ],
   "source": [
    "b"
   ]
  },
  {
   "cell_type": "code",
   "execution_count": 12,
   "id": "ce7a96c4",
   "metadata": {},
   "outputs": [],
   "source": [
    "c = a + b"
   ]
  },
  {
   "cell_type": "code",
   "execution_count": 21,
   "id": "961d920a",
   "metadata": {},
   "outputs": [
    {
     "data": {
      "text/plain": [
       "-1"
      ]
     },
     "execution_count": 21,
     "metadata": {},
     "output_type": "execute_result"
    }
   ],
   "source": [
    "c"
   ]
  },
  {
   "cell_type": "code",
   "execution_count": 22,
   "id": "3b5d2fba",
   "metadata": {},
   "outputs": [],
   "source": [
    "c = 4**4"
   ]
  },
  {
   "cell_type": "code",
   "execution_count": 23,
   "id": "8249f839",
   "metadata": {},
   "outputs": [
    {
     "data": {
      "text/plain": [
       "256"
      ]
     },
     "execution_count": 23,
     "metadata": {},
     "output_type": "execute_result"
    }
   ],
   "source": [
    "c"
   ]
  },
  {
   "cell_type": "code",
   "execution_count": 24,
   "id": "a211c5f5",
   "metadata": {},
   "outputs": [
    {
     "data": {
      "text/plain": [
       "int"
      ]
     },
     "execution_count": 24,
     "metadata": {},
     "output_type": "execute_result"
    }
   ],
   "source": [
    "type(a)"
   ]
  },
  {
   "cell_type": "code",
   "execution_count": 25,
   "id": "c76ab046",
   "metadata": {},
   "outputs": [],
   "source": [
    "b = 0.5"
   ]
  },
  {
   "cell_type": "code",
   "execution_count": 26,
   "id": "c07aa742",
   "metadata": {},
   "outputs": [
    {
     "data": {
      "text/plain": [
       "float"
      ]
     },
     "execution_count": 26,
     "metadata": {},
     "output_type": "execute_result"
    }
   ],
   "source": [
    "type (b)"
   ]
  },
  {
   "cell_type": "code",
   "execution_count": 27,
   "id": "af197845",
   "metadata": {},
   "outputs": [
    {
     "data": {
      "text/plain": [
       "'이승원'"
      ]
     },
     "execution_count": 27,
     "metadata": {},
     "output_type": "execute_result"
    }
   ],
   "source": [
    "\"이승원\""
   ]
  },
  {
   "cell_type": "code",
   "execution_count": 28,
   "id": "f3ffaa17",
   "metadata": {},
   "outputs": [
    {
     "data": {
      "text/plain": [
       "'이승원'"
      ]
     },
     "execution_count": 28,
     "metadata": {},
     "output_type": "execute_result"
    }
   ],
   "source": [
    "'이승원'"
   ]
  },
  {
   "cell_type": "code",
   "execution_count": 29,
   "id": "2b9e9429",
   "metadata": {},
   "outputs": [],
   "source": [
    "a = 1 #그냥 숫자"
   ]
  },
  {
   "cell_type": "code",
   "execution_count": 30,
   "id": "46aec1cb",
   "metadata": {},
   "outputs": [],
   "source": [
    "b = '1' #작은 따옴표는 문자열"
   ]
  },
  {
   "cell_type": "code",
   "execution_count": 31,
   "id": "5017f5d9",
   "metadata": {},
   "outputs": [],
   "source": [
    "a = 100"
   ]
  },
  {
   "cell_type": "code",
   "execution_count": 32,
   "id": "9d3479e7",
   "metadata": {},
   "outputs": [],
   "source": [
    "b = '100'"
   ]
  },
  {
   "cell_type": "code",
   "execution_count": 34,
   "id": "2b1487f9",
   "metadata": {},
   "outputs": [
    {
     "data": {
      "text/plain": [
       "str"
      ]
     },
     "execution_count": 34,
     "metadata": {},
     "output_type": "execute_result"
    }
   ],
   "source": [
    "type (b)"
   ]
  },
  {
   "cell_type": "code",
   "execution_count": 35,
   "id": "80e422cf",
   "metadata": {},
   "outputs": [],
   "source": [
    "a = 100"
   ]
  },
  {
   "cell_type": "code",
   "execution_count": 36,
   "id": "3d27ba38",
   "metadata": {},
   "outputs": [],
   "source": [
    "b = 1.5"
   ]
  },
  {
   "cell_type": "code",
   "execution_count": 37,
   "id": "a2579c77",
   "metadata": {},
   "outputs": [],
   "source": [
    "c = a + b"
   ]
  },
  {
   "cell_type": "code",
   "execution_count": 38,
   "id": "d083cc02",
   "metadata": {},
   "outputs": [
    {
     "name": "stdout",
     "output_type": "stream",
     "text": [
      "101.5\n"
     ]
    }
   ],
   "source": [
    "print (c)"
   ]
  },
  {
   "cell_type": "code",
   "execution_count": 39,
   "id": "0fd2c9c8",
   "metadata": {},
   "outputs": [],
   "source": [
    "c = b - a"
   ]
  },
  {
   "cell_type": "code",
   "execution_count": 40,
   "id": "62619f53",
   "metadata": {},
   "outputs": [
    {
     "name": "stdout",
     "output_type": "stream",
     "text": [
      "-98.5\n"
     ]
    }
   ],
   "source": [
    "print (c)"
   ]
  },
  {
   "cell_type": "code",
   "execution_count": 43,
   "id": "a649b404",
   "metadata": {},
   "outputs": [],
   "source": [
    "a = \"한국\""
   ]
  },
  {
   "cell_type": "code",
   "execution_count": 44,
   "id": "1a3ed5e1",
   "metadata": {},
   "outputs": [],
   "source": [
    "b = \"교통대\""
   ]
  },
  {
   "cell_type": "code",
   "execution_count": 45,
   "id": "12cfeb1c",
   "metadata": {},
   "outputs": [],
   "source": [
    "c = a+b"
   ]
  },
  {
   "cell_type": "code",
   "execution_count": 46,
   "id": "2f93f952",
   "metadata": {},
   "outputs": [
    {
     "data": {
      "text/plain": [
       "'한국교통대'"
      ]
     },
     "execution_count": 46,
     "metadata": {},
     "output_type": "execute_result"
    }
   ],
   "source": [
    "c"
   ]
  },
  {
   "cell_type": "code",
   "execution_count": 48,
   "id": "b9ccc0e8",
   "metadata": {},
   "outputs": [
    {
     "data": {
      "text/plain": [
       "'한국한국한국'"
      ]
     },
     "execution_count": 48,
     "metadata": {},
     "output_type": "execute_result"
    }
   ],
   "source": [
    "a*3"
   ]
  },
  {
   "cell_type": "code",
   "execution_count": 49,
   "id": "21857bc6",
   "metadata": {},
   "outputs": [],
   "source": [
    "c = a+b"
   ]
  },
  {
   "cell_type": "code",
   "execution_count": 51,
   "id": "f6e191bd",
   "metadata": {},
   "outputs": [
    {
     "data": {
      "text/plain": [
       "'한국한국한국'"
      ]
     },
     "execution_count": 51,
     "metadata": {},
     "output_type": "execute_result"
    }
   ],
   "source": [
    "a*3"
   ]
  },
  {
   "cell_type": "code",
   "execution_count": 52,
   "id": "b4be3fb9",
   "metadata": {},
   "outputs": [],
   "source": [
    "삼성전자 = \"50000\""
   ]
  },
  {
   "cell_type": "code",
   "execution_count": 65,
   "id": "d28acaec",
   "metadata": {},
   "outputs": [
    {
     "data": {
      "text/plain": [
       "'50000'"
      ]
     },
     "execution_count": 65,
     "metadata": {},
     "output_type": "execute_result"
    }
   ],
   "source": [
    "삼성전자"
   ]
  },
  {
   "cell_type": "code",
   "execution_count": 66,
   "id": "474694b4",
   "metadata": {},
   "outputs": [
    {
     "data": {
      "text/plain": [
       "'50000500005000050000500005000050000500005000050000'"
      ]
     },
     "execution_count": 66,
     "metadata": {},
     "output_type": "execute_result"
    }
   ],
   "source": [
    "삼성전자 * 10"
   ]
  },
  {
   "cell_type": "code",
   "execution_count": 61,
   "id": "f990a589",
   "metadata": {},
   "outputs": [],
   "source": [
    "s = \"hello!\""
   ]
  },
  {
   "cell_type": "code",
   "execution_count": 62,
   "id": "3742efd1",
   "metadata": {},
   "outputs": [],
   "source": [
    "t = \"python\""
   ]
  },
  {
   "cell_type": "code",
   "execution_count": 63,
   "id": "d559d4d9",
   "metadata": {},
   "outputs": [
    {
     "name": "stdout",
     "output_type": "stream",
     "text": [
      "hello! python\n"
     ]
    }
   ],
   "source": [
    "print(s,t)"
   ]
  },
  {
   "cell_type": "code",
   "execution_count": 64,
   "id": "5c8b0477",
   "metadata": {},
   "outputs": [
    {
     "data": {
      "text/plain": [
       "'50000500005000050000500005000050000500005000050000'"
      ]
     },
     "execution_count": 64,
     "metadata": {},
     "output_type": "execute_result"
    }
   ],
   "source": [
    "삼성전자 *10"
   ]
  },
  {
   "cell_type": "code",
   "execution_count": null,
   "id": "c121c1e4",
   "metadata": {},
   "outputs": [],
   "source": []
  },
  {
   "cell_type": "code",
   "execution_count": null,
   "id": "c1a9b97e",
   "metadata": {},
   "outputs": [],
   "source": []
  }
 ],
 "metadata": {
  "kernelspec": {
   "display_name": "Python 3 (ipykernel)",
   "language": "python",
   "name": "python3"
  },
  "language_info": {
   "codemirror_mode": {
    "name": "ipython",
    "version": 3
   },
   "file_extension": ".py",
   "mimetype": "text/x-python",
   "name": "python",
   "nbconvert_exporter": "python",
   "pygments_lexer": "ipython3",
   "version": "3.9.7"
  }
 },
 "nbformat": 4,
 "nbformat_minor": 5
}
