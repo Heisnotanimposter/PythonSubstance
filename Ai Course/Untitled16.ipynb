{
 "cells": [
  {
   "cell_type": "code",
   "execution_count": 2,
   "id": "a6e33881",
   "metadata": {},
   "outputs": [
    {
     "ename": "NameError",
     "evalue": "name 'boolean' is not defined",
     "output_type": "error",
     "traceback": [
      "\u001b[1;31m---------------------------------------------------------------------------\u001b[0m",
      "\u001b[1;31mNameError\u001b[0m                                 Traceback (most recent call last)",
      "\u001b[1;32m~\\AppData\\Local\\Temp/ipykernel_10664/36671525.py\u001b[0m in \u001b[0;36m<module>\u001b[1;34m\u001b[0m\n\u001b[0;32m      1\u001b[0m \u001b[1;31m#101: 파이썬에서 true 혹은 false를 갖는 데이터 타입은 무엇인가?\u001b[0m\u001b[1;33m\u001b[0m\u001b[1;33m\u001b[0m\u001b[0m\n\u001b[1;32m----> 2\u001b[1;33m \u001b[0ma\u001b[0m\u001b[1;33m:\u001b[0m \u001b[0mboolean\u001b[0m\u001b[1;33m\u001b[0m\u001b[1;33m\u001b[0m\u001b[0m\n\u001b[0m",
      "\u001b[1;31mNameError\u001b[0m: name 'boolean' is not defined"
     ]
    }
   ],
   "source": [
    "#101: 파이썬에서 true 혹은 false를 갖는 데이터 타입은 무엇인가? boolean"
   ]
  },
  {
   "cell_type": "code",
   "execution_count": 3,
   "id": "da1aa6dd",
   "metadata": {},
   "outputs": [],
   "source": [
    "#102 아래 코드의 출력 결과를 예상하라 print(3==5)"
   ]
  },
  {
   "cell_type": "code",
   "execution_count": 4,
   "id": "8b5af500",
   "metadata": {},
   "outputs": [],
   "source": [
    "question102 = '3==5'"
   ]
  },
  {
   "cell_type": "code",
   "execution_count": 13,
   "id": "52802ea1",
   "metadata": {},
   "outputs": [
    {
     "name": "stdout",
     "output_type": "stream",
     "text": [
      "False\n"
     ]
    }
   ],
   "source": [
    "print(3==5)"
   ]
  },
  {
   "cell_type": "code",
   "execution_count": 14,
   "id": "c87fdfc1",
   "metadata": {},
   "outputs": [
    {
     "name": "stdout",
     "output_type": "stream",
     "text": [
      "True\n"
     ]
    }
   ],
   "source": [
    "x = 4\n",
    "print(1 < x < 5)"
   ]
  },
  {
   "cell_type": "code",
   "execution_count": 15,
   "id": "9bf402f5",
   "metadata": {},
   "outputs": [
    {
     "name": "stdout",
     "output_type": "stream",
     "text": [
      "True\n"
     ]
    },
    {
     "data": {
      "text/plain": [
       "True"
      ]
     },
     "execution_count": 15,
     "metadata": {},
     "output_type": "execute_result"
    }
   ],
   "source": [
    "print((3==3)) or (4!=3) # and or , ! (반대의 의미, not), ==(같은가?), !=(같지 않은가?)"
   ]
  },
  {
   "cell_type": "code",
   "execution_count": 16,
   "id": "29794701",
   "metadata": {},
   "outputs": [],
   "source": [
    "hungry = True"
   ]
  },
  {
   "cell_type": "code",
   "execution_count": 19,
   "id": "97b5b1a2",
   "metadata": {},
   "outputs": [
    {
     "name": "stdout",
     "output_type": "stream",
     "text": [
      "안 배고파요\n"
     ]
    }
   ],
   "source": [
    "if hungry != True:\n",
    "    print(\"배고파요\")\n",
    "else:\n",
    "    print(\"안 배고파요\")"
   ]
  },
  {
   "cell_type": "code",
   "execution_count": 20,
   "id": "e78f6df9",
   "metadata": {},
   "outputs": [
    {
     "name": "stdout",
     "output_type": "stream",
     "text": [
      "True\n"
     ]
    }
   ],
   "source": [
    "print ((3==3) or (3!=3)) #둘 중 하나만 true 나와도 true 출력한다"
   ]
  },
  {
   "cell_type": "code",
   "execution_count": 21,
   "id": "9b3035eb",
   "metadata": {},
   "outputs": [],
   "source": [
    "I = True"
   ]
  },
  {
   "cell_type": "code",
   "execution_count": 22,
   "id": "832ab6ce",
   "metadata": {},
   "outputs": [],
   "source": [
    "am = False"
   ]
  },
  {
   "cell_type": "code",
   "execution_count": 26,
   "id": "36c74ff6",
   "metadata": {},
   "outputs": [],
   "source": [
    "hungry = False"
   ]
  },
  {
   "cell_type": "code",
   "execution_count": 29,
   "id": "d61c7107",
   "metadata": {
    "scrolled": true
   },
   "outputs": [
    {
     "name": "stdout",
     "output_type": "stream",
     "text": [
      "all things are true\n"
     ]
    }
   ],
   "source": [
    "if (I == True) or (am == True) or (hungry == True):\n",
    "    print(\"all things are true\")\n",
    "else:\n",
    "    print(\"there is something false\")"
   ]
  },
  {
   "cell_type": "code",
   "execution_count": 30,
   "id": "25621442",
   "metadata": {},
   "outputs": [
    {
     "name": "stdout",
     "output_type": "stream",
     "text": [
      "there is something false\n"
     ]
    }
   ],
   "source": [
    "I = True\n",
    "\n",
    "am = False\n",
    "\n",
    "hungry = False\n",
    "\n",
    "if (I == True) and (am == True) and (hungry == True):\n",
    "    print(\"all things are true\")\n",
    "else:\n",
    "    print(\"there is something false\")"
   ]
  },
  {
   "cell_type": "code",
   "execution_count": 42,
   "id": "f13fade3",
   "metadata": {},
   "outputs": [
    {
     "name": "stdout",
     "output_type": "stream",
     "text": [
      "False\n"
     ]
    }
   ],
   "source": [
    "print(3 >= 4)"
   ]
  },
  {
   "cell_type": "code",
   "execution_count": 39,
   "id": "28e53b56",
   "metadata": {},
   "outputs": [
    {
     "name": "stdout",
     "output_type": "stream",
     "text": [
      "Hi,there\n"
     ]
    }
   ],
   "source": [
    "if 4<3:\n",
    "    print(\"Hello World\")\n",
    "else:\n",
    "    print(\"Hi,there\")"
   ]
  },
  {
   "cell_type": "code",
   "execution_count": 41,
   "id": "28746eb1",
   "metadata": {},
   "outputs": [
    {
     "name": "stdout",
     "output_type": "stream",
     "text": [
      "H\n",
      "B\n"
     ]
    }
   ],
   "source": [
    "if True:\n",
    "    print(\"H\")\n",
    "    print(\"B\")\n",
    "else:\n",
    "    print(\"2\")\n",
    "    print(\"B\")"
   ]
  },
  {
   "cell_type": "code",
   "execution_count": null,
   "id": "aac4522f",
   "metadata": {},
   "outputs": [],
   "source": []
  },
  {
   "cell_type": "code",
   "execution_count": null,
   "id": "074e9242",
   "metadata": {},
   "outputs": [],
   "source": []
  }
 ],
 "metadata": {
  "kernelspec": {
   "display_name": "Python 3 (ipykernel)",
   "language": "python",
   "name": "python3"
  },
  "language_info": {
   "codemirror_mode": {
    "name": "ipython",
    "version": 3
   },
   "file_extension": ".py",
   "mimetype": "text/x-python",
   "name": "python",
   "nbconvert_exporter": "python",
   "pygments_lexer": "ipython3",
   "version": "3.9.7"
  }
 },
 "nbformat": 4,
 "nbformat_minor": 5
}
