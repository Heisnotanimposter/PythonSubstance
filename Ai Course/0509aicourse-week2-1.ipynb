{
 "cells": [
  {
   "cell_type": "code",
   "execution_count": 1,
   "id": "3a9190e8",
   "metadata": {},
   "outputs": [
    {
     "name": "stdout",
     "output_type": "stream",
     "text": [
      "안녕하세요\n"
     ]
    }
   ],
   "source": [
    "print(\"안녕하세요\")"
   ]
  },
  {
   "cell_type": "code",
   "execution_count": 2,
   "id": "95b2a611",
   "metadata": {
    "scrolled": false
   },
   "outputs": [
    {
     "name": "stdout",
     "output_type": "stream",
     "text": [
      "안녕 나는 신생개발자야\n"
     ]
    }
   ],
   "source": [
    "print(\"안녕 나는 신생개발자야\")"
   ]
  },
  {
   "cell_type": "code",
   "execution_count": 3,
   "id": "7a249056",
   "metadata": {},
   "outputs": [
    {
     "data": {
      "text/plain": [
       "'shift+enter'"
      ]
     },
     "execution_count": 3,
     "metadata": {},
     "output_type": "execute_result"
    }
   ],
   "source": [
    "\"shift+enter\""
   ]
  },
  {
   "cell_type": "code",
   "execution_count": 4,
   "id": "70388809",
   "metadata": {},
   "outputs": [
    {
     "name": "stdout",
     "output_type": "stream",
     "text": [
      "Hello World\n"
     ]
    }
   ],
   "source": [
    "print(\"Hello World\")"
   ]
  },
  {
   "cell_type": "code",
   "execution_count": 4,
   "id": "1ef79f1d",
   "metadata": {},
   "outputs": [
    {
     "name": "stdout",
     "output_type": "stream",
     "text": [
      "Hello World\n"
     ]
    }
   ],
   "source": [
    "print('Hello World')"
   ]
  },
  {
   "cell_type": "code",
   "execution_count": 11,
   "id": "e487c5d5",
   "metadata": {},
   "outputs": [
    {
     "name": "stdout",
     "output_type": "stream",
     "text": [
      "엄마가 말하길 \"너 방에 들어가\"\n"
     ]
    }
   ],
   "source": [
    "print('엄마가 말하길 \"너 방에 들어가\"' )"
   ]
  },
  {
   "cell_type": "code",
   "execution_count": 12,
   "id": "dc6b9d7c",
   "metadata": {},
   "outputs": [
    {
     "name": "stdout",
     "output_type": "stream",
     "text": [
      "Mary's Cosmetics\n"
     ]
    }
   ],
   "source": [
    "print(\"Mary's Cosmetics\")"
   ]
  },
  {
   "cell_type": "code",
   "execution_count": 13,
   "id": "6b8509cc",
   "metadata": {},
   "outputs": [
    {
     "name": "stdout",
     "output_type": "stream",
     "text": [
      "신씨가 소리질렀다.\"도둑이야\"\n"
     ]
    }
   ],
   "source": [
    "print('신씨가 소리질렀다.\"도둑이야\"')"
   ]
  },
  {
   "cell_type": "code",
   "execution_count": 15,
   "id": "10b8b00d",
   "metadata": {},
   "outputs": [
    {
     "name": "stdout",
     "output_type": "stream",
     "text": [
      "a\tb\n"
     ]
    }
   ],
   "source": [
    "print(\"a\\tb\") #탭기능"
   ]
  },
  {
   "cell_type": "code",
   "execution_count": 16,
   "id": "8f63d252",
   "metadata": {
    "scrolled": true
   },
   "outputs": [
    {
     "name": "stdout",
     "output_type": "stream",
     "text": [
      "a\n",
      "b\n"
     ]
    }
   ],
   "source": [
    "print(\"a\\nb\") #줄바꿈 or 캐리지리터턴"
   ]
  },
  {
   "cell_type": "code",
   "execution_count": null,
   "id": "a0421466",
   "metadata": {},
   "outputs": [],
   "source": []
  },
  {
   "cell_type": "code",
   "execution_count": null,
   "id": "810981c3",
   "metadata": {},
   "outputs": [],
   "source": [
    "esc누르면 화살표대로 움직일 수 있음 / enter누르면 다시 채팅 가능 / z키 실행취소 / d키 삭제 / \n",
    "변수,함수 모듈, 그런 것들에 대해 실습을 통해 진행할 예정 / shift+enter"
   ]
  },
  {
   "cell_type": "code",
   "execution_count": 5,
   "id": "2677c095",
   "metadata": {},
   "outputs": [],
   "source": [
    "a=10\n",
    "b=20\n",
    "c=b-a"
   ]
  },
  {
   "cell_type": "code",
   "execution_count": 7,
   "id": "622917f3",
   "metadata": {},
   "outputs": [
    {
     "data": {
      "text/plain": [
       "10"
      ]
     },
     "execution_count": 7,
     "metadata": {},
     "output_type": "execute_result"
    }
   ],
   "source": [
    "c"
   ]
  },
  {
   "cell_type": "code",
   "execution_count": null,
   "id": "9f6438a5",
   "metadata": {},
   "outputs": [],
   "source": [
    "a = \"이승원\""
   ]
  },
  {
   "cell_type": "code",
   "execution_count": null,
   "id": "62c7ff5b",
   "metadata": {},
   "outputs": [],
   "source": [
    "a = 3.14"
   ]
  },
  {
   "cell_type": "code",
   "execution_count": 8,
   "id": "9acf8818",
   "metadata": {},
   "outputs": [
    {
     "data": {
      "text/plain": [
       "10"
      ]
     },
     "execution_count": 8,
     "metadata": {},
     "output_type": "execute_result"
    }
   ],
   "source": [
    "a"
   ]
  },
  {
   "cell_type": "code",
   "execution_count": null,
   "id": "c601dc56",
   "metadata": {},
   "outputs": [],
   "source": [
    "마지막에 저장한 값을 a에 저장 / a는 변수, a라는 공간에 어느 것이든 넣을 수 있음 / 상수,정수,부동소수점, 파이썬은 그럴 필요가 없다."
   ]
  }
 ],
 "metadata": {
  "kernelspec": {
   "display_name": "Python 3 (ipykernel)",
   "language": "python",
   "name": "python3"
  },
  "language_info": {
   "codemirror_mode": {
    "name": "ipython",
    "version": 3
   },
   "file_extension": ".py",
   "mimetype": "text/x-python",
   "name": "python",
   "nbconvert_exporter": "python",
   "pygments_lexer": "ipython3",
   "version": "3.9.7"
  }
 },
 "nbformat": 4,
 "nbformat_minor": 5
}
