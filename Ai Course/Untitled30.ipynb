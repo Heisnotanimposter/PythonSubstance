{
 "cells": [
  {
   "cell_type": "code",
   "execution_count": 4,
   "id": "0c74e942",
   "metadata": {},
   "outputs": [],
   "source": [
    "import numpy as np\n",
    "import pandas as pd"
   ]
  },
  {
   "cell_type": "code",
   "execution_count": 5,
   "id": "15387bd8",
   "metadata": {},
   "outputs": [],
   "source": [
    "import pyupbit"
   ]
  },
  {
   "cell_type": "code",
   "execution_count": 26,
   "id": "928260b3",
   "metadata": {},
   "outputs": [],
   "source": [
    "data = pyupbit.get_ohlcv('KRW-BTC','day',200) #ochiv => open,high,low,close #시가 고가 저가 종가 거래량"
   ]
  },
  {
   "cell_type": "code",
   "execution_count": 27,
   "id": "be403c6f",
   "metadata": {},
   "outputs": [
    {
     "data": {
      "text/plain": [
       "pandas.core.frame.DataFrame"
      ]
     },
     "execution_count": 27,
     "metadata": {},
     "output_type": "execute_result"
    }
   ],
   "source": [
    "type(data)"
   ]
  },
  {
   "cell_type": "code",
   "execution_count": 28,
   "id": "e4432114",
   "metadata": {},
   "outputs": [
    {
     "data": {
      "text/html": [
       "<div>\n",
       "<style scoped>\n",
       "    .dataframe tbody tr th:only-of-type {\n",
       "        vertical-align: middle;\n",
       "    }\n",
       "\n",
       "    .dataframe tbody tr th {\n",
       "        vertical-align: top;\n",
       "    }\n",
       "\n",
       "    .dataframe thead th {\n",
       "        text-align: right;\n",
       "    }\n",
       "</style>\n",
       "<table border=\"1\" class=\"dataframe\">\n",
       "  <thead>\n",
       "    <tr style=\"text-align: right;\">\n",
       "      <th></th>\n",
       "      <th>open</th>\n",
       "      <th>high</th>\n",
       "      <th>low</th>\n",
       "      <th>close</th>\n",
       "      <th>volume</th>\n",
       "      <th>value</th>\n",
       "    </tr>\n",
       "  </thead>\n",
       "  <tbody>\n",
       "    <tr>\n",
       "      <th>2021-11-05 09:00:00+09:00</th>\n",
       "      <td>73807000.0</td>\n",
       "      <td>75000000.0</td>\n",
       "      <td>73490000.0</td>\n",
       "      <td>74121000.0</td>\n",
       "      <td>5520.423654</td>\n",
       "      <td>4.107097e+11</td>\n",
       "    </tr>\n",
       "    <tr>\n",
       "      <th>2021-11-06 09:00:00+09:00</th>\n",
       "      <td>74092000.0</td>\n",
       "      <td>74649000.0</td>\n",
       "      <td>73800000.0</td>\n",
       "      <td>74575000.0</td>\n",
       "      <td>3742.076714</td>\n",
       "      <td>2.776297e+11</td>\n",
       "    </tr>\n",
       "    <tr>\n",
       "      <th>2021-11-07 09:00:00+09:00</th>\n",
       "      <td>74576000.0</td>\n",
       "      <td>76700000.0</td>\n",
       "      <td>74481000.0</td>\n",
       "      <td>76536000.0</td>\n",
       "      <td>4447.009866</td>\n",
       "      <td>3.356342e+11</td>\n",
       "    </tr>\n",
       "    <tr>\n",
       "      <th>2021-11-08 09:00:00+09:00</th>\n",
       "      <td>76649000.0</td>\n",
       "      <td>81586000.0</td>\n",
       "      <td>76534000.0</td>\n",
       "      <td>81403000.0</td>\n",
       "      <td>9132.136668</td>\n",
       "      <td>7.264337e+11</td>\n",
       "    </tr>\n",
       "    <tr>\n",
       "      <th>2021-11-09 09:00:00+09:00</th>\n",
       "      <td>81402000.0</td>\n",
       "      <td>82700000.0</td>\n",
       "      <td>79987000.0</td>\n",
       "      <td>80857000.0</td>\n",
       "      <td>9216.260721</td>\n",
       "      <td>7.496424e+11</td>\n",
       "    </tr>\n",
       "    <tr>\n",
       "      <th>...</th>\n",
       "      <td>...</td>\n",
       "      <td>...</td>\n",
       "      <td>...</td>\n",
       "      <td>...</td>\n",
       "      <td>...</td>\n",
       "      <td>...</td>\n",
       "    </tr>\n",
       "    <tr>\n",
       "      <th>2022-05-19 09:00:00+09:00</th>\n",
       "      <td>37100000.0</td>\n",
       "      <td>39085000.0</td>\n",
       "      <td>37000000.0</td>\n",
       "      <td>38780000.0</td>\n",
       "      <td>6407.341868</td>\n",
       "      <td>2.429746e+11</td>\n",
       "    </tr>\n",
       "    <tr>\n",
       "      <th>2022-05-20 09:00:00+09:00</th>\n",
       "      <td>38781000.0</td>\n",
       "      <td>39298000.0</td>\n",
       "      <td>37267000.0</td>\n",
       "      <td>37762000.0</td>\n",
       "      <td>5865.610376</td>\n",
       "      <td>2.252696e+11</td>\n",
       "    </tr>\n",
       "    <tr>\n",
       "      <th>2022-05-21 09:00:00+09:00</th>\n",
       "      <td>37798000.0</td>\n",
       "      <td>38253000.0</td>\n",
       "      <td>37558000.0</td>\n",
       "      <td>38037000.0</td>\n",
       "      <td>2813.648150</td>\n",
       "      <td>1.067794e+11</td>\n",
       "    </tr>\n",
       "    <tr>\n",
       "      <th>2022-05-22 09:00:00+09:00</th>\n",
       "      <td>38037000.0</td>\n",
       "      <td>39150000.0</td>\n",
       "      <td>37886000.0</td>\n",
       "      <td>38933000.0</td>\n",
       "      <td>3336.520707</td>\n",
       "      <td>1.285776e+11</td>\n",
       "    </tr>\n",
       "    <tr>\n",
       "      <th>2022-05-23 09:00:00+09:00</th>\n",
       "      <td>38933000.0</td>\n",
       "      <td>39220000.0</td>\n",
       "      <td>38635000.0</td>\n",
       "      <td>39014000.0</td>\n",
       "      <td>2101.423374</td>\n",
       "      <td>8.171272e+10</td>\n",
       "    </tr>\n",
       "  </tbody>\n",
       "</table>\n",
       "<p>200 rows × 6 columns</p>\n",
       "</div>"
      ],
      "text/plain": [
       "                                 open        high         low       close  \\\n",
       "2021-11-05 09:00:00+09:00  73807000.0  75000000.0  73490000.0  74121000.0   \n",
       "2021-11-06 09:00:00+09:00  74092000.0  74649000.0  73800000.0  74575000.0   \n",
       "2021-11-07 09:00:00+09:00  74576000.0  76700000.0  74481000.0  76536000.0   \n",
       "2021-11-08 09:00:00+09:00  76649000.0  81586000.0  76534000.0  81403000.0   \n",
       "2021-11-09 09:00:00+09:00  81402000.0  82700000.0  79987000.0  80857000.0   \n",
       "...                               ...         ...         ...         ...   \n",
       "2022-05-19 09:00:00+09:00  37100000.0  39085000.0  37000000.0  38780000.0   \n",
       "2022-05-20 09:00:00+09:00  38781000.0  39298000.0  37267000.0  37762000.0   \n",
       "2022-05-21 09:00:00+09:00  37798000.0  38253000.0  37558000.0  38037000.0   \n",
       "2022-05-22 09:00:00+09:00  38037000.0  39150000.0  37886000.0  38933000.0   \n",
       "2022-05-23 09:00:00+09:00  38933000.0  39220000.0  38635000.0  39014000.0   \n",
       "\n",
       "                                volume         value  \n",
       "2021-11-05 09:00:00+09:00  5520.423654  4.107097e+11  \n",
       "2021-11-06 09:00:00+09:00  3742.076714  2.776297e+11  \n",
       "2021-11-07 09:00:00+09:00  4447.009866  3.356342e+11  \n",
       "2021-11-08 09:00:00+09:00  9132.136668  7.264337e+11  \n",
       "2021-11-09 09:00:00+09:00  9216.260721  7.496424e+11  \n",
       "...                                ...           ...  \n",
       "2022-05-19 09:00:00+09:00  6407.341868  2.429746e+11  \n",
       "2022-05-20 09:00:00+09:00  5865.610376  2.252696e+11  \n",
       "2022-05-21 09:00:00+09:00  2813.648150  1.067794e+11  \n",
       "2022-05-22 09:00:00+09:00  3336.520707  1.285776e+11  \n",
       "2022-05-23 09:00:00+09:00  2101.423374  8.171272e+10  \n",
       "\n",
       "[200 rows x 6 columns]"
      ]
     },
     "execution_count": 28,
     "metadata": {},
     "output_type": "execute_result"
    }
   ],
   "source": [
    "data"
   ]
  },
  {
   "cell_type": "code",
   "execution_count": 22,
   "id": "be277329",
   "metadata": {},
   "outputs": [
    {
     "ename": "NameError",
     "evalue": "name 'row' is not defined",
     "output_type": "error",
     "traceback": [
      "\u001b[1;31m---------------------------------------------------------------------------\u001b[0m",
      "\u001b[1;31mNameError\u001b[0m                                 Traceback (most recent call last)",
      "Input \u001b[1;32mIn [22]\u001b[0m, in \u001b[0;36m<cell line: 1>\u001b[1;34m()\u001b[0m\n\u001b[1;32m----> 1\u001b[0m df \u001b[38;5;241m=\u001b[39m pd\u001b[38;5;241m.\u001b[39mDataFrame(data\u001b[38;5;241m=\u001b[39mdata, index\u001b[38;5;241m=\u001b[39m\u001b[43mrow\u001b[49m, columns\u001b[38;5;241m=\u001b[39mcol)\n",
      "\u001b[1;31mNameError\u001b[0m: name 'row' is not defined"
     ]
    }
   ],
   "source": [
    "df = pd.DataFrame(data=data, index=row, columns=col)"
   ]
  },
  {
   "cell_type": "code",
   "execution_count": 23,
   "id": "abbc305e",
   "metadata": {},
   "outputs": [
    {
     "ename": "NameError",
     "evalue": "name 'df' is not defined",
     "output_type": "error",
     "traceback": [
      "\u001b[1;31m---------------------------------------------------------------------------\u001b[0m",
      "\u001b[1;31mNameError\u001b[0m                                 Traceback (most recent call last)",
      "Input \u001b[1;32mIn [23]\u001b[0m, in \u001b[0;36m<cell line: 1>\u001b[1;34m()\u001b[0m\n\u001b[1;32m----> 1\u001b[0m \u001b[38;5;28mmin\u001b[39m \u001b[38;5;241m=\u001b[39m \u001b[43mdf\u001b[49m[\u001b[38;5;124m'\u001b[39m\u001b[38;5;124mopen\u001b[39m\u001b[38;5;124m'\u001b[39m]\u001b[38;5;241m.\u001b[39mmin()\n",
      "\u001b[1;31mNameError\u001b[0m: name 'df' is not defined"
     ]
    }
   ],
   "source": [
    "min = df['open'].min()"
   ]
  },
  {
   "cell_type": "code",
   "execution_count": null,
   "id": "71e9bedb",
   "metadata": {},
   "outputs": [],
   "source": []
  },
  {
   "cell_type": "code",
   "execution_count": 10,
   "id": "bfb32cb8",
   "metadata": {},
   "outputs": [
    {
     "data": {
      "text/plain": [
       "<function min>"
      ]
     },
     "execution_count": 10,
     "metadata": {},
     "output_type": "execute_result"
    }
   ],
   "source": [
    "min"
   ]
  },
  {
   "cell_type": "code",
   "execution_count": 11,
   "id": "d1c6e8a7",
   "metadata": {},
   "outputs": [
    {
     "ename": "NameError",
     "evalue": "name 'df' is not defined",
     "output_type": "error",
     "traceback": [
      "\u001b[1;31m---------------------------------------------------------------------------\u001b[0m",
      "\u001b[1;31mNameError\u001b[0m                                 Traceback (most recent call last)",
      "Input \u001b[1;32mIn [11]\u001b[0m, in \u001b[0;36m<cell line: 1>\u001b[1;34m()\u001b[0m\n\u001b[1;32m----> 1\u001b[0m \u001b[38;5;28mmax\u001b[39m \u001b[38;5;241m=\u001b[39m \u001b[43mdf\u001b[49m[\u001b[38;5;124m'\u001b[39m\u001b[38;5;124mopen\u001b[39m\u001b[38;5;124m'\u001b[39m]\u001b[38;5;241m.\u001b[39mmax()\n",
      "\u001b[1;31mNameError\u001b[0m: name 'df' is not defined"
     ]
    }
   ],
   "source": [
    "max = df['open'].max()"
   ]
  },
  {
   "cell_type": "code",
   "execution_count": 12,
   "id": "f14aece5",
   "metadata": {},
   "outputs": [
    {
     "data": {
      "text/plain": [
       "<function sum(iterable, /, start=0)>"
      ]
     },
     "execution_count": 12,
     "metadata": {},
     "output_type": "execute_result"
    }
   ],
   "source": [
    "sum"
   ]
  },
  {
   "cell_type": "code",
   "execution_count": 13,
   "id": "5254e1f6",
   "metadata": {},
   "outputs": [
    {
     "ename": "NameError",
     "evalue": "name 'df' is not defined",
     "output_type": "error",
     "traceback": [
      "\u001b[1;31m---------------------------------------------------------------------------\u001b[0m",
      "\u001b[1;31mNameError\u001b[0m                                 Traceback (most recent call last)",
      "Input \u001b[1;32mIn [13]\u001b[0m, in \u001b[0;36m<cell line: 1>\u001b[1;34m()\u001b[0m\n\u001b[1;32m----> 1\u001b[0m \u001b[43mdf\u001b[49m[\u001b[38;5;124m'\u001b[39m\u001b[38;5;124mlow\u001b[39m\u001b[38;5;124m'\u001b[39m]\u001b[38;5;241m.\u001b[39miloc[\u001b[38;5;241m99\u001b[39m]\n",
      "\u001b[1;31mNameError\u001b[0m: name 'df' is not defined"
     ]
    }
   ],
   "source": [
    "df['low'].iloc[99]"
   ]
  },
  {
   "cell_type": "code",
   "execution_count": 14,
   "id": "f8b28c2d",
   "metadata": {},
   "outputs": [
    {
     "ename": "NameError",
     "evalue": "name 'df' is not defined",
     "output_type": "error",
     "traceback": [
      "\u001b[1;31m---------------------------------------------------------------------------\u001b[0m",
      "\u001b[1;31mNameError\u001b[0m                                 Traceback (most recent call last)",
      "Input \u001b[1;32mIn [14]\u001b[0m, in \u001b[0;36m<cell line: 1>\u001b[1;34m()\u001b[0m\n\u001b[1;32m----> 1\u001b[0m \u001b[43mdf\u001b[49m\u001b[38;5;241m.\u001b[39mhead()\n",
      "\u001b[1;31mNameError\u001b[0m: name 'df' is not defined"
     ]
    }
   ],
   "source": [
    "df.head()"
   ]
  },
  {
   "cell_type": "code",
   "execution_count": 15,
   "id": "c4c45689",
   "metadata": {},
   "outputs": [
    {
     "ename": "NameError",
     "evalue": "name 'df' is not defined",
     "output_type": "error",
     "traceback": [
      "\u001b[1;31m---------------------------------------------------------------------------\u001b[0m",
      "\u001b[1;31mNameError\u001b[0m                                 Traceback (most recent call last)",
      "Input \u001b[1;32mIn [15]\u001b[0m, in \u001b[0;36m<cell line: 1>\u001b[1;34m()\u001b[0m\n\u001b[1;32m----> 1\u001b[0m \u001b[43mdf\u001b[49m\n",
      "\u001b[1;31mNameError\u001b[0m: name 'df' is not defined"
     ]
    }
   ],
   "source": [
    "df"
   ]
  },
  {
   "cell_type": "code",
   "execution_count": 16,
   "id": "1c04751a",
   "metadata": {},
   "outputs": [
    {
     "ename": "NameError",
     "evalue": "name 'df' is not defined",
     "output_type": "error",
     "traceback": [
      "\u001b[1;31m---------------------------------------------------------------------------\u001b[0m",
      "\u001b[1;31mNameError\u001b[0m                                 Traceback (most recent call last)",
      "Input \u001b[1;32mIn [16]\u001b[0m, in \u001b[0;36m<cell line: 1>\u001b[1;34m()\u001b[0m\n\u001b[1;32m----> 1\u001b[0m \u001b[43mdf\u001b[49m[\u001b[38;5;124m'\u001b[39m\u001b[38;5;124mavr\u001b[39m\u001b[38;5;124m'\u001b[39m]\u001b[38;5;241m.\u001b[39msort_index(ascending \u001b[38;5;241m=\u001b[39m \u001b[38;5;28;01mTrue\u001b[39;00m)\n",
      "\u001b[1;31mNameError\u001b[0m: name 'df' is not defined"
     ]
    }
   ],
   "source": [
    "df['avr'].sort_index(ascending = True)"
   ]
  },
  {
   "cell_type": "code",
   "execution_count": 17,
   "id": "cc124185",
   "metadata": {},
   "outputs": [
    {
     "ename": "NameError",
     "evalue": "name 'df' is not defined",
     "output_type": "error",
     "traceback": [
      "\u001b[1;31m---------------------------------------------------------------------------\u001b[0m",
      "\u001b[1;31mNameError\u001b[0m                                 Traceback (most recent call last)",
      "Input \u001b[1;32mIn [17]\u001b[0m, in \u001b[0;36m<cell line: 1>\u001b[1;34m()\u001b[0m\n\u001b[1;32m----> 1\u001b[0m \u001b[43mdf\u001b[49m[\u001b[38;5;124m'\u001b[39m\u001b[38;5;124mavr\u001b[39m\u001b[38;5;124m'\u001b[39m]\u001b[38;5;241m.\u001b[39msort_index(by\u001b[38;5;241m=\u001b[39m\u001b[38;5;124m'\u001b[39m\u001b[38;5;124mavr\u001b[39m\u001b[38;5;124m'\u001b[39m)\n",
      "\u001b[1;31mNameError\u001b[0m: name 'df' is not defined"
     ]
    }
   ],
   "source": [
    "df['avr'].sort_index(by='avr')"
   ]
  },
  {
   "cell_type": "code",
   "execution_count": 18,
   "id": "bd45a8e6",
   "metadata": {},
   "outputs": [
    {
     "ename": "NameError",
     "evalue": "name 'df' is not defined",
     "output_type": "error",
     "traceback": [
      "\u001b[1;31m---------------------------------------------------------------------------\u001b[0m",
      "\u001b[1;31mNameError\u001b[0m                                 Traceback (most recent call last)",
      "Input \u001b[1;32mIn [18]\u001b[0m, in \u001b[0;36m<cell line: 1>\u001b[1;34m()\u001b[0m\n\u001b[1;32m----> 1\u001b[0m \u001b[43mdf\u001b[49m\u001b[38;5;241m.\u001b[39mindex\n",
      "\u001b[1;31mNameError\u001b[0m: name 'df' is not defined"
     ]
    }
   ],
   "source": [
    "df.index"
   ]
  },
  {
   "cell_type": "code",
   "execution_count": 21,
   "id": "d0e15891",
   "metadata": {},
   "outputs": [
    {
     "data": {
      "text/html": [
       "<div>\n",
       "<style scoped>\n",
       "    .dataframe tbody tr th:only-of-type {\n",
       "        vertical-align: middle;\n",
       "    }\n",
       "\n",
       "    .dataframe tbody tr th {\n",
       "        vertical-align: top;\n",
       "    }\n",
       "\n",
       "    .dataframe thead th {\n",
       "        text-align: right;\n",
       "    }\n",
       "</style>\n",
       "<table border=\"1\" class=\"dataframe\">\n",
       "  <thead>\n",
       "    <tr style=\"text-align: right;\">\n",
       "      <th></th>\n",
       "      <th>1</th>\n",
       "      <th>1</th>\n",
       "      <th>1</th>\n",
       "      <th>1</th>\n",
       "      <th>1</th>\n",
       "      <th>1</th>\n",
       "      <th>1</th>\n",
       "      <th>1</th>\n",
       "      <th>1</th>\n",
       "    </tr>\n",
       "  </thead>\n",
       "  <tbody>\n",
       "    <tr>\n",
       "      <th>2021-11-05 09:00:00+09:00</th>\n",
       "      <td>NaN</td>\n",
       "      <td>NaN</td>\n",
       "      <td>NaN</td>\n",
       "      <td>NaN</td>\n",
       "      <td>NaN</td>\n",
       "      <td>NaN</td>\n",
       "      <td>NaN</td>\n",
       "      <td>NaN</td>\n",
       "      <td>NaN</td>\n",
       "    </tr>\n",
       "    <tr>\n",
       "      <th>2021-11-06 09:00:00+09:00</th>\n",
       "      <td>NaN</td>\n",
       "      <td>NaN</td>\n",
       "      <td>NaN</td>\n",
       "      <td>NaN</td>\n",
       "      <td>NaN</td>\n",
       "      <td>NaN</td>\n",
       "      <td>NaN</td>\n",
       "      <td>NaN</td>\n",
       "      <td>NaN</td>\n",
       "    </tr>\n",
       "    <tr>\n",
       "      <th>2021-11-07 09:00:00+09:00</th>\n",
       "      <td>NaN</td>\n",
       "      <td>NaN</td>\n",
       "      <td>NaN</td>\n",
       "      <td>NaN</td>\n",
       "      <td>NaN</td>\n",
       "      <td>NaN</td>\n",
       "      <td>NaN</td>\n",
       "      <td>NaN</td>\n",
       "      <td>NaN</td>\n",
       "    </tr>\n",
       "    <tr>\n",
       "      <th>2021-11-08 09:00:00+09:00</th>\n",
       "      <td>NaN</td>\n",
       "      <td>NaN</td>\n",
       "      <td>NaN</td>\n",
       "      <td>NaN</td>\n",
       "      <td>NaN</td>\n",
       "      <td>NaN</td>\n",
       "      <td>NaN</td>\n",
       "      <td>NaN</td>\n",
       "      <td>NaN</td>\n",
       "    </tr>\n",
       "    <tr>\n",
       "      <th>2021-11-09 09:00:00+09:00</th>\n",
       "      <td>NaN</td>\n",
       "      <td>NaN</td>\n",
       "      <td>NaN</td>\n",
       "      <td>NaN</td>\n",
       "      <td>NaN</td>\n",
       "      <td>NaN</td>\n",
       "      <td>NaN</td>\n",
       "      <td>NaN</td>\n",
       "      <td>NaN</td>\n",
       "    </tr>\n",
       "    <tr>\n",
       "      <th>...</th>\n",
       "      <td>...</td>\n",
       "      <td>...</td>\n",
       "      <td>...</td>\n",
       "      <td>...</td>\n",
       "      <td>...</td>\n",
       "      <td>...</td>\n",
       "      <td>...</td>\n",
       "      <td>...</td>\n",
       "      <td>...</td>\n",
       "    </tr>\n",
       "    <tr>\n",
       "      <th>2022-05-19 09:00:00+09:00</th>\n",
       "      <td>NaN</td>\n",
       "      <td>NaN</td>\n",
       "      <td>NaN</td>\n",
       "      <td>NaN</td>\n",
       "      <td>NaN</td>\n",
       "      <td>NaN</td>\n",
       "      <td>NaN</td>\n",
       "      <td>NaN</td>\n",
       "      <td>NaN</td>\n",
       "    </tr>\n",
       "    <tr>\n",
       "      <th>2022-05-20 09:00:00+09:00</th>\n",
       "      <td>NaN</td>\n",
       "      <td>NaN</td>\n",
       "      <td>NaN</td>\n",
       "      <td>NaN</td>\n",
       "      <td>NaN</td>\n",
       "      <td>NaN</td>\n",
       "      <td>NaN</td>\n",
       "      <td>NaN</td>\n",
       "      <td>NaN</td>\n",
       "    </tr>\n",
       "    <tr>\n",
       "      <th>2022-05-21 09:00:00+09:00</th>\n",
       "      <td>NaN</td>\n",
       "      <td>NaN</td>\n",
       "      <td>NaN</td>\n",
       "      <td>NaN</td>\n",
       "      <td>NaN</td>\n",
       "      <td>NaN</td>\n",
       "      <td>NaN</td>\n",
       "      <td>NaN</td>\n",
       "      <td>NaN</td>\n",
       "    </tr>\n",
       "    <tr>\n",
       "      <th>2022-05-22 09:00:00+09:00</th>\n",
       "      <td>NaN</td>\n",
       "      <td>NaN</td>\n",
       "      <td>NaN</td>\n",
       "      <td>NaN</td>\n",
       "      <td>NaN</td>\n",
       "      <td>NaN</td>\n",
       "      <td>NaN</td>\n",
       "      <td>NaN</td>\n",
       "      <td>NaN</td>\n",
       "    </tr>\n",
       "    <tr>\n",
       "      <th>2022-05-23 09:00:00+09:00</th>\n",
       "      <td>NaN</td>\n",
       "      <td>NaN</td>\n",
       "      <td>NaN</td>\n",
       "      <td>NaN</td>\n",
       "      <td>NaN</td>\n",
       "      <td>NaN</td>\n",
       "      <td>NaN</td>\n",
       "      <td>NaN</td>\n",
       "      <td>NaN</td>\n",
       "    </tr>\n",
       "  </tbody>\n",
       "</table>\n",
       "<p>200 rows × 9 columns</p>\n",
       "</div>"
      ],
      "text/plain": [
       "                            1   1   1   1   1   1   1   1   1\n",
       "2021-11-05 09:00:00+09:00 NaN NaN NaN NaN NaN NaN NaN NaN NaN\n",
       "2021-11-06 09:00:00+09:00 NaN NaN NaN NaN NaN NaN NaN NaN NaN\n",
       "2021-11-07 09:00:00+09:00 NaN NaN NaN NaN NaN NaN NaN NaN NaN\n",
       "2021-11-08 09:00:00+09:00 NaN NaN NaN NaN NaN NaN NaN NaN NaN\n",
       "2021-11-09 09:00:00+09:00 NaN NaN NaN NaN NaN NaN NaN NaN NaN\n",
       "...                        ..  ..  ..  ..  ..  ..  ..  ..  ..\n",
       "2022-05-19 09:00:00+09:00 NaN NaN NaN NaN NaN NaN NaN NaN NaN\n",
       "2022-05-20 09:00:00+09:00 NaN NaN NaN NaN NaN NaN NaN NaN NaN\n",
       "2022-05-21 09:00:00+09:00 NaN NaN NaN NaN NaN NaN NaN NaN NaN\n",
       "2022-05-22 09:00:00+09:00 NaN NaN NaN NaN NaN NaN NaN NaN NaN\n",
       "2022-05-23 09:00:00+09:00 NaN NaN NaN NaN NaN NaN NaN NaN NaN\n",
       "\n",
       "[200 rows x 9 columns]"
      ]
     },
     "execution_count": 21,
     "metadata": {},
     "output_type": "execute_result"
    }
   ],
   "source": [
    "data.reindex(['1','1','1','1','1','1','1','1','1'], axis=1)"
   ]
  },
  {
   "cell_type": "code",
   "execution_count": null,
   "id": "76c4dde7",
   "metadata": {},
   "outputs": [],
   "source": []
  }
 ],
 "metadata": {
  "kernelspec": {
   "display_name": "Python 3 (ipykernel)",
   "language": "python",
   "name": "python3"
  },
  "language_info": {
   "codemirror_mode": {
    "name": "ipython",
    "version": 3
   },
   "file_extension": ".py",
   "mimetype": "text/x-python",
   "name": "python",
   "nbconvert_exporter": "python",
   "pygments_lexer": "ipython3",
   "version": "3.9.12"
  }
 },
 "nbformat": 4,
 "nbformat_minor": 5
}
