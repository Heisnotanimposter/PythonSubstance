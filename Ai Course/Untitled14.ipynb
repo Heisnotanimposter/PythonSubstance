{
 "cells": [
  {
   "cell_type": "code",
   "execution_count": 3,
   "id": "8c18de26",
   "metadata": {},
   "outputs": [],
   "source": [
    "#if ~라면 , If1 = ture, if0 = false \n",
    "#tab = space*4\n",
    "#if문 조건문\n",
    "\n",
    "if 조건식: # <- if 문의 끝\n",
    "    print('조건식이 참 입니다')\n",
    "else:\n",
    "    print('조건식이 참이 아닙니다')\n"
   ]
  },
  {
   "cell_type": "code",
   "execution_count": 8,
   "id": "48cf8f71",
   "metadata": {},
   "outputs": [],
   "source": [
    "a = True # left==right 을 비롯한 비교 연산자들, >, <, >=, <="
   ]
  },
  {
   "cell_type": "code",
   "execution_count": 9,
   "id": "76f25697",
   "metadata": {},
   "outputs": [
    {
     "name": "stdout",
     "output_type": "stream",
     "text": [
      "어 맞어\n"
     ]
    }
   ],
   "source": [
    "if a == True:\n",
    "    print('어 맞어')\n",
    "else:\n",
    "    print('아닌데?')"
   ]
  },
  {
   "cell_type": "code",
   "execution_count": 10,
   "id": "699e1e79",
   "metadata": {},
   "outputs": [],
   "source": [
    "Hungry = True"
   ]
  },
  {
   "cell_type": "code",
   "execution_count": 11,
   "id": "7e198eb6",
   "metadata": {},
   "outputs": [
    {
     "name": "stdout",
     "output_type": "stream",
     "text": [
      "배고파요\n"
     ]
    }
   ],
   "source": [
    "if Hungry == True:\n",
    "    print('배고파요')\n",
    "else:\n",
    "    print('아닌데?')"
   ]
  },
  {
   "cell_type": "code",
   "execution_count": 12,
   "id": "13f07708",
   "metadata": {},
   "outputs": [
    {
     "name": "stdout",
     "output_type": "stream",
     "text": [
      "무슨소리야, 3이 더 크지!\n"
     ]
    }
   ],
   "source": [
    "if 1>3:\n",
    "    print(\"응 1은 3보다 커\")\n",
    "else:\n",
    "    print(\"무슨소리야, 3이 더 크지!\")"
   ]
  },
  {
   "cell_type": "code",
   "execution_count": 14,
   "id": "140847e8",
   "metadata": {},
   "outputs": [
    {
     "name": "stdout",
     "output_type": "stream",
     "text": [
      "틀렸어\n"
     ]
    }
   ],
   "source": [
    "if 100>= (110-5):\n",
    "    print(\"이게 맞냐?\")\n",
    "else:\n",
    "    print(\"틀렸어\")"
   ]
  },
  {
   "cell_type": "code",
   "execution_count": 15,
   "id": "9b584119",
   "metadata": {},
   "outputs": [],
   "source": [
    "sleep = False"
   ]
  },
  {
   "cell_type": "code",
   "execution_count": 17,
   "id": "6cfb3591",
   "metadata": {},
   "outputs": [
    {
     "name": "stdout",
     "output_type": "stream",
     "text": [
      "졸리지 않아요\n"
     ]
    }
   ],
   "source": [
    "if sleep == False:\n",
    "    print(\"졸리지 않아요\")\n",
    "else:\n",
    "    print(\"졸려요\")"
   ]
  }
 ],
 "metadata": {
  "kernelspec": {
   "display_name": "Python 3 (ipykernel)",
   "language": "python",
   "name": "python3"
  },
  "language_info": {
   "codemirror_mode": {
    "name": "ipython",
    "version": 3
   },
   "file_extension": ".py",
   "mimetype": "text/x-python",
   "name": "python",
   "nbconvert_exporter": "python",
   "pygments_lexer": "ipython3",
   "version": "3.9.7"
  }
 },
 "nbformat": 4,
 "nbformat_minor": 5
}
