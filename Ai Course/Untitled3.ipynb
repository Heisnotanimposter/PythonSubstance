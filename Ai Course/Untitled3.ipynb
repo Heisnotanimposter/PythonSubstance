{
 "cells": [
  {
   "cell_type": "code",
   "execution_count": 32,
   "id": "c039cf20",
   "metadata": {},
   "outputs": [],
   "source": [
    "a = 10"
   ]
  },
  {
   "cell_type": "code",
   "execution_count": 33,
   "id": "33db04bd",
   "metadata": {},
   "outputs": [
    {
     "data": {
      "text/plain": [
       "10"
      ]
     },
     "execution_count": 33,
     "metadata": {},
     "output_type": "execute_result"
    }
   ],
   "source": [
    "a"
   ]
  },
  {
   "cell_type": "code",
   "execution_count": 34,
   "id": "437fb20b",
   "metadata": {},
   "outputs": [],
   "source": [
    "b = 20"
   ]
  },
  {
   "cell_type": "code",
   "execution_count": 35,
   "id": "5051a285",
   "metadata": {},
   "outputs": [
    {
     "data": {
      "text/plain": [
       "20"
      ]
     },
     "execution_count": 35,
     "metadata": {},
     "output_type": "execute_result"
    }
   ],
   "source": [
    "b"
   ]
  },
  {
   "cell_type": "code",
   "execution_count": 36,
   "id": "9c1e5e56",
   "metadata": {},
   "outputs": [],
   "source": [
    "c = b - a"
   ]
  },
  {
   "cell_type": "code",
   "execution_count": 37,
   "id": "4ff32263",
   "metadata": {},
   "outputs": [
    {
     "data": {
      "text/plain": [
       "10"
      ]
     },
     "execution_count": 37,
     "metadata": {},
     "output_type": "execute_result"
    }
   ],
   "source": [
    "c"
   ]
  },
  {
   "cell_type": "code",
   "execution_count": 38,
   "id": "f4cb76f5",
   "metadata": {},
   "outputs": [],
   "source": [
    "이승원 =\"20대\""
   ]
  },
  {
   "cell_type": "code",
   "execution_count": 39,
   "id": "f2c0c63f",
   "metadata": {},
   "outputs": [
    {
     "data": {
      "text/plain": [
       "'20대'"
      ]
     },
     "execution_count": 39,
     "metadata": {},
     "output_type": "execute_result"
    }
   ],
   "source": [
    "이승원"
   ]
  },
  {
   "cell_type": "code",
   "execution_count": 40,
   "id": "c3af0d0d",
   "metadata": {},
   "outputs": [],
   "source": [
    "여기는 = \"교통대\""
   ]
  },
  {
   "cell_type": "code",
   "execution_count": 41,
   "id": "67c32348",
   "metadata": {},
   "outputs": [
    {
     "data": {
      "text/plain": [
       "'교통대'"
      ]
     },
     "execution_count": 41,
     "metadata": {},
     "output_type": "execute_result"
    }
   ],
   "source": [
    "여기는"
   ]
  },
  {
   "cell_type": "code",
   "execution_count": 42,
   "id": "8b432018",
   "metadata": {},
   "outputs": [],
   "source": [
    "lang1 = [\"C\", \"C++\",\"JAVA\"]\n",
    "lang2 = [\"Python\", \"Go\", \"C#\"]"
   ]
  },
  {
   "cell_type": "code",
   "execution_count": 43,
   "id": "2734fdd0",
   "metadata": {},
   "outputs": [],
   "source": [
    "langs = lang1 + lang2"
   ]
  },
  {
   "cell_type": "code",
   "execution_count": 44,
   "id": "fde5b7c0",
   "metadata": {},
   "outputs": [
    {
     "data": {
      "text/plain": [
       "['C', 'C++', 'JAVA', 'Python', 'Go', 'C#']"
      ]
     },
     "execution_count": 44,
     "metadata": {},
     "output_type": "execute_result"
    }
   ],
   "source": [
    "langs"
   ]
  },
  {
   "cell_type": "code",
   "execution_count": 53,
   "id": "8a9db035",
   "metadata": {},
   "outputs": [],
   "source": [
    "nums = [1,2,3,4,5,6,7]"
   ]
  },
  {
   "cell_type": "markdown",
   "id": "fd97d814",
   "metadata": {},
   "source": []
  },
  {
   "cell_type": "code",
   "execution_count": 54,
   "id": "6eeeea0a",
   "metadata": {},
   "outputs": [
    {
     "data": {
      "text/plain": [
       "7"
      ]
     },
     "execution_count": 54,
     "metadata": {},
     "output_type": "execute_result"
    }
   ],
   "source": [
    "max(nums)"
   ]
  },
  {
   "cell_type": "code",
   "execution_count": 55,
   "id": "4b5a8d0c",
   "metadata": {},
   "outputs": [
    {
     "data": {
      "text/plain": [
       "1"
      ]
     },
     "execution_count": 55,
     "metadata": {},
     "output_type": "execute_result"
    }
   ],
   "source": [
    "min(nums)"
   ]
  },
  {
   "cell_type": "code",
   "execution_count": 56,
   "id": "2761055d",
   "metadata": {},
   "outputs": [
    {
     "data": {
      "text/plain": [
       "28"
      ]
     },
     "execution_count": 56,
     "metadata": {},
     "output_type": "execute_result"
    }
   ],
   "source": [
    "sum(nums)"
   ]
  },
  {
   "cell_type": "code",
   "execution_count": 57,
   "id": "1daa670a",
   "metadata": {},
   "outputs": [],
   "source": [
    "cook = [\"1\",\"2\",\"3\",\"4\",\"5\",\"6\",\"7\",\"8\",\"9\"]"
   ]
  },
  {
   "cell_type": "code",
   "execution_count": 58,
   "id": "85277287",
   "metadata": {},
   "outputs": [
    {
     "data": {
      "text/plain": [
       "['1', '2', '3', '4', '5', '6', '7', '8', '9']"
      ]
     },
     "execution_count": 58,
     "metadata": {},
     "output_type": "execute_result"
    }
   ],
   "source": [
    "cook"
   ]
  },
  {
   "cell_type": "code",
   "execution_count": 59,
   "id": "10fbf96d",
   "metadata": {},
   "outputs": [
    {
     "data": {
      "text/plain": [
       "9"
      ]
     },
     "execution_count": 59,
     "metadata": {},
     "output_type": "execute_result"
    }
   ],
   "source": [
    "len(cook)"
   ]
  },
  {
   "cell_type": "code",
   "execution_count": 60,
   "id": "3117c1b4",
   "metadata": {},
   "outputs": [
    {
     "data": {
      "text/plain": [
       "4.0"
      ]
     },
     "execution_count": 60,
     "metadata": {},
     "output_type": "execute_result"
    }
   ],
   "source": [
    "sum(nums) / len(nums) #평균 구하기"
   ]
  },
  {
   "cell_type": "code",
   "execution_count": 84,
   "id": "195b3671",
   "metadata": {},
   "outputs": [],
   "source": [
    "#tuple = 튜플 / 리스트(리스트는 값을 변화) == 튜플"
   ]
  },
  {
   "cell_type": "code",
   "execution_count": 61,
   "id": "14790c52",
   "metadata": {},
   "outputs": [],
   "source": [
    "menu = ['apple', 'kiwi', 'melon']"
   ]
  },
  {
   "cell_type": "code",
   "execution_count": 62,
   "id": "9367c8ea",
   "metadata": {},
   "outputs": [],
   "source": [
    "menu[0] = 'banana'"
   ]
  },
  {
   "cell_type": "code",
   "execution_count": 63,
   "id": "ed15b9a0",
   "metadata": {},
   "outputs": [
    {
     "data": {
      "text/plain": [
       "['banana', 'kiwi', 'melon']"
      ]
     },
     "execution_count": 63,
     "metadata": {},
     "output_type": "execute_result"
    }
   ],
   "source": [
    "menu"
   ]
  },
  {
   "cell_type": "code",
   "execution_count": 86,
   "id": "fa42653d",
   "metadata": {},
   "outputs": [],
   "source": [
    "출석부 = ['권준혁', '권혁민', '김건우', '김규빈']"
   ]
  },
  {
   "cell_type": "code",
   "execution_count": 87,
   "id": "089d8854",
   "metadata": {},
   "outputs": [],
   "source": [
    "출석부[0] = '정태양'"
   ]
  },
  {
   "cell_type": "code",
   "execution_count": 88,
   "id": "7e04ad2e",
   "metadata": {},
   "outputs": [
    {
     "data": {
      "text/plain": [
       "['정태양', '권혁민', '김건우', '김규빈']"
      ]
     },
     "execution_count": 88,
     "metadata": {},
     "output_type": "execute_result"
    }
   ],
   "source": [
    "출석부"
   ]
  },
  {
   "cell_type": "code",
   "execution_count": null,
   "id": "14db73a0",
   "metadata": {},
   "outputs": [],
   "source": []
  }
 ],
 "metadata": {
  "kernelspec": {
   "display_name": "Python 3 (ipykernel)",
   "language": "python",
   "name": "python3"
  },
  "language_info": {
   "codemirror_mode": {
    "name": "ipython",
    "version": 3
   },
   "file_extension": ".py",
   "mimetype": "text/x-python",
   "name": "python",
   "nbconvert_exporter": "python",
   "pygments_lexer": "ipython3",
   "version": "3.9.7"
  }
 },
 "nbformat": 4,
 "nbformat_minor": 5
}
