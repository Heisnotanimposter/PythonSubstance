{
 "cells": [
  {
   "cell_type": "code",
   "execution_count": 1,
   "id": "060fb091",
   "metadata": {},
   "outputs": [],
   "source": [
    "a= \"  삼성전자  \""
   ]
  },
  {
   "cell_type": "code",
   "execution_count": 3,
   "id": "20154e92",
   "metadata": {
    "scrolled": true
   },
   "outputs": [
    {
     "data": {
      "text/plain": [
       "'  삼성전자  '"
      ]
     },
     "execution_count": 3,
     "metadata": {},
     "output_type": "execute_result"
    }
   ],
   "source": [
    "a"
   ]
  },
  {
   "cell_type": "code",
   "execution_count": 5,
   "id": "8dd7b2df",
   "metadata": {},
   "outputs": [
    {
     "data": {
      "text/plain": [
       "'삼성전자'"
      ]
     },
     "execution_count": 5,
     "metadata": {},
     "output_type": "execute_result"
    }
   ],
   "source": [
    "a.strip() #strip = 문장의 양 사이드에 있는 공백들을 지워주는 기능"
   ]
  },
  {
   "cell_type": "code",
   "execution_count": 6,
   "id": "7443bc06",
   "metadata": {},
   "outputs": [],
   "source": [
    "a = \"abc\""
   ]
  },
  {
   "cell_type": "code",
   "execution_count": 7,
   "id": "86a07ffb",
   "metadata": {},
   "outputs": [],
   "source": [
    "A = a.upper()"
   ]
  },
  {
   "cell_type": "code",
   "execution_count": 8,
   "id": "69f728a5",
   "metadata": {},
   "outputs": [
    {
     "data": {
      "text/plain": [
       "'abc'"
      ]
     },
     "execution_count": 8,
     "metadata": {},
     "output_type": "execute_result"
    }
   ],
   "source": [
    "a"
   ]
  },
  {
   "cell_type": "code",
   "execution_count": 9,
   "id": "47001d9f",
   "metadata": {},
   "outputs": [
    {
     "data": {
      "text/plain": [
       "'ABC'"
      ]
     },
     "execution_count": 9,
     "metadata": {},
     "output_type": "execute_result"
    }
   ],
   "source": [
    "A"
   ]
  },
  {
   "cell_type": "code",
   "execution_count": 10,
   "id": "f3ace3e9",
   "metadata": {},
   "outputs": [
    {
     "data": {
      "text/plain": [
       "'abc'"
      ]
     },
     "execution_count": 10,
     "metadata": {},
     "output_type": "execute_result"
    }
   ],
   "source": [
    "A.lower()"
   ]
  },
  {
   "cell_type": "code",
   "execution_count": 12,
   "id": "d821fa39",
   "metadata": {},
   "outputs": [],
   "source": [
    "c =\"2022-05-11\""
   ]
  },
  {
   "cell_type": "code",
   "execution_count": 14,
   "id": "83dfc73a",
   "metadata": {},
   "outputs": [],
   "source": [
    "date = c.split(\"-\")"
   ]
  },
  {
   "cell_type": "code",
   "execution_count": 15,
   "id": "81071224",
   "metadata": {},
   "outputs": [
    {
     "data": {
      "text/plain": [
       "['2022', '05', '11']"
      ]
     },
     "execution_count": 15,
     "metadata": {},
     "output_type": "execute_result"
    }
   ],
   "source": [
    "date"
   ]
  },
  {
   "cell_type": "code",
   "execution_count": 18,
   "id": "e43f9ba7",
   "metadata": {},
   "outputs": [
    {
     "data": {
      "text/plain": [
       "list"
      ]
     },
     "execution_count": 18,
     "metadata": {},
     "output_type": "execute_result"
    }
   ],
   "source": [
    "type(date)"
   ]
  },
  {
   "cell_type": "code",
   "execution_count": 19,
   "id": "6bd0fa98",
   "metadata": {},
   "outputs": [
    {
     "data": {
      "text/plain": [
       "['2022', '05', '11']"
      ]
     },
     "execution_count": 19,
     "metadata": {},
     "output_type": "execute_result"
    }
   ],
   "source": [
    "date"
   ]
  },
  {
   "cell_type": "code",
   "execution_count": 20,
   "id": "2aad472e",
   "metadata": {},
   "outputs": [],
   "source": [
    "date.append(\"60\") #append 추가하는 기능"
   ]
  },
  {
   "cell_type": "code",
   "execution_count": 22,
   "id": "e2861d94",
   "metadata": {},
   "outputs": [
    {
     "data": {
      "text/plain": [
       "['2022', '05', '11', '60']"
      ]
     },
     "execution_count": 22,
     "metadata": {},
     "output_type": "execute_result"
    }
   ],
   "source": [
    "date"
   ]
  },
  {
   "cell_type": "code",
   "execution_count": 23,
   "id": "ee85ad5b",
   "metadata": {},
   "outputs": [],
   "source": [
    "date.clear() #clear 대괄호 안 모두 클리어"
   ]
  },
  {
   "cell_type": "code",
   "execution_count": 24,
   "id": "8e5a6144",
   "metadata": {},
   "outputs": [
    {
     "data": {
      "text/plain": [
       "[]"
      ]
     },
     "execution_count": 24,
     "metadata": {},
     "output_type": "execute_result"
    }
   ],
   "source": [
    "date"
   ]
  },
  {
   "cell_type": "code",
   "execution_count": 25,
   "id": "124d3586",
   "metadata": {},
   "outputs": [],
   "source": [
    "date = ['2022', '05', '11', '60']"
   ]
  },
  {
   "cell_type": "code",
   "execution_count": 26,
   "id": "0171ab18",
   "metadata": {},
   "outputs": [
    {
     "data": {
      "text/plain": [
       "['2022', '05', '11', '60']"
      ]
     },
     "execution_count": 26,
     "metadata": {},
     "output_type": "execute_result"
    }
   ],
   "source": [
    "date"
   ]
  },
  {
   "cell_type": "code",
   "execution_count": 27,
   "id": "048153d8",
   "metadata": {},
   "outputs": [],
   "source": [
    "date.append('2022')"
   ]
  },
  {
   "cell_type": "code",
   "execution_count": 28,
   "id": "5c28500e",
   "metadata": {},
   "outputs": [
    {
     "data": {
      "text/plain": [
       "['2022', '05', '11', '60', '2022']"
      ]
     },
     "execution_count": 28,
     "metadata": {},
     "output_type": "execute_result"
    }
   ],
   "source": [
    "date"
   ]
  },
  {
   "cell_type": "code",
   "execution_count": 29,
   "id": "fbcfa446",
   "metadata": {},
   "outputs": [
    {
     "data": {
      "text/plain": [
       "2"
      ]
     },
     "execution_count": 29,
     "metadata": {},
     "output_type": "execute_result"
    }
   ],
   "source": [
    "date.count('2022')"
   ]
  },
  {
   "cell_type": "code",
   "execution_count": 30,
   "id": "31d1d5d6",
   "metadata": {},
   "outputs": [],
   "source": [
    "date2 = ['2022', '05', '12']"
   ]
  },
  {
   "cell_type": "code",
   "execution_count": 31,
   "id": "6dc3b32e",
   "metadata": {},
   "outputs": [],
   "source": [
    "date.extend(date2)"
   ]
  },
  {
   "cell_type": "code",
   "execution_count": 32,
   "id": "6a06fe88",
   "metadata": {},
   "outputs": [
    {
     "data": {
      "text/plain": [
       "['2022', '05', '11', '60', '2022', '2022', '05', '12']"
      ]
     },
     "execution_count": 32,
     "metadata": {},
     "output_type": "execute_result"
    }
   ],
   "source": [
    "date"
   ]
  },
  {
   "cell_type": "code",
   "execution_count": 34,
   "id": "eecc553d",
   "metadata": {},
   "outputs": [
    {
     "data": {
      "text/plain": [
       "0"
      ]
     },
     "execution_count": 34,
     "metadata": {},
     "output_type": "execute_result"
    }
   ],
   "source": [
    "date.index('2022') #index, 번호를 알려주는 기능"
   ]
  },
  {
   "cell_type": "code",
   "execution_count": 35,
   "id": "a3479e13",
   "metadata": {},
   "outputs": [
    {
     "data": {
      "text/plain": [
       "1"
      ]
     },
     "execution_count": 35,
     "metadata": {},
     "output_type": "execute_result"
    }
   ],
   "source": [
    "date.index('05')"
   ]
  },
  {
   "cell_type": "code",
   "execution_count": 36,
   "id": "83cb1f84",
   "metadata": {},
   "outputs": [],
   "source": [
    "date.insert(1, '06')"
   ]
  },
  {
   "cell_type": "code",
   "execution_count": 37,
   "id": "870184db",
   "metadata": {},
   "outputs": [
    {
     "data": {
      "text/plain": [
       "['2022', '06', '05', '11', '60', '2022', '2022', '05', '12']"
      ]
     },
     "execution_count": 37,
     "metadata": {},
     "output_type": "execute_result"
    }
   ],
   "source": [
    "date"
   ]
  },
  {
   "cell_type": "code",
   "execution_count": 38,
   "id": "fe5c11e8",
   "metadata": {},
   "outputs": [
    {
     "data": {
      "text/plain": [
       "'06'"
      ]
     },
     "execution_count": 38,
     "metadata": {},
     "output_type": "execute_result"
    }
   ],
   "source": [
    "date.pop(1)"
   ]
  },
  {
   "cell_type": "code",
   "execution_count": 39,
   "id": "5af4cf48",
   "metadata": {},
   "outputs": [
    {
     "data": {
      "text/plain": [
       "['2022', '05', '11', '60', '2022', '2022', '05', '12']"
      ]
     },
     "execution_count": 39,
     "metadata": {},
     "output_type": "execute_result"
    }
   ],
   "source": [
    "date"
   ]
  },
  {
   "cell_type": "code",
   "execution_count": 40,
   "id": "e405a860",
   "metadata": {},
   "outputs": [],
   "source": [
    "date.remove('2022')"
   ]
  },
  {
   "cell_type": "code",
   "execution_count": 41,
   "id": "43be2aa0",
   "metadata": {},
   "outputs": [
    {
     "data": {
      "text/plain": [
       "['05', '11', '60', '2022', '2022', '05', '12']"
      ]
     },
     "execution_count": 41,
     "metadata": {},
     "output_type": "execute_result"
    }
   ],
   "source": [
    "date"
   ]
  },
  {
   "cell_type": "code",
   "execution_count": 42,
   "id": "f31dbb31",
   "metadata": {},
   "outputs": [],
   "source": [
    "date.reverse() #reverse 역행하는 기능"
   ]
  },
  {
   "cell_type": "code",
   "execution_count": 43,
   "id": "356397f9",
   "metadata": {},
   "outputs": [
    {
     "data": {
      "text/plain": [
       "['12', '05', '2022', '2022', '60', '11', '05']"
      ]
     },
     "execution_count": 43,
     "metadata": {},
     "output_type": "execute_result"
    }
   ],
   "source": [
    "date"
   ]
  },
  {
   "cell_type": "code",
   "execution_count": 46,
   "id": "3bc8133b",
   "metadata": {},
   "outputs": [],
   "source": [
    "date.sort() #sort 다시 정렬하는 기능"
   ]
  },
  {
   "cell_type": "code",
   "execution_count": 47,
   "id": "026839c7",
   "metadata": {},
   "outputs": [
    {
     "data": {
      "text/plain": [
       "['05', '05', '11', '12', '2022', '2022', '60']"
      ]
     },
     "execution_count": 47,
     "metadata": {},
     "output_type": "execute_result"
    }
   ],
   "source": [
    "date"
   ]
  }
 ],
 "metadata": {
  "kernelspec": {
   "display_name": "Python 3 (ipykernel)",
   "language": "python",
   "name": "python3"
  },
  "language_info": {
   "codemirror_mode": {
    "name": "ipython",
    "version": 3
   },
   "file_extension": ".py",
   "mimetype": "text/x-python",
   "name": "python",
   "nbconvert_exporter": "python",
   "pygments_lexer": "ipython3",
   "version": "3.9.7"
  }
 },
 "nbformat": 4,
 "nbformat_minor": 5
}
