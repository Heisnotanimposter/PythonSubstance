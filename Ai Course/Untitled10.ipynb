{
 "cells": [
  {
   "cell_type": "code",
   "execution_count": 32,
   "id": "c8ddc8d0",
   "metadata": {},
   "outputs": [],
   "source": [
    "ice = ['merona','panpare','polapo']"
   ]
  },
  {
   "cell_type": "code",
   "execution_count": 33,
   "id": "394fe2d0",
   "metadata": {},
   "outputs": [
    {
     "data": {
      "text/plain": [
       "list"
      ]
     },
     "execution_count": 33,
     "metadata": {},
     "output_type": "execute_result"
    }
   ],
   "source": [
    "type(ice)"
   ]
  },
  {
   "cell_type": "code",
   "execution_count": 34,
   "id": "985e42be",
   "metadata": {},
   "outputs": [],
   "source": [
    "ice1 = {'merona':1000,'panpare':1200,'polapo':1300}"
   ]
  },
  {
   "cell_type": "code",
   "execution_count": 35,
   "id": "d9d40f43",
   "metadata": {},
   "outputs": [
    {
     "data": {
      "text/plain": [
       "dict"
      ]
     },
     "execution_count": 35,
     "metadata": {},
     "output_type": "execute_result"
    }
   ],
   "source": [
    "type(ice1)"
   ]
  },
  {
   "cell_type": "code",
   "execution_count": 36,
   "id": "49f74d60",
   "metadata": {
    "scrolled": true
   },
   "outputs": [
    {
     "name": "stdout",
     "output_type": "stream",
     "text": [
      "{'merona': 1000, 'panpare': 1200, 'polapo': 1300}\n"
     ]
    }
   ],
   "source": [
    "print(ice1)"
   ]
  },
  {
   "cell_type": "code",
   "execution_count": 47,
   "id": "88c8a9d0",
   "metadata": {},
   "outputs": [],
   "source": [
    "ice1.update ({'amatna':1100,'worldcorn':1400})"
   ]
  },
  {
   "cell_type": "code",
   "execution_count": 48,
   "id": "e87c6bab",
   "metadata": {},
   "outputs": [
    {
     "name": "stdout",
     "output_type": "stream",
     "text": [
      "{'merona': 1000, 'panpare': 1200, 'polapo': 1300, 'amatna': 1100, 'worldcorn': 1400}\n"
     ]
    }
   ],
   "source": [
    "print(ice1)"
   ]
  },
  {
   "cell_type": "code",
   "execution_count": 59,
   "id": "7086611d",
   "metadata": {},
   "outputs": [
    {
     "data": {
      "text/plain": [
       "dict_values([1000, 1200, 1300, 1100, 1400])"
      ]
     },
     "execution_count": 59,
     "metadata": {},
     "output_type": "execute_result"
    }
   ],
   "source": [
    "ice1.values()"
   ]
  },
  {
   "cell_type": "code",
   "execution_count": 61,
   "id": "3fc1317a",
   "metadata": {
    "scrolled": true
   },
   "outputs": [
    {
     "data": {
      "text/plain": [
       "dict_keys(['merona', 'panpare', 'polapo', 'amatna', 'worldcorn'])"
      ]
     },
     "execution_count": 61,
     "metadata": {},
     "output_type": "execute_result"
    }
   ],
   "source": [
    "ice1.keys()"
   ]
  },
  {
   "cell_type": "code",
   "execution_count": 64,
   "id": "96c3f2ac",
   "metadata": {},
   "outputs": [
    {
     "name": "stdout",
     "output_type": "stream",
     "text": [
      "{'merona': 1000, 'panpare': 1200, 'polapo': 1300, 'amatna': 1100, 'worldcorn': 1400}\n"
     ]
    }
   ],
   "source": [
    "print(ice1)"
   ]
  },
  {
   "cell_type": "code",
   "execution_count": 62,
   "id": "5afeba95",
   "metadata": {},
   "outputs": [],
   "source": [
    "new_product = ['tankboy','sharkbar']"
   ]
  },
  {
   "cell_type": "code",
   "execution_count": 50,
   "id": "7888f29f",
   "metadata": {},
   "outputs": [
    {
     "data": {
      "text/plain": [
       "list"
      ]
     },
     "execution_count": 50,
     "metadata": {},
     "output_type": "execute_result"
    }
   ],
   "source": [
    "type(new_product)"
   ]
  },
  {
   "cell_type": "code",
   "execution_count": 53,
   "id": "29340beb",
   "metadata": {},
   "outputs": [],
   "source": [
    "new_product1 = {'tankboy':1500,'metacorn':1600}"
   ]
  },
  {
   "cell_type": "code",
   "execution_count": 55,
   "id": "3cd0d719",
   "metadata": {},
   "outputs": [
    {
     "data": {
      "text/plain": [
       "dict"
      ]
     },
     "execution_count": 55,
     "metadata": {},
     "output_type": "execute_result"
    }
   ],
   "source": [
    "type(new_product1)"
   ]
  },
  {
   "cell_type": "code",
   "execution_count": 57,
   "id": "107c3aae",
   "metadata": {},
   "outputs": [
    {
     "data": {
      "text/plain": [
       "dict_keys(['tankboy', 'metacorn'])"
      ]
     },
     "execution_count": 57,
     "metadata": {},
     "output_type": "execute_result"
    }
   ],
   "source": [
    "new_product1.keys()"
   ]
  },
  {
   "cell_type": "code",
   "execution_count": 67,
   "id": "191c9827",
   "metadata": {
    "scrolled": false
   },
   "outputs": [
    {
     "data": {
      "text/plain": [
       "dict_values([1500, 1600])"
      ]
     },
     "execution_count": 67,
     "metadata": {},
     "output_type": "execute_result"
    }
   ],
   "source": [
    "new_product1.values()"
   ]
  },
  {
   "cell_type": "code",
   "execution_count": 69,
   "id": "cb04ce42",
   "metadata": {},
   "outputs": [
    {
     "ename": "NameError",
     "evalue": "name 'Merge' is not defined",
     "output_type": "error",
     "traceback": [
      "\u001b[1;31m---------------------------------------------------------------------------\u001b[0m",
      "\u001b[1;31mNameError\u001b[0m                                 Traceback (most recent call last)",
      "\u001b[1;32m~\\AppData\\Local\\Temp/ipykernel_6396/34684981.py\u001b[0m in \u001b[0;36m<module>\u001b[1;34m\u001b[0m\n\u001b[1;32m----> 1\u001b[1;33m \u001b[0mnew_product2\u001b[0m \u001b[1;33m=\u001b[0m \u001b[0mMerge\u001b[0m\u001b[1;33m(\u001b[0m\u001b[0mnew_product\u001b[0m\u001b[1;33m,\u001b[0m\u001b[0mnew_product1\u001b[0m\u001b[1;33m)\u001b[0m\u001b[1;33m\u001b[0m\u001b[1;33m\u001b[0m\u001b[0m\n\u001b[0m",
      "\u001b[1;31mNameError\u001b[0m: name 'Merge' is not defined"
     ]
    }
   ],
   "source": [
    "new_product2 = Merge(new_product,new_product1)"
   ]
  },
  {
   "cell_type": "code",
   "execution_count": null,
   "id": "4a346f1a",
   "metadata": {},
   "outputs": [],
   "source": []
  }
 ],
 "metadata": {
  "kernelspec": {
   "display_name": "Python 3 (ipykernel)",
   "language": "python",
   "name": "python3"
  },
  "language_info": {
   "codemirror_mode": {
    "name": "ipython",
    "version": 3
   },
   "file_extension": ".py",
   "mimetype": "text/x-python",
   "name": "python",
   "nbconvert_exporter": "python",
   "pygments_lexer": "ipython3",
   "version": "3.9.7"
  }
 },
 "nbformat": 4,
 "nbformat_minor": 5
}
