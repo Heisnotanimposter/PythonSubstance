{
 "cells": [
  {
   "cell_type": "code",
   "execution_count": 5,
   "id": "2f7b1428",
   "metadata": {},
   "outputs": [],
   "source": [
    "msg = price = ['20130728', '100','130','140','150', '160','170']"
   ]
  },
  {
   "cell_type": "code",
   "execution_count": 6,
   "id": "e4745ef7",
   "metadata": {},
   "outputs": [
    {
     "data": {
      "text/plain": [
       "['100', '130', '140', '150', '160', '170']"
      ]
     },
     "execution_count": 6,
     "metadata": {},
     "output_type": "execute_result"
    }
   ],
   "source": [
    "msg [1: ]"
   ]
  },
  {
   "cell_type": "code",
   "execution_count": 9,
   "id": "73a6d137",
   "metadata": {},
   "outputs": [],
   "source": [
    "nums = [1,2,3,4,5,6,7,8,9,10]"
   ]
  },
  {
   "cell_type": "code",
   "execution_count": 20,
   "id": "58b2a017",
   "metadata": {},
   "outputs": [
    {
     "data": {
      "text/plain": [
       "[1, 3, 5, 7, 9]"
      ]
     },
     "execution_count": 20,
     "metadata": {},
     "output_type": "execute_result"
    }
   ],
   "source": [
    "nums [ : :2 ]"
   ]
  },
  {
   "cell_type": "code",
   "execution_count": 21,
   "id": "010aa7c3",
   "metadata": {},
   "outputs": [
    {
     "data": {
      "text/plain": [
       "[2, 4, 6, 8, 10]"
      ]
     },
     "execution_count": 21,
     "metadata": {},
     "output_type": "execute_result"
    }
   ],
   "source": [
    "nums [ 1: :2]"
   ]
  },
  {
   "cell_type": "code",
   "execution_count": 22,
   "id": "b6314bfb",
   "metadata": {},
   "outputs": [
    {
     "data": {
      "text/plain": [
       "[10, 9, 8, 7, 6, 5, 4, 3, 2, 1]"
      ]
     },
     "execution_count": 22,
     "metadata": {},
     "output_type": "execute_result"
    }
   ],
   "source": [
    "nums[ : :-1 ] #역배열, 역차열"
   ]
  },
  {
   "cell_type": "code",
   "execution_count": 23,
   "id": "4bea52e7",
   "metadata": {},
   "outputs": [
    {
     "data": {
      "text/plain": [
       "[10, 8, 6, 4, 2]"
      ]
     },
     "execution_count": 23,
     "metadata": {},
     "output_type": "execute_result"
    }
   ],
   "source": [
    "nums[ : : -2]"
   ]
  },
  {
   "cell_type": "code",
   "execution_count": 28,
   "id": "b2763f25",
   "metadata": {},
   "outputs": [],
   "source": [
    "interest = ['samsung', 'LG', 'naver']"
   ]
  },
  {
   "cell_type": "code",
   "execution_count": 29,
   "id": "ae3f992f",
   "metadata": {},
   "outputs": [
    {
     "data": {
      "text/plain": [
       "['samsung', 'LG', 'naver']"
      ]
     },
     "execution_count": 29,
     "metadata": {},
     "output_type": "execute_result"
    }
   ],
   "source": [
    "interest"
   ]
  },
  {
   "cell_type": "code",
   "execution_count": 30,
   "id": "c35dcc3f",
   "metadata": {},
   "outputs": [
    {
     "name": "stdout",
     "output_type": "stream",
     "text": [
      "samsung naver\n"
     ]
    }
   ],
   "source": [
    "print(interest[0]+\" \"+interest[2])"
   ]
  }
 ],
 "metadata": {
  "kernelspec": {
   "display_name": "Python 3 (ipykernel)",
   "language": "python",
   "name": "python3"
  },
  "language_info": {
   "codemirror_mode": {
    "name": "ipython",
    "version": 3
   },
   "file_extension": ".py",
   "mimetype": "text/x-python",
   "name": "python",
   "nbconvert_exporter": "python",
   "pygments_lexer": "ipython3",
   "version": "3.9.7"
  }
 },
 "nbformat": 4,
 "nbformat_minor": 5
}
