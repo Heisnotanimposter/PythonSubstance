{
 "cells": [
  {
   "cell_type": "code",
   "execution_count": 1,
   "id": "3107174b",
   "metadata": {},
   "outputs": [],
   "source": [
    "def print_coin():\n",
    "    print('bitcoin')"
   ]
  },
  {
   "cell_type": "code",
   "execution_count": 2,
   "id": "54acf6f4",
   "metadata": {},
   "outputs": [
    {
     "name": "stdout",
     "output_type": "stream",
     "text": [
      "bitcoin\n"
     ]
    }
   ],
   "source": [
    "print_coin()"
   ]
  },
  {
   "cell_type": "code",
   "execution_count": 5,
   "id": "dc535409",
   "metadata": {},
   "outputs": [
    {
     "name": "stdout",
     "output_type": "stream",
     "text": [
      "bitcoin\n",
      "bitcoin\n",
      "bitcoin\n",
      "bitcoin\n",
      "bitcoin\n",
      "bitcoin\n",
      "bitcoin\n",
      "bitcoin\n",
      "bitcoin\n",
      "bitcoin\n",
      "bitcoin\n",
      "bitcoin\n",
      "bitcoin\n",
      "bitcoin\n",
      "bitcoin\n",
      "bitcoin\n",
      "bitcoin\n",
      "bitcoin\n",
      "bitcoin\n",
      "bitcoin\n",
      "bitcoin\n",
      "bitcoin\n",
      "bitcoin\n",
      "bitcoin\n",
      "bitcoin\n",
      "bitcoin\n",
      "bitcoin\n",
      "bitcoin\n",
      "bitcoin\n",
      "bitcoin\n",
      "bitcoin\n",
      "bitcoin\n",
      "bitcoin\n",
      "bitcoin\n",
      "bitcoin\n",
      "bitcoin\n",
      "bitcoin\n",
      "bitcoin\n",
      "bitcoin\n",
      "bitcoin\n",
      "bitcoin\n",
      "bitcoin\n",
      "bitcoin\n",
      "bitcoin\n",
      "bitcoin\n",
      "bitcoin\n",
      "bitcoin\n",
      "bitcoin\n",
      "bitcoin\n",
      "bitcoin\n",
      "bitcoin\n",
      "bitcoin\n",
      "bitcoin\n",
      "bitcoin\n",
      "bitcoin\n",
      "bitcoin\n",
      "bitcoin\n",
      "bitcoin\n",
      "bitcoin\n",
      "bitcoin\n",
      "bitcoin\n",
      "bitcoin\n",
      "bitcoin\n",
      "bitcoin\n",
      "bitcoin\n",
      "bitcoin\n",
      "bitcoin\n",
      "bitcoin\n",
      "bitcoin\n",
      "bitcoin\n",
      "bitcoin\n",
      "bitcoin\n",
      "bitcoin\n",
      "bitcoin\n",
      "bitcoin\n",
      "bitcoin\n",
      "bitcoin\n",
      "bitcoin\n",
      "bitcoin\n",
      "bitcoin\n",
      "bitcoin\n",
      "bitcoin\n",
      "bitcoin\n",
      "bitcoin\n",
      "bitcoin\n",
      "bitcoin\n",
      "bitcoin\n",
      "bitcoin\n",
      "bitcoin\n",
      "bitcoin\n",
      "bitcoin\n",
      "bitcoin\n",
      "bitcoin\n",
      "bitcoin\n",
      "bitcoin\n",
      "bitcoin\n",
      "bitcoin\n",
      "bitcoin\n",
      "bitcoin\n",
      "bitcoin\n"
     ]
    }
   ],
   "source": [
    "for bitcoin in range (100):\n",
    "    print_coin()"
   ]
  },
  {
   "cell_type": "code",
   "execution_count": null,
   "id": "bb272292",
   "metadata": {},
   "outputs": [],
   "source": []
  }
 ],
 "metadata": {
  "kernelspec": {
   "display_name": "Python 3 (ipykernel)",
   "language": "python",
   "name": "python3"
  },
  "language_info": {
   "codemirror_mode": {
    "name": "ipython",
    "version": 3
   },
   "file_extension": ".py",
   "mimetype": "text/x-python",
   "name": "python",
   "nbconvert_exporter": "python",
   "pygments_lexer": "ipython3",
   "version": "3.9.12"
  }
 },
 "nbformat": 4,
 "nbformat_minor": 5
}
