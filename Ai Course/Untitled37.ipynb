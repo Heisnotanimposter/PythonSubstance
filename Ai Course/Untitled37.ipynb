{
 "cells": [
  {
   "cell_type": "code",
   "execution_count": 1,
   "id": "1a94ddec",
   "metadata": {},
   "outputs": [],
   "source": [
    "path1 = 'C:\\\\Users\\\\redca\\\\Desktop\\\\매수종목1.txt'"
   ]
  },
  {
   "cell_type": "code",
   "execution_count": 2,
   "id": "60ec320a",
   "metadata": {},
   "outputs": [],
   "source": [
    "path2 = 'C:\\\\Users\\\\redca\\\\Desktop\\\\매수종목1.txt'"
   ]
  },
  {
   "cell_type": "code",
   "execution_count": 3,
   "id": "b6c651b1",
   "metadata": {},
   "outputs": [],
   "source": [
    "per = ['10.31','','8.00']"
   ]
  },
  {
   "cell_type": "code",
   "execution_count": 18,
   "id": "ee78db66",
   "metadata": {},
   "outputs": [
    {
     "name": "stdout",
     "output_type": "stream",
     "text": [
      "3\n",
      "4\n",
      "2\n",
      "4\n",
      "3\n",
      "4\n"
     ]
    }
   ],
   "source": [
    "val = []\n",
    "for i in per:\n",
    "    try:\n",
    "        val.append(float(i))\n",
    "    except:\n",
    "        print(2)\n",
    "    else:\n",
    "        print(3)\n",
    "    finally:\n",
    "        print(4)"
   ]
  },
  {
   "cell_type": "code",
   "execution_count": 16,
   "id": "cab5b300",
   "metadata": {},
   "outputs": [
    {
     "data": {
      "text/plain": [
       "[10.31, 0, 8.0]"
      ]
     },
     "execution_count": 16,
     "metadata": {},
     "output_type": "execute_result"
    }
   ],
   "source": [
    "val"
   ]
  },
  {
   "cell_type": "code",
   "execution_count": null,
   "id": "693d3d44",
   "metadata": {},
   "outputs": [],
   "source": [
    "# try,except,else,finally"
   ]
  },
  {
   "cell_type": "code",
   "execution_count": null,
   "id": "f9b7e61a",
   "metadata": {},
   "outputs": [],
   "source": []
  }
 ],
 "metadata": {
  "kernelspec": {
   "display_name": "Python 3 (ipykernel)",
   "language": "python",
   "name": "python3"
  },
  "language_info": {
   "codemirror_mode": {
    "name": "ipython",
    "version": 3
   },
   "file_extension": ".py",
   "mimetype": "text/x-python",
   "name": "python",
   "nbconvert_exporter": "python",
   "pygments_lexer": "ipython3",
   "version": "3.9.12"
  }
 },
 "nbformat": 4,
 "nbformat_minor": 5
}
