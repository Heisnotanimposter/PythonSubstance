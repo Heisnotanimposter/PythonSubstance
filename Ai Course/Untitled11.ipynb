{
 "cells": [
  {
   "cell_type": "code",
   "execution_count": 2,
   "id": "304c4519",
   "metadata": {},
   "outputs": [],
   "source": [
    "ice = {\"merona\":1300, \"polapo\":1400, \"panpare\":1500}"
   ]
  },
  {
   "cell_type": "code",
   "execution_count": 3,
   "id": "ee196200",
   "metadata": {},
   "outputs": [],
   "source": [
    "ice['sharkbar'] = 1200"
   ]
  },
  {
   "cell_type": "code",
   "execution_count": 4,
   "id": "8b99df49",
   "metadata": {},
   "outputs": [],
   "source": [
    "ice['worldcorn'] = 1600"
   ]
  },
  {
   "cell_type": "code",
   "execution_count": 5,
   "id": "f5431aaf",
   "metadata": {},
   "outputs": [
    {
     "data": {
      "text/plain": [
       "{'merona': 1300,\n",
       " 'polapo': 1400,\n",
       " 'panpare': 1500,\n",
       " 'sharkbar': 1200,\n",
       " 'worldcorn': 1600}"
      ]
     },
     "execution_count": 5,
     "metadata": {},
     "output_type": "execute_result"
    }
   ],
   "source": [
    "ice"
   ]
  },
  {
   "cell_type": "code",
   "execution_count": 8,
   "id": "4adfa856",
   "metadata": {},
   "outputs": [
    {
     "name": "stdout",
     "output_type": "stream",
     "text": [
      "cost merona1300\n"
     ]
    }
   ],
   "source": [
    "print(\"cost merona\"+str(ice['merona']))"
   ]
  },
  {
   "cell_type": "code",
   "execution_count": 9,
   "id": "55fe2894",
   "metadata": {},
   "outputs": [],
   "source": [
    "ice['merona'] = 1250"
   ]
  },
  {
   "cell_type": "code",
   "execution_count": 10,
   "id": "32219526",
   "metadata": {},
   "outputs": [
    {
     "data": {
      "text/plain": [
       "{'merona': 1250,\n",
       " 'polapo': 1400,\n",
       " 'panpare': 1500,\n",
       " 'sharkbar': 1200,\n",
       " 'worldcorn': 1600}"
      ]
     },
     "execution_count": 10,
     "metadata": {},
     "output_type": "execute_result"
    }
   ],
   "source": [
    "ice"
   ]
  },
  {
   "cell_type": "code",
   "execution_count": 11,
   "id": "7c1952e1",
   "metadata": {},
   "outputs": [
    {
     "data": {
      "text/plain": [
       "1250"
      ]
     },
     "execution_count": 11,
     "metadata": {},
     "output_type": "execute_result"
    }
   ],
   "source": [
    "ice.pop('merona')"
   ]
  },
  {
   "cell_type": "code",
   "execution_count": 12,
   "id": "ccb18f80",
   "metadata": {},
   "outputs": [
    {
     "data": {
      "text/plain": [
       "{'polapo': 1400, 'panpare': 1500, 'sharkbar': 1200, 'worldcorn': 1600}"
      ]
     },
     "execution_count": 12,
     "metadata": {},
     "output_type": "execute_result"
    }
   ],
   "source": [
    "ice"
   ]
  },
  {
   "cell_type": "code",
   "execution_count": 13,
   "id": "df3b34ae",
   "metadata": {},
   "outputs": [],
   "source": [
    "ice = {\"merona\":[1250, 20], \"polapo\":[1400, 10], \"panpare\":[1500, 30]}"
   ]
  },
  {
   "cell_type": "code",
   "execution_count": 14,
   "id": "cd813584",
   "metadata": {},
   "outputs": [
    {
     "data": {
      "text/plain": [
       "{'merona': [1250, 20], 'polapo': [1400, 10], 'panpare': [1500, 30]}"
      ]
     },
     "execution_count": 14,
     "metadata": {},
     "output_type": "execute_result"
    }
   ],
   "source": [
    "ice"
   ]
  },
  {
   "cell_type": "code",
   "execution_count": 15,
   "id": "fedbd885",
   "metadata": {},
   "outputs": [
    {
     "data": {
      "text/plain": [
       "[1250, 20]"
      ]
     },
     "execution_count": 15,
     "metadata": {},
     "output_type": "execute_result"
    }
   ],
   "source": [
    "ice['merona']"
   ]
  },
  {
   "cell_type": "code",
   "execution_count": 16,
   "id": "41a7cb69",
   "metadata": {},
   "outputs": [
    {
     "data": {
      "text/plain": [
       "20"
      ]
     },
     "execution_count": 16,
     "metadata": {},
     "output_type": "execute_result"
    }
   ],
   "source": [
    "ice['merona'][1]"
   ]
  },
  {
   "cell_type": "code",
   "execution_count": 17,
   "id": "f7264068",
   "metadata": {},
   "outputs": [],
   "source": [
    "ice['worldcorn'] = [1600, 50]"
   ]
  },
  {
   "cell_type": "code",
   "execution_count": 18,
   "id": "f2b7e69c",
   "metadata": {},
   "outputs": [
    {
     "data": {
      "text/plain": [
       "{'merona': [1250, 20],\n",
       " 'polapo': [1400, 10],\n",
       " 'panpare': [1500, 30],\n",
       " 'worldcorn': [1600, 50]}"
      ]
     },
     "execution_count": 18,
     "metadata": {},
     "output_type": "execute_result"
    }
   ],
   "source": [
    "ice"
   ]
  },
  {
   "cell_type": "code",
   "execution_count": 19,
   "id": "19ef9038",
   "metadata": {},
   "outputs": [
    {
     "data": {
      "text/plain": [
       "dict_keys(['merona', 'polapo', 'panpare', 'worldcorn'])"
      ]
     },
     "execution_count": 19,
     "metadata": {},
     "output_type": "execute_result"
    }
   ],
   "source": [
    "ice.keys()"
   ]
  },
  {
   "cell_type": "code",
   "execution_count": 20,
   "id": "a6feb16d",
   "metadata": {},
   "outputs": [
    {
     "data": {
      "text/plain": [
       "dict_values([[1250, 20], [1400, 10], [1500, 30], [1600, 50]])"
      ]
     },
     "execution_count": 20,
     "metadata": {},
     "output_type": "execute_result"
    }
   ],
   "source": [
    "ice.values()"
   ]
  },
  {
   "cell_type": "code",
   "execution_count": 21,
   "id": "0b4fef5e",
   "metadata": {},
   "outputs": [
    {
     "ename": "TypeError",
     "evalue": "unsupported operand type(s) for +: 'int' and 'list'",
     "output_type": "error",
     "traceback": [
      "\u001b[1;31m---------------------------------------------------------------------------\u001b[0m",
      "\u001b[1;31mTypeError\u001b[0m                                 Traceback (most recent call last)",
      "\u001b[1;32m~\\AppData\\Local\\Temp/ipykernel_15148/4208671088.py\u001b[0m in \u001b[0;36m<module>\u001b[1;34m\u001b[0m\n\u001b[1;32m----> 1\u001b[1;33m \u001b[0msum\u001b[0m\u001b[1;33m(\u001b[0m\u001b[0mice\u001b[0m\u001b[1;33m.\u001b[0m\u001b[0mvalues\u001b[0m\u001b[1;33m(\u001b[0m\u001b[1;33m)\u001b[0m\u001b[1;33m)\u001b[0m\u001b[1;33m\u001b[0m\u001b[1;33m\u001b[0m\u001b[0m\n\u001b[0m",
      "\u001b[1;31mTypeError\u001b[0m: unsupported operand type(s) for +: 'int' and 'list'"
     ]
    }
   ],
   "source": [
    "sum(ice.values())"
   ]
  },
  {
   "cell_type": "code",
   "execution_count": null,
   "id": "fa8bf509",
   "metadata": {},
   "outputs": [],
   "source": []
  }
 ],
 "metadata": {
  "kernelspec": {
   "display_name": "Python 3 (ipykernel)",
   "language": "python",
   "name": "python3"
  },
  "language_info": {
   "codemirror_mode": {
    "name": "ipython",
    "version": 3
   },
   "file_extension": ".py",
   "mimetype": "text/x-python",
   "name": "python",
   "nbconvert_exporter": "python",
   "pygments_lexer": "ipython3",
   "version": "3.9.7"
  }
 },
 "nbformat": 4,
 "nbformat_minor": 5
}
