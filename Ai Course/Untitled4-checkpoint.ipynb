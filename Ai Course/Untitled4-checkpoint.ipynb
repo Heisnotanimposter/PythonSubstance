{
 "cells": [
  {
   "cell_type": "code",
   "execution_count": 1,
   "id": "cc30b376",
   "metadata": {},
   "outputs": [],
   "source": [
    "msg = \"교통대학교\" #컴퓨터는 0번부터 계산한다 / 01234 ~ 교통대학교"
   ]
  },
  {
   "cell_type": "code",
   "execution_count": 2,
   "id": "5ff753da",
   "metadata": {},
   "outputs": [
    {
     "data": {
      "text/plain": [
       "'교통대학교'"
      ]
     },
     "execution_count": 2,
     "metadata": {},
     "output_type": "execute_result"
    }
   ],
   "source": [
    "msg"
   ]
  },
  {
   "cell_type": "code",
   "execution_count": 6,
   "id": "fd13d1f3",
   "metadata": {},
   "outputs": [
    {
     "data": {
      "text/plain": [
       "'교통대학'"
      ]
     },
     "execution_count": 6,
     "metadata": {},
     "output_type": "execute_result"
    }
   ],
   "source": [
    "msg[0:4]"
   ]
  },
  {
   "cell_type": "code",
   "execution_count": 7,
   "id": "29b5512e",
   "metadata": {},
   "outputs": [
    {
     "data": {
      "text/plain": [
       "'교통대학교'"
      ]
     },
     "execution_count": 7,
     "metadata": {},
     "output_type": "execute_result"
    }
   ],
   "source": [
    "msg[0:5]"
   ]
  },
  {
   "cell_type": "code",
   "execution_count": 9,
   "id": "dd717248",
   "metadata": {},
   "outputs": [
    {
     "data": {
      "text/plain": [
       "'대학교'"
      ]
     },
     "execution_count": 9,
     "metadata": {},
     "output_type": "execute_result"
    }
   ],
   "source": [
    "msg[2: ] #뒷 칸에 아무것도 없으면 끝까지 가라는 뜻"
   ]
  },
  {
   "cell_type": "code",
   "execution_count": 10,
   "id": "2b628268",
   "metadata": {},
   "outputs": [
    {
     "data": {
      "text/plain": [
       "'교통'"
      ]
     },
     "execution_count": 10,
     "metadata": {},
     "output_type": "execute_result"
    }
   ],
   "source": [
    "msg[0:2]"
   ]
  },
  {
   "cell_type": "code",
   "execution_count": 11,
   "id": "99e7cbd7",
   "metadata": {},
   "outputs": [
    {
     "data": {
      "text/plain": [
       "'교통'"
      ]
     },
     "execution_count": 11,
     "metadata": {},
     "output_type": "execute_result"
    }
   ],
   "source": [
    "msg[ :2] #앞 쪽에 아무것도 없으면 처음부터"
   ]
  },
  {
   "cell_type": "code",
   "execution_count": 14,
   "id": "84af2793",
   "metadata": {},
   "outputs": [
    {
     "data": {
      "text/plain": [
       "'교통대학교'"
      ]
     },
     "execution_count": 14,
     "metadata": {},
     "output_type": "execute_result"
    }
   ],
   "source": [
    "msg [ : ] #처음부터 끝까지"
   ]
  },
  {
   "cell_type": "code",
   "execution_count": 16,
   "id": "08a64a2d",
   "metadata": {},
   "outputs": [
    {
     "data": {
      "text/plain": [
       "'교'"
      ]
     },
     "execution_count": 16,
     "metadata": {},
     "output_type": "execute_result"
    }
   ],
   "source": [
    "msg [-1]"
   ]
  },
  {
   "cell_type": "code",
   "execution_count": 17,
   "id": "cf24b465",
   "metadata": {},
   "outputs": [
    {
     "data": {
      "text/plain": [
       "'학'"
      ]
     },
     "execution_count": 17,
     "metadata": {},
     "output_type": "execute_result"
    }
   ],
   "source": [
    "msg[-2]"
   ]
  },
  {
   "cell_type": "code",
   "execution_count": 18,
   "id": "51a8803f",
   "metadata": {},
   "outputs": [
    {
     "data": {
      "text/plain": [
       "'대'"
      ]
     },
     "execution_count": 18,
     "metadata": {},
     "output_type": "execute_result"
    }
   ],
   "source": [
    "msg[-3]"
   ]
  },
  {
   "cell_type": "code",
   "execution_count": 19,
   "id": "258c2dbb",
   "metadata": {},
   "outputs": [],
   "source": [
    "nums = [1,2,3,4,5,6,7,8,9]"
   ]
  },
  {
   "cell_type": "code",
   "execution_count": 20,
   "id": "08797434",
   "metadata": {
    "scrolled": true
   },
   "outputs": [
    {
     "data": {
      "text/plain": [
       "[1, 2, 3, 4, 5, 6, 7, 8, 9]"
      ]
     },
     "execution_count": 20,
     "metadata": {},
     "output_type": "execute_result"
    }
   ],
   "source": [
    "nums"
   ]
  },
  {
   "cell_type": "markdown",
   "id": "66e96a21",
   "metadata": {},
   "source": []
  }
 ],
 "metadata": {
  "kernelspec": {
   "display_name": "Python 3 (ipykernel)",
   "language": "python",
   "name": "python3"
  },
  "language_info": {
   "codemirror_mode": {
    "name": "ipython",
    "version": 3
   },
   "file_extension": ".py",
   "mimetype": "text/x-python",
   "name": "python",
   "nbconvert_exporter": "python",
   "pygments_lexer": "ipython3",
   "version": "3.9.7"
  }
 },
 "nbformat": 4,
 "nbformat_minor": 5
}
