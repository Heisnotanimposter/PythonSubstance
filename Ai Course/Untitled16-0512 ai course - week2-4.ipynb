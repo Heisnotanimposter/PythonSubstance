{
 "cells": [
  {
   "cell_type": "code",
   "execution_count": 50,
   "id": "d0b43d26",
   "metadata": {},
   "outputs": [],
   "source": [
    "ice = ['panpare', 'sharkbar','worldcorn']"
   ]
  },
  {
   "cell_type": "code",
   "execution_count": 51,
   "id": "65c6397b",
   "metadata": {},
   "outputs": [
    {
     "data": {
      "text/plain": [
       "list"
      ]
     },
     "execution_count": 51,
     "metadata": {},
     "output_type": "execute_result"
    }
   ],
   "source": [
    "type(ice)"
   ]
  },
  {
   "cell_type": "code",
   "execution_count": 52,
   "id": "baba445e",
   "metadata": {},
   "outputs": [
    {
     "data": {
      "text/plain": [
       "'panpare'"
      ]
     },
     "execution_count": 52,
     "metadata": {},
     "output_type": "execute_result"
    }
   ],
   "source": [
    "ice[0]"
   ]
  },
  {
   "cell_type": "code",
   "execution_count": 53,
   "id": "c0e33d14",
   "metadata": {},
   "outputs": [
    {
     "data": {
      "text/plain": [
       "'sharkbar'"
      ]
     },
     "execution_count": 53,
     "metadata": {},
     "output_type": "execute_result"
    }
   ],
   "source": [
    "ice[1]"
   ]
  },
  {
   "cell_type": "code",
   "execution_count": 54,
   "id": "e7244b66",
   "metadata": {},
   "outputs": [
    {
     "data": {
      "text/plain": [
       "'worldcorn'"
      ]
     },
     "execution_count": 54,
     "metadata": {},
     "output_type": "execute_result"
    }
   ],
   "source": [
    "ice[2]"
   ]
  },
  {
   "cell_type": "code",
   "execution_count": 55,
   "id": "441d5c78",
   "metadata": {},
   "outputs": [],
   "source": [
    "ice[0] = 'pigbar'"
   ]
  },
  {
   "cell_type": "code",
   "execution_count": 56,
   "id": "e246bf17",
   "metadata": {},
   "outputs": [
    {
     "data": {
      "text/plain": [
       "['pigbar', 'sharkbar', 'worldcorn']"
      ]
     },
     "execution_count": 56,
     "metadata": {},
     "output_type": "execute_result"
    }
   ],
   "source": [
    "ice"
   ]
  },
  {
   "cell_type": "code",
   "execution_count": 57,
   "id": "b63906a3",
   "metadata": {},
   "outputs": [],
   "source": [
    "ice.append('mom is alien')"
   ]
  },
  {
   "cell_type": "code",
   "execution_count": 58,
   "id": "d996637a",
   "metadata": {},
   "outputs": [
    {
     "data": {
      "text/plain": [
       "['pigbar', 'sharkbar', 'worldcorn', 'mom is alien']"
      ]
     },
     "execution_count": 58,
     "metadata": {},
     "output_type": "execute_result"
    }
   ],
   "source": [
    "ice"
   ]
  },
  {
   "cell_type": "code",
   "execution_count": 59,
   "id": "f8389e53",
   "metadata": {},
   "outputs": [
    {
     "data": {
      "text/plain": [
       "'mom is alien'"
      ]
     },
     "execution_count": 59,
     "metadata": {},
     "output_type": "execute_result"
    }
   ],
   "source": [
    "ice.pop(3)"
   ]
  },
  {
   "cell_type": "code",
   "execution_count": 60,
   "id": "edd9ac95",
   "metadata": {},
   "outputs": [
    {
     "data": {
      "text/plain": [
       "['pigbar', 'sharkbar', 'worldcorn']"
      ]
     },
     "execution_count": 60,
     "metadata": {},
     "output_type": "execute_result"
    }
   ],
   "source": [
    "ice"
   ]
  },
  {
   "cell_type": "code",
   "execution_count": 61,
   "id": "71a2ccc4",
   "metadata": {},
   "outputs": [],
   "source": [
    "ice.remove('worldcorn')"
   ]
  },
  {
   "cell_type": "code",
   "execution_count": 62,
   "id": "1c5c37f8",
   "metadata": {},
   "outputs": [
    {
     "data": {
      "text/plain": [
       "['pigbar', 'sharkbar']"
      ]
     },
     "execution_count": 62,
     "metadata": {},
     "output_type": "execute_result"
    }
   ],
   "source": [
    "ice"
   ]
  },
  {
   "cell_type": "code",
   "execution_count": 63,
   "id": "50302a81",
   "metadata": {},
   "outputs": [],
   "source": [
    "ice.clear()"
   ]
  },
  {
   "cell_type": "code",
   "execution_count": 64,
   "id": "a958feb7",
   "metadata": {},
   "outputs": [
    {
     "data": {
      "text/plain": [
       "[]"
      ]
     },
     "execution_count": 64,
     "metadata": {},
     "output_type": "execute_result"
    }
   ],
   "source": [
    "ice"
   ]
  },
  {
   "cell_type": "code",
   "execution_count": 65,
   "id": "c28c01f8",
   "metadata": {},
   "outputs": [],
   "source": [
    "ice = ('panpare', 'sharkbar','worldcorn')"
   ]
  },
  {
   "cell_type": "code",
   "execution_count": 66,
   "id": "fdadcba7",
   "metadata": {},
   "outputs": [
    {
     "data": {
      "text/plain": [
       "tuple"
      ]
     },
     "execution_count": 66,
     "metadata": {},
     "output_type": "execute_result"
    }
   ],
   "source": [
    "type(ice)"
   ]
  },
  {
   "cell_type": "code",
   "execution_count": 67,
   "id": "8c6c2f00",
   "metadata": {},
   "outputs": [
    {
     "data": {
      "text/plain": [
       "'panpare'"
      ]
     },
     "execution_count": 67,
     "metadata": {},
     "output_type": "execute_result"
    }
   ],
   "source": [
    "ice[0]"
   ]
  },
  {
   "cell_type": "code",
   "execution_count": 68,
   "id": "4824a9c0",
   "metadata": {},
   "outputs": [],
   "source": [
    "ice = ('panpare', 'sharkbar','worldcorn')"
   ]
  },
  {
   "cell_type": "code",
   "execution_count": 69,
   "id": "2ea91d5f",
   "metadata": {},
   "outputs": [],
   "source": [
    "ice = ('pigbar', 'sharkbar','worldcorn')"
   ]
  },
  {
   "cell_type": "code",
   "execution_count": 70,
   "id": "4fede59b",
   "metadata": {},
   "outputs": [
    {
     "data": {
      "text/plain": [
       "('pigbar', 'sharkbar', 'worldcorn')"
      ]
     },
     "execution_count": 70,
     "metadata": {},
     "output_type": "execute_result"
    }
   ],
   "source": [
    "ice"
   ]
  },
  {
   "cell_type": "code",
   "execution_count": 71,
   "id": "e1e8a252",
   "metadata": {},
   "outputs": [],
   "source": [
    "ice = {'pigbar':1000, 'sharkbar':1100,'worldcorn':1200} #중괄호 = dict, { key:value }"
   ]
  },
  {
   "cell_type": "code",
   "execution_count": 72,
   "id": "c1dd1614",
   "metadata": {},
   "outputs": [
    {
     "data": {
      "text/plain": [
       "dict"
      ]
     },
     "execution_count": 72,
     "metadata": {},
     "output_type": "execute_result"
    }
   ],
   "source": [
    "type(ice)"
   ]
  },
  {
   "cell_type": "code",
   "execution_count": 73,
   "id": "f84edda0",
   "metadata": {},
   "outputs": [
    {
     "data": {
      "text/plain": [
       "1000"
      ]
     },
     "execution_count": 73,
     "metadata": {},
     "output_type": "execute_result"
    }
   ],
   "source": [
    "ice['pigbar']"
   ]
  },
  {
   "cell_type": "code",
   "execution_count": 74,
   "id": "45dd4526",
   "metadata": {},
   "outputs": [
    {
     "data": {
      "text/plain": [
       "dict_keys(['pigbar', 'sharkbar', 'worldcorn'])"
      ]
     },
     "execution_count": 74,
     "metadata": {},
     "output_type": "execute_result"
    }
   ],
   "source": [
    "ice.keys()"
   ]
  },
  {
   "cell_type": "code",
   "execution_count": 75,
   "id": "014f0df9",
   "metadata": {},
   "outputs": [
    {
     "data": {
      "text/plain": [
       "1100"
      ]
     },
     "execution_count": 75,
     "metadata": {},
     "output_type": "execute_result"
    }
   ],
   "source": [
    "ice['sharkbar']"
   ]
  },
  {
   "cell_type": "code",
   "execution_count": 76,
   "id": "5b45de10",
   "metadata": {},
   "outputs": [
    {
     "data": {
      "text/plain": [
       "dict_values([1000, 1100, 1200])"
      ]
     },
     "execution_count": 76,
     "metadata": {},
     "output_type": "execute_result"
    }
   ],
   "source": [
    "ice.values()"
   ]
  },
  {
   "cell_type": "code",
   "execution_count": 77,
   "id": "2fe8b125",
   "metadata": {},
   "outputs": [
    {
     "data": {
      "text/plain": [
       "1000"
      ]
     },
     "execution_count": 77,
     "metadata": {},
     "output_type": "execute_result"
    }
   ],
   "source": [
    "ice['pigbar']"
   ]
  },
  {
   "cell_type": "code",
   "execution_count": 79,
   "id": "a221ae34",
   "metadata": {},
   "outputs": [
    {
     "data": {
      "text/plain": [
       "1100"
      ]
     },
     "execution_count": 79,
     "metadata": {},
     "output_type": "execute_result"
    }
   ],
   "source": [
    "ice.pop('sharkbar')"
   ]
  },
  {
   "cell_type": "code",
   "execution_count": 80,
   "id": "ff5f4da2",
   "metadata": {},
   "outputs": [
    {
     "data": {
      "text/plain": [
       "{'pigbar': 1000, 'worldcorn': 1200}"
      ]
     },
     "execution_count": 80,
     "metadata": {},
     "output_type": "execute_result"
    }
   ],
   "source": [
    "ice"
   ]
  },
  {
   "cell_type": "code",
   "execution_count": 82,
   "id": "67497917",
   "metadata": {},
   "outputs": [],
   "source": [
    "ice.update({'sharkbar':1100, 'strawberry':1300, 'chocolate':1300, 'blueberry':1300})"
   ]
  },
  {
   "cell_type": "code",
   "execution_count": 85,
   "id": "231b97f0",
   "metadata": {},
   "outputs": [],
   "source": [
    "ice['watermelonbar'] = 800"
   ]
  },
  {
   "cell_type": "code",
   "execution_count": 86,
   "id": "b7ed18b6",
   "metadata": {},
   "outputs": [
    {
     "data": {
      "text/plain": [
       "{'pigbar': 1000,\n",
       " 'worldcorn': 1200,\n",
       " 'sharkbar': 1100,\n",
       " 'strawberry': 1300,\n",
       " 'chocolate': 1300,\n",
       " 'blueberry': 1300,\n",
       " 'watermelonbar': 800}"
      ]
     },
     "execution_count": 86,
     "metadata": {},
     "output_type": "execute_result"
    }
   ],
   "source": [
    "ice"
   ]
  },
  {
   "cell_type": "code",
   "execution_count": 89,
   "id": "297e3e3d",
   "metadata": {},
   "outputs": [],
   "source": [
    "hungry = True"
   ]
  },
  {
   "cell_type": "code",
   "execution_count": 91,
   "id": "919df088",
   "metadata": {},
   "outputs": [
    {
     "data": {
      "text/plain": [
       "bool"
      ]
     },
     "execution_count": 91,
     "metadata": {},
     "output_type": "execute_result"
    }
   ],
   "source": [
    "type(hungry)"
   ]
  },
  {
   "cell_type": "code",
   "execution_count": 93,
   "id": "9f0c2b04",
   "metadata": {},
   "outputs": [],
   "source": [
    "not_hungry = False"
   ]
  },
  {
   "cell_type": "code",
   "execution_count": 94,
   "id": "00e6d05c",
   "metadata": {},
   "outputs": [
    {
     "data": {
      "text/plain": [
       "bool"
      ]
     },
     "execution_count": 94,
     "metadata": {},
     "output_type": "execute_result"
    }
   ],
   "source": [
    "type(not_hungry)"
   ]
  },
  {
   "cell_type": "code",
   "execution_count": 97,
   "id": "5c4d62ae",
   "metadata": {},
   "outputs": [
    {
     "name": "stdout",
     "output_type": "stream",
     "text": [
      "어 배고파\n"
     ]
    }
   ],
   "source": [
    "if hungry == True:  #조건식 , 들여쓰기 하는 습관 중요\n",
    "    print (\"어 배고파\")\n",
    "else:\n",
    "    print (\"안 배고파\")"
   ]
  },
  {
   "cell_type": "code",
   "execution_count": null,
   "id": "edec56c9",
   "metadata": {},
   "outputs": [],
   "source": []
  },
  {
   "cell_type": "code",
   "execution_count": 98,
   "id": "a282c872",
   "metadata": {},
   "outputs": [],
   "source": [
    "money1 = 500"
   ]
  },
  {
   "cell_type": "code",
   "execution_count": 99,
   "id": "d864875d",
   "metadata": {},
   "outputs": [],
   "source": [
    "money2 = 1500"
   ]
  },
  {
   "cell_type": "code",
   "execution_count": 100,
   "id": "cb5f2694",
   "metadata": {},
   "outputs": [],
   "source": [
    "money3 = 2500"
   ]
  },
  {
   "cell_type": "code",
   "execution_count": 106,
   "id": "7a4d1923",
   "metadata": {},
   "outputs": [
    {
     "name": "stdout",
     "output_type": "stream",
     "text": [
      "어 제대로 넣었네\n"
     ]
    }
   ],
   "source": [
    "if money1 == 500:\n",
    "    print (\"어 제대로 넣었네\")\n",
    "elif money2 == 500:\n",
    "    print (\"투입 금액이 1000원 더 많아\")\n",
    "elif money3 == 2500:\n",
    "    print (\"투입 금액이 2000 더 많아\")\n",
    "else:\n",
    "    print (\"전부 반환할게\")"
   ]
  },
  {
   "cell_type": "code",
   "execution_count": 107,
   "id": "b903a019",
   "metadata": {},
   "outputs": [],
   "source": [
    "# 공장에서 100번째 물건을 찍어내면 멈춰야 하는 기계가 있다."
   ]
  },
  {
   "cell_type": "code",
   "execution_count": 108,
   "id": "7d2453ed",
   "metadata": {},
   "outputs": [],
   "source": [
    "횟수 = 100"
   ]
  },
  {
   "cell_type": "code",
   "execution_count": 109,
   "id": "42d075fe",
   "metadata": {},
   "outputs": [
    {
     "name": "stdout",
     "output_type": "stream",
     "text": [
      "그만 만들어\n"
     ]
    }
   ],
   "source": [
    "if 횟수 < 100:\n",
    "    print (\"더 찍어내!\")\n",
    "elif 횟수 == 100:\n",
    "    print (\"그만 만들어\")\n",
    "elif 횟수 > 100:\n",
    "    print (\"그만 만들어\")\n",
    "else:\n",
    "    print (\"예상치 못한 에러가 발견되었다\")"
   ]
  },
  {
   "cell_type": "code",
   "execution_count": null,
   "id": "af9c8fe2",
   "metadata": {},
   "outputs": [],
   "source": []
  }
 ],
 "metadata": {
  "kernelspec": {
   "display_name": "Python 3 (ipykernel)",
   "language": "python",
   "name": "python3"
  },
  "language_info": {
   "codemirror_mode": {
    "name": "ipython",
    "version": 3
   },
   "file_extension": ".py",
   "mimetype": "text/x-python",
   "name": "python",
   "nbconvert_exporter": "python",
   "pygments_lexer": "ipython3",
   "version": "3.9.7"
  }
 },
 "nbformat": 4,
 "nbformat_minor": 5
}
