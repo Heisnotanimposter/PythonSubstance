{
 "cells": [
  {
   "cell_type": "code",
   "execution_count": 2,
   "id": "a8983795",
   "metadata": {},
   "outputs": [],
   "source": [
    "ticker = 'lg'"
   ]
  },
  {
   "cell_type": "code",
   "execution_count": 3,
   "id": "5d8976bc",
   "metadata": {},
   "outputs": [
    {
     "data": {
      "text/plain": [
       "'lg'"
      ]
     },
     "execution_count": 3,
     "metadata": {},
     "output_type": "execute_result"
    }
   ],
   "source": [
    "ticker"
   ]
  },
  {
   "cell_type": "code",
   "execution_count": 7,
   "id": "1747ecc5",
   "metadata": {},
   "outputs": [
    {
     "data": {
      "text/plain": [
       "'LG'"
      ]
     },
     "execution_count": 7,
     "metadata": {},
     "output_type": "execute_result"
    }
   ],
   "source": [
    "ticker .upper()"
   ]
  },
  {
   "cell_type": "code",
   "execution_count": 9,
   "id": "2b929ee7",
   "metadata": {},
   "outputs": [],
   "source": [
    "ticker2 = 'LG'"
   ]
  },
  {
   "cell_type": "code",
   "execution_count": 12,
   "id": "21b50d76",
   "metadata": {},
   "outputs": [
    {
     "data": {
      "text/plain": [
       "'lg'"
      ]
     },
     "execution_count": 12,
     "metadata": {},
     "output_type": "execute_result"
    }
   ],
   "source": [
    "ticker2 .lower()"
   ]
  },
  {
   "cell_type": "code",
   "execution_count": 13,
   "id": "2241e40c",
   "metadata": {},
   "outputs": [],
   "source": [
    "msg = \"Hello World\""
   ]
  },
  {
   "cell_type": "code",
   "execution_count": 16,
   "id": "4d828efa",
   "metadata": {},
   "outputs": [
    {
     "data": {
      "text/plain": [
       "['Hello', 'World']"
      ]
     },
     "execution_count": 16,
     "metadata": {},
     "output_type": "execute_result"
    }
   ],
   "source": [
    "msg.split(\" \")"
   ]
  },
  {
   "cell_type": "code",
   "execution_count": 17,
   "id": "79dce4fd",
   "metadata": {},
   "outputs": [],
   "source": [
    "date = \"2022-05-10\""
   ]
  },
  {
   "cell_type": "code",
   "execution_count": 19,
   "id": "4d7f4269",
   "metadata": {},
   "outputs": [
    {
     "data": {
      "text/plain": [
       "['2022', '05', '10']"
      ]
     },
     "execution_count": 19,
     "metadata": {},
     "output_type": "execute_result"
    }
   ],
   "source": [
    "date.split(\"-\") #split hypen can do data split"
   ]
  },
  {
   "cell_type": "code",
   "execution_count": 20,
   "id": "37a3b369",
   "metadata": {},
   "outputs": [],
   "source": [
    "d = date.split(\"-\")"
   ]
  },
  {
   "cell_type": "code",
   "execution_count": 21,
   "id": "d86da5c7",
   "metadata": {},
   "outputs": [
    {
     "data": {
      "text/plain": [
       "['2022', '05', '10']"
      ]
     },
     "execution_count": 21,
     "metadata": {},
     "output_type": "execute_result"
    }
   ],
   "source": [
    "d"
   ]
  },
  {
   "cell_type": "code",
   "execution_count": 22,
   "id": "42df8bf2",
   "metadata": {},
   "outputs": [
    {
     "data": {
      "text/plain": [
       "list"
      ]
     },
     "execution_count": 22,
     "metadata": {},
     "output_type": "execute_result"
    }
   ],
   "source": [
    "type(d)"
   ]
  },
  {
   "cell_type": "code",
   "execution_count": null,
   "id": "216644bc",
   "metadata": {},
   "outputs": [],
   "source": []
  }
 ],
 "metadata": {
  "kernelspec": {
   "display_name": "Python 3 (ipykernel)",
   "language": "python",
   "name": "python3"
  },
  "language_info": {
   "codemirror_mode": {
    "name": "ipython",
    "version": 3
   },
   "file_extension": ".py",
   "mimetype": "text/x-python",
   "name": "python",
   "nbconvert_exporter": "python",
   "pygments_lexer": "ipython3",
   "version": "3.9.7"
  }
 },
 "nbformat": 4,
 "nbformat_minor": 5
}
