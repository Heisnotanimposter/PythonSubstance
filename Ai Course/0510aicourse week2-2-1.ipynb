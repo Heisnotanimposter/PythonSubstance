{
 "cells": [
  {
   "cell_type": "code",
   "execution_count": 1,
   "id": "14c480ef",
   "metadata": {},
   "outputs": [],
   "source": [
    "삼성전자 = 50000"
   ]
  },
  {
   "cell_type": "code",
   "execution_count": 3,
   "id": "bb505a41",
   "metadata": {},
   "outputs": [
    {
     "data": {
      "text/plain": [
       "500000"
      ]
     },
     "execution_count": 3,
     "metadata": {},
     "output_type": "execute_result"
    }
   ],
   "source": [
    "삼성전자 * 10"
   ]
  },
  {
   "cell_type": "code",
   "execution_count": 4,
   "id": "92b5bf6f",
   "metadata": {},
   "outputs": [],
   "source": [
    "s = \"hello\""
   ]
  },
  {
   "cell_type": "code",
   "execution_count": 5,
   "id": "e970ad84",
   "metadata": {},
   "outputs": [],
   "source": [
    "t = \"python\""
   ]
  },
  {
   "cell_type": "code",
   "execution_count": 7,
   "id": "d17590fc",
   "metadata": {},
   "outputs": [
    {
     "name": "stdout",
     "output_type": "stream",
     "text": [
      "hello! python\n"
     ]
    }
   ],
   "source": [
    "print(s + \"! \" + t)"
   ]
  },
  {
   "cell_type": "code",
   "execution_count": 8,
   "id": "36413089",
   "metadata": {},
   "outputs": [
    {
     "data": {
      "text/plain": [
       "8"
      ]
     },
     "execution_count": 8,
     "metadata": {},
     "output_type": "execute_result"
    }
   ],
   "source": [
    "2 + 2 * 3"
   ]
  },
  {
   "cell_type": "code",
   "execution_count": 9,
   "id": "2d81fb88",
   "metadata": {},
   "outputs": [],
   "source": [
    "a = \"132\""
   ]
  },
  {
   "cell_type": "code",
   "execution_count": 10,
   "id": "7ebc8bf3",
   "metadata": {},
   "outputs": [
    {
     "data": {
      "text/plain": [
       "str"
      ]
     },
     "execution_count": 10,
     "metadata": {},
     "output_type": "execute_result"
    }
   ],
   "source": [
    "type(a)"
   ]
  },
  {
   "cell_type": "code",
   "execution_count": 11,
   "id": "3aa0dfc1",
   "metadata": {},
   "outputs": [],
   "source": [
    "a = 3"
   ]
  },
  {
   "cell_type": "code",
   "execution_count": 12,
   "id": "e861ad54",
   "metadata": {},
   "outputs": [],
   "source": [
    "b = 4"
   ]
  },
  {
   "cell_type": "code",
   "execution_count": 13,
   "id": "78062516",
   "metadata": {},
   "outputs": [
    {
     "name": "stdout",
     "output_type": "stream",
     "text": [
      "7\n"
     ]
    }
   ],
   "source": [
    "print(a + b)"
   ]
  },
  {
   "cell_type": "code",
   "execution_count": 14,
   "id": "58fe0c0c",
   "metadata": {},
   "outputs": [],
   "source": [
    "a = \"3\""
   ]
  },
  {
   "cell_type": "code",
   "execution_count": 15,
   "id": "be3dd045",
   "metadata": {},
   "outputs": [],
   "source": [
    "b = \"4\""
   ]
  },
  {
   "cell_type": "code",
   "execution_count": 16,
   "id": "75693a25",
   "metadata": {},
   "outputs": [
    {
     "name": "stdout",
     "output_type": "stream",
     "text": [
      "34\n"
     ]
    }
   ],
   "source": [
    "print(a + b)"
   ]
  },
  {
   "cell_type": "code",
   "execution_count": 17,
   "id": "54ad6875",
   "metadata": {},
   "outputs": [
    {
     "name": "stdout",
     "output_type": "stream",
     "text": [
      "3 4\n"
     ]
    }
   ],
   "source": [
    "print(a +\" \"+ b)"
   ]
  },
  {
   "cell_type": "code",
   "execution_count": 18,
   "id": "deae1ca1",
   "metadata": {},
   "outputs": [
    {
     "name": "stdout",
     "output_type": "stream",
     "text": [
      "HiHiHi\n"
     ]
    }
   ],
   "source": [
    "print(\"Hi\" * 3)"
   ]
  },
  {
   "cell_type": "code",
   "execution_count": 19,
   "id": "eea05384",
   "metadata": {},
   "outputs": [
    {
     "name": "stdout",
     "output_type": "stream",
     "text": [
      "________________________________________________________________________________\n"
     ]
    }
   ],
   "source": [
    "print('_'*80)"
   ]
  },
  {
   "cell_type": "code",
   "execution_count": 20,
   "id": "77e9a604",
   "metadata": {},
   "outputs": [],
   "source": [
    "t1 = \"python\""
   ]
  },
  {
   "cell_type": "code",
   "execution_count": 21,
   "id": "957b4959",
   "metadata": {},
   "outputs": [],
   "source": [
    "t2 = \"java\""
   ]
  },
  {
   "cell_type": "code",
   "execution_count": 23,
   "id": "b29b24c9",
   "metadata": {},
   "outputs": [],
   "source": [
    "t3 = t1 + \" \"+ t2 +\" \""
   ]
  },
  {
   "cell_type": "code",
   "execution_count": 25,
   "id": "78306bd9",
   "metadata": {},
   "outputs": [
    {
     "name": "stdout",
     "output_type": "stream",
     "text": [
      "python java python java python java \n"
     ]
    }
   ],
   "source": [
    "print (t3*3)"
   ]
  },
  {
   "cell_type": "code",
   "execution_count": 26,
   "id": "c62ab788",
   "metadata": {},
   "outputs": [],
   "source": [
    "name = '김민수'"
   ]
  },
  {
   "cell_type": "code",
   "execution_count": 27,
   "id": "25d9bcdf",
   "metadata": {},
   "outputs": [],
   "source": [
    "age = '10'"
   ]
  },
  {
   "cell_type": "code",
   "execution_count": 32,
   "id": "b8dde592",
   "metadata": {},
   "outputs": [
    {
     "data": {
      "text/plain": [
       "'내 이름은 김민수, 나이는 10살이지'"
      ]
     },
     "execution_count": 32,
     "metadata": {},
     "output_type": "execute_result"
    }
   ],
   "source": [
    "\"내 이름은 김민수, 나이는 10살이지\""
   ]
  },
  {
   "cell_type": "code",
   "execution_count": 33,
   "id": "5d82e8d3",
   "metadata": {},
   "outputs": [
    {
     "name": "stdout",
     "output_type": "stream",
     "text": [
      "내 이름은 김민수, 나이는 10살이지\n"
     ]
    }
   ],
   "source": [
    "print(\"내 이름은 \"+name+\", 나이는 \"+str(age)+\"살이지\")"
   ]
  },
  {
   "cell_type": "code",
   "execution_count": 34,
   "id": "ec10e218",
   "metadata": {},
   "outputs": [
    {
     "data": {
      "text/plain": [
       "str"
      ]
     },
     "execution_count": 34,
     "metadata": {},
     "output_type": "execute_result"
    }
   ],
   "source": [
    "type(age)"
   ]
  },
  {
   "cell_type": "code",
   "execution_count": 36,
   "id": "bcd8a21f",
   "metadata": {},
   "outputs": [
    {
     "data": {
      "text/plain": [
       "str"
      ]
     },
     "execution_count": 36,
     "metadata": {},
     "output_type": "execute_result"
    }
   ],
   "source": [
    "type(str(age)) #'10' = str(10) = \"10\""
   ]
  },
  {
   "cell_type": "code",
   "execution_count": 50,
   "id": "8a0f3d99",
   "metadata": {},
   "outputs": [
    {
     "name": "stdout",
     "output_type": "stream",
     "text": [
      "내 이름은 김민수, 나이는 10살이지\n"
     ]
    }
   ],
   "source": [
    "print(\"내 이름은 {}, 나이는 {}살이지\" .format(name, age))"
   ]
  },
  {
   "cell_type": "code",
   "execution_count": 57,
   "id": "aa332317",
   "metadata": {},
   "outputs": [
    {
     "name": "stdout",
     "output_type": "stream",
     "text": [
      "내 이름은 김민수, 나이는 10살이지\n"
     ]
    }
   ],
   "source": [
    "print(\"내 이름은 %s, 나이는 %s살이지\" % (name, age))"
   ]
  },
  {
   "cell_type": "code",
   "execution_count": 54,
   "id": "46c14689",
   "metadata": {},
   "outputs": [
    {
     "name": "stdout",
     "output_type": "stream",
     "text": [
      "내 이름은 김민수, 나이는 10살이지\n"
     ]
    }
   ],
   "source": [
    "print(\"내 이름은 {val1}, 나이는 {val2}살이지\".format(val1=name, val2=age))"
   ]
  },
  {
   "cell_type": "code",
   "execution_count": null,
   "id": "4b1e1081",
   "metadata": {},
   "outputs": [],
   "source": [
    "print(\"내 이름은 \")"
   ]
  }
 ],
 "metadata": {
  "kernelspec": {
   "display_name": "Python 3 (ipykernel)",
   "language": "python",
   "name": "python3"
  },
  "language_info": {
   "codemirror_mode": {
    "name": "ipython",
    "version": 3
   },
   "file_extension": ".py",
   "mimetype": "text/x-python",
   "name": "python",
   "nbconvert_exporter": "python",
   "pygments_lexer": "ipython3",
   "version": "3.9.7"
  }
 },
 "nbformat": 4,
 "nbformat_minor": 5
}
