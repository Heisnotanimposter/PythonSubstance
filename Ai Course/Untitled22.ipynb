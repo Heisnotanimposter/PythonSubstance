{
 "cells": [
  {
   "cell_type": "code",
   "execution_count": 1,
   "id": "d7051aa9",
   "metadata": {},
   "outputs": [],
   "source": [
    "val = [1,2,3,4,5,6,7,8,9]"
   ]
  },
  {
   "cell_type": "code",
   "execution_count": 14,
   "id": "f9180317",
   "metadata": {
    "scrolled": false
   },
   "outputs": [
    {
     "name": "stdout",
     "output_type": "stream",
     "text": [
      "90\n",
      "80\n",
      "70\n",
      "60\n",
      "50\n",
      "40\n",
      "30\n",
      "20\n",
      "10\n"
     ]
    }
   ],
   "source": [
    "for val_item in val[ : :-1]: #for (조건문) :\n",
    "    print(val_item*10)  #(들여쓰기)작동될 코드"
   ]
  },
  {
   "cell_type": "code",
   "execution_count": 24,
   "id": "a73372e1",
   "metadata": {},
   "outputs": [
    {
     "name": "stdout",
     "output_type": "stream",
     "text": [
      "haha 9\n",
      "haha 8\n",
      "haha 7\n",
      "haha 6\n",
      "haha 5\n",
      "haha 4\n",
      "haha 3\n",
      "haha 2\n",
      "haha 1\n"
     ]
    }
   ],
   "source": [
    "for val_item in val[ : :-1]: #for (조건문) :\n",
    "    print('haha {}'.format(val_item))  #(들여쓰기)작동될 코드"
   ]
  },
  {
   "cell_type": "code",
   "execution_count": 12,
   "id": "253cbe74",
   "metadata": {},
   "outputs": [
    {
     "data": {
      "text/plain": [
       "[1, 3, 5, 7, 9]"
      ]
     },
     "execution_count": 12,
     "metadata": {},
     "output_type": "execute_result"
    }
   ],
   "source": [
    "val[ : :2]"
   ]
  },
  {
   "cell_type": "code",
   "execution_count": 13,
   "id": "58c9334c",
   "metadata": {},
   "outputs": [
    {
     "data": {
      "text/plain": [
       "[9, 8, 7, 6, 5, 4, 3, 2, 1]"
      ]
     },
     "execution_count": 13,
     "metadata": {},
     "output_type": "execute_result"
    }
   ],
   "source": [
    "val[ : :-1]"
   ]
  },
  {
   "cell_type": "code",
   "execution_count": null,
   "id": "cd268857",
   "metadata": {},
   "outputs": [],
   "source": []
  }
 ],
 "metadata": {
  "kernelspec": {
   "display_name": "Python 3 (ipykernel)",
   "language": "python",
   "name": "python3"
  },
  "language_info": {
   "codemirror_mode": {
    "name": "ipython",
    "version": 3
   },
   "file_extension": ".py",
   "mimetype": "text/x-python",
   "name": "python",
   "nbconvert_exporter": "python",
   "pygments_lexer": "ipython3",
   "version": "3.9.7"
  }
 },
 "nbformat": 4,
 "nbformat_minor": 5
}
