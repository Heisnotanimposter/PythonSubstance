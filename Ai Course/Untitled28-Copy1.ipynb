{
 "cells": [
  {
   "cell_type": "code",
   "execution_count": 2,
   "id": "c7a1efef",
   "metadata": {},
   "outputs": [],
   "source": [
    "menu = {'apple':1000, 'banana':500, 'kiwi':300}"
   ]
  },
  {
   "cell_type": "code",
   "execution_count": 4,
   "id": "12c138f5",
   "metadata": {},
   "outputs": [],
   "source": [
    "def fruit_price_info(fruit):\n",
    "    price = menu[fruit]\n",
    "    print(price)"
   ]
  },
  {
   "cell_type": "code",
   "execution_count": 8,
   "id": "b5f0f98f",
   "metadata": {},
   "outputs": [
    {
     "ename": "NameError",
     "evalue": "name 'fruite_price_info' is not defined",
     "output_type": "error",
     "traceback": [
      "\u001b[1;31m---------------------------------------------------------------------------\u001b[0m",
      "\u001b[1;31mNameError\u001b[0m                                 Traceback (most recent call last)",
      "Input \u001b[1;32mIn [8]\u001b[0m, in \u001b[0;36m<cell line: 1>\u001b[1;34m()\u001b[0m\n\u001b[1;32m----> 1\u001b[0m \u001b[43mfruite_price_info\u001b[49m(\u001b[38;5;124m'\u001b[39m\u001b[38;5;124mapple\u001b[39m\u001b[38;5;124m'\u001b[39m)\n",
      "\u001b[1;31mNameError\u001b[0m: name 'fruite_price_info' is not defined"
     ]
    }
   ],
   "source": [
    "fruite_price_info('apple')"
   ]
  },
  {
   "cell_type": "code",
   "execution_count": 7,
   "id": "b6f94e47",
   "metadata": {},
   "outputs": [
    {
     "data": {
      "text/plain": [
       "1000"
      ]
     },
     "execution_count": 7,
     "metadata": {},
     "output_type": "execute_result"
    }
   ],
   "source": [
    "fruite_price"
   ]
  },
  {
   "cell_type": "code",
   "execution_count": null,
   "id": "c4edbf4e",
   "metadata": {},
   "outputs": [],
   "source": []
  }
 ],
 "metadata": {
  "kernelspec": {
   "display_name": "Python 3 (ipykernel)",
   "language": "python",
   "name": "python3"
  },
  "language_info": {
   "codemirror_mode": {
    "name": "ipython",
    "version": 3
   },
   "file_extension": ".py",
   "mimetype": "text/x-python",
   "name": "python",
   "nbconvert_exporter": "python",
   "pygments_lexer": "ipython3",
   "version": "3.9.12"
  }
 },
 "nbformat": 4,
 "nbformat_minor": 5
}
