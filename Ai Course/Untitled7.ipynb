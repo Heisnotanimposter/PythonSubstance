{
 "cells": [
  {
   "cell_type": "code",
   "execution_count": 2,
   "id": "9e88bcef",
   "metadata": {},
   "outputs": [],
   "source": [
    " #dict 사전은 단어 : 뜻 매칭, 중괄호 사용"
   ]
  },
  {
   "cell_type": "code",
   "execution_count": 13,
   "id": "952c26d7",
   "metadata": {},
   "outputs": [],
   "source": [
    "menu1 = ['banana', 'kiwi', 'apple']"
   ]
  },
  {
   "cell_type": "code",
   "execution_count": 14,
   "id": "6d0f1272",
   "metadata": {},
   "outputs": [
    {
     "data": {
      "text/plain": [
       "list"
      ]
     },
     "execution_count": 14,
     "metadata": {},
     "output_type": "execute_result"
    }
   ],
   "source": [
    "type(menu1)"
   ]
  },
  {
   "cell_type": "code",
   "execution_count": 18,
   "id": "5bbbbe1f",
   "metadata": {},
   "outputs": [],
   "source": [
    "menu2 = {'banana':3500, 'kiwi':2000, 'apple':1000} #key : item(value)"
   ]
  },
  {
   "cell_type": "code",
   "execution_count": 19,
   "id": "03ccc494",
   "metadata": {},
   "outputs": [
    {
     "data": {
      "text/plain": [
       "dict"
      ]
     },
     "execution_count": 19,
     "metadata": {},
     "output_type": "execute_result"
    }
   ],
   "source": [
    "type(menu2)"
   ]
  },
  {
   "cell_type": "code",
   "execution_count": 21,
   "id": "554ba420",
   "metadata": {},
   "outputs": [
    {
     "data": {
      "text/plain": [
       "'banana'"
      ]
     },
     "execution_count": 21,
     "metadata": {},
     "output_type": "execute_result"
    }
   ],
   "source": [
    "menu1[0]"
   ]
  },
  {
   "cell_type": "code",
   "execution_count": 22,
   "id": "af5d9f47",
   "metadata": {},
   "outputs": [
    {
     "data": {
      "text/plain": [
       "3500"
      ]
     },
     "execution_count": 22,
     "metadata": {},
     "output_type": "execute_result"
    }
   ],
   "source": [
    "menu2['banana']"
   ]
  },
  {
   "cell_type": "code",
   "execution_count": 23,
   "id": "510b83bf",
   "metadata": {},
   "outputs": [
    {
     "data": {
      "text/plain": [
       "dict_keys(['banana', 'kiwi', 'apple'])"
      ]
     },
     "execution_count": 23,
     "metadata": {},
     "output_type": "execute_result"
    }
   ],
   "source": [
    "menu2.keys() #key, values를 통해 dict 호출"
   ]
  },
  {
   "cell_type": "code",
   "execution_count": 24,
   "id": "806a5f6b",
   "metadata": {},
   "outputs": [
    {
     "data": {
      "text/plain": [
       "dict_values([3500, 2000, 1000])"
      ]
     },
     "execution_count": 24,
     "metadata": {},
     "output_type": "execute_result"
    }
   ],
   "source": [
    "menu2.values()"
   ]
  }
 ],
 "metadata": {
  "kernelspec": {
   "display_name": "Python 3 (ipykernel)",
   "language": "python",
   "name": "python3"
  },
  "language_info": {
   "codemirror_mode": {
    "name": "ipython",
    "version": 3
   },
   "file_extension": ".py",
   "mimetype": "text/x-python",
   "name": "python",
   "nbconvert_exporter": "python",
   "pygments_lexer": "ipython3",
   "version": "3.9.7"
  }
 },
 "nbformat": 4,
 "nbformat_minor": 5
}
