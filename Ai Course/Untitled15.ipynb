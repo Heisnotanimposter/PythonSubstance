{
 "cells": [
  {
   "cell_type": "code",
   "execution_count": 1,
   "id": "d2a4f1c0",
   "metadata": {},
   "outputs": [],
   "source": [
    "keys = ('1','2','3',)"
   ]
  },
  {
   "cell_type": "code",
   "execution_count": 2,
   "id": "40bd366d",
   "metadata": {},
   "outputs": [],
   "source": [
    "vals = ('a','b','c')"
   ]
  },
  {
   "cell_type": "code",
   "execution_count": 4,
   "id": "6b2b7df0",
   "metadata": {},
   "outputs": [],
   "source": [
    "a = zip(keys,vals)"
   ]
  },
  {
   "cell_type": "code",
   "execution_count": 5,
   "id": "7466fc02",
   "metadata": {},
   "outputs": [
    {
     "data": {
      "text/plain": [
       "<zip at 0x211ce98fac0>"
      ]
     },
     "execution_count": 5,
     "metadata": {},
     "output_type": "execute_result"
    }
   ],
   "source": [
    "a"
   ]
  },
  {
   "cell_type": "code",
   "execution_count": null,
   "id": "91bc902d",
   "metadata": {},
   "outputs": [],
   "source": [
    "res = dictzip(keys,vals)"
   ]
  }
 ],
 "metadata": {
  "kernelspec": {
   "display_name": "Python 3 (ipykernel)",
   "language": "python",
   "name": "python3"
  },
  "language_info": {
   "codemirror_mode": {
    "name": "ipython",
    "version": 3
   },
   "file_extension": ".py",
   "mimetype": "text/x-python",
   "name": "python",
   "nbconvert_exporter": "python",
   "pygments_lexer": "ipython3",
   "version": "3.9.7"
  }
 },
 "nbformat": 4,
 "nbformat_minor": 5
}
