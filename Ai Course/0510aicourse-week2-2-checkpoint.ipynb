{
 "cells": [
  {
   "cell_type": "code",
   "execution_count": 2,
   "id": "f60b9dd9",
   "metadata": {},
   "outputs": [],
   "source": [
    "a = 1"
   ]
  },
  {
   "cell_type": "code",
   "execution_count": 16,
   "id": "3b226d6f",
   "metadata": {},
   "outputs": [
    {
     "data": {
      "text/plain": [
       "3"
      ]
     },
     "execution_count": 16,
     "metadata": {},
     "output_type": "execute_result"
    }
   ],
   "source": [
    "a"
   ]
  },
  {
   "cell_type": "code",
   "execution_count": 4,
   "id": "ae1dc286",
   "metadata": {},
   "outputs": [],
   "source": [
    "b = 2"
   ]
  },
  {
   "cell_type": "code",
   "execution_count": 17,
   "id": "3a27005f",
   "metadata": {},
   "outputs": [
    {
     "data": {
      "text/plain": [
       "2"
      ]
     },
     "execution_count": 17,
     "metadata": {},
     "output_type": "execute_result"
    }
   ],
   "source": [
    "b"
   ]
  },
  {
   "cell_type": "code",
   "execution_count": 12,
   "id": "55d22a13",
   "metadata": {},
   "outputs": [],
   "source": [
    "c = a + b"
   ]
  },
  {
   "cell_type": "code",
   "execution_count": 21,
   "id": "de61ee68",
   "metadata": {},
   "outputs": [
    {
     "data": {
      "text/plain": [
       "-1"
      ]
     },
     "execution_count": 21,
     "metadata": {},
     "output_type": "execute_result"
    }
   ],
   "source": [
    "c"
   ]
  },
  {
   "cell_type": "code",
   "execution_count": 22,
   "id": "a32626b8",
   "metadata": {},
   "outputs": [],
   "source": [
    "c = 4**4"
   ]
  },
  {
   "cell_type": "code",
   "execution_count": 23,
   "id": "66256584",
   "metadata": {},
   "outputs": [
    {
     "data": {
      "text/plain": [
       "256"
      ]
     },
     "execution_count": 23,
     "metadata": {},
     "output_type": "execute_result"
    }
   ],
   "source": [
    "c"
   ]
  },
  {
   "cell_type": "code",
   "execution_count": 24,
   "id": "1b628113",
   "metadata": {},
   "outputs": [
    {
     "data": {
      "text/plain": [
       "int"
      ]
     },
     "execution_count": 24,
     "metadata": {},
     "output_type": "execute_result"
    }
   ],
   "source": [
    "type(a)"
   ]
  },
  {
   "cell_type": "code",
   "execution_count": 25,
   "id": "1b835760",
   "metadata": {},
   "outputs": [],
   "source": [
    "b = 0.5"
   ]
  },
  {
   "cell_type": "code",
   "execution_count": 26,
   "id": "22b08f54",
   "metadata": {},
   "outputs": [
    {
     "data": {
      "text/plain": [
       "float"
      ]
     },
     "execution_count": 26,
     "metadata": {},
     "output_type": "execute_result"
    }
   ],
   "source": [
    "type (b)"
   ]
  },
  {
   "cell_type": "code",
   "execution_count": 27,
   "id": "016b5161",
   "metadata": {},
   "outputs": [
    {
     "data": {
      "text/plain": [
       "'이승원'"
      ]
     },
     "execution_count": 27,
     "metadata": {},
     "output_type": "execute_result"
    }
   ],
   "source": [
    "\"이승원\""
   ]
  },
  {
   "cell_type": "code",
   "execution_count": 28,
   "id": "c951d8fe",
   "metadata": {},
   "outputs": [
    {
     "data": {
      "text/plain": [
       "'이승원'"
      ]
     },
     "execution_count": 28,
     "metadata": {},
     "output_type": "execute_result"
    }
   ],
   "source": [
    "'이승원'"
   ]
  },
  {
   "cell_type": "code",
   "execution_count": 29,
   "id": "c66e3920",
   "metadata": {},
   "outputs": [],
   "source": [
    "a = 1 #그냥 숫자"
   ]
  },
  {
   "cell_type": "code",
   "execution_count": 30,
   "id": "e1a317de",
   "metadata": {},
   "outputs": [],
   "source": [
    "b = '1' #작은 따옴표는 문자열"
   ]
  },
  {
   "cell_type": "code",
   "execution_count": 31,
   "id": "ee91a5bf",
   "metadata": {},
   "outputs": [],
   "source": [
    "a = 100"
   ]
  },
  {
   "cell_type": "code",
   "execution_count": 32,
   "id": "10d44d23",
   "metadata": {},
   "outputs": [],
   "source": [
    "b = '100'"
   ]
  },
  {
   "cell_type": "code",
   "execution_count": 34,
   "id": "db1a67ce",
   "metadata": {},
   "outputs": [
    {
     "data": {
      "text/plain": [
       "str"
      ]
     },
     "execution_count": 34,
     "metadata": {},
     "output_type": "execute_result"
    }
   ],
   "source": [
    "type (b)"
   ]
  },
  {
   "cell_type": "code",
   "execution_count": 35,
   "id": "d0eecd9a",
   "metadata": {},
   "outputs": [],
   "source": [
    "a = 100"
   ]
  },
  {
   "cell_type": "code",
   "execution_count": 36,
   "id": "37f3d5bd",
   "metadata": {},
   "outputs": [],
   "source": [
    "b = 1.5"
   ]
  },
  {
   "cell_type": "code",
   "execution_count": 37,
   "id": "98f7a5f6",
   "metadata": {},
   "outputs": [],
   "source": [
    "c = a + b"
   ]
  },
  {
   "cell_type": "code",
   "execution_count": 38,
   "id": "f796ffcd",
   "metadata": {},
   "outputs": [
    {
     "name": "stdout",
     "output_type": "stream",
     "text": [
      "101.5\n"
     ]
    }
   ],
   "source": [
    "print (c)"
   ]
  },
  {
   "cell_type": "code",
   "execution_count": 39,
   "id": "68b301e3",
   "metadata": {},
   "outputs": [],
   "source": [
    "c = b - a"
   ]
  },
  {
   "cell_type": "code",
   "execution_count": 40,
   "id": "a16fe1cb",
   "metadata": {},
   "outputs": [
    {
     "name": "stdout",
     "output_type": "stream",
     "text": [
      "-98.5\n"
     ]
    }
   ],
   "source": [
    "print (c)"
   ]
  },
  {
   "cell_type": "code",
   "execution_count": 43,
   "id": "863d960d",
   "metadata": {},
   "outputs": [],
   "source": [
    "a = \"한국\""
   ]
  },
  {
   "cell_type": "code",
   "execution_count": 44,
   "id": "abaa87c2",
   "metadata": {},
   "outputs": [],
   "source": [
    "b = \"교통대\""
   ]
  },
  {
   "cell_type": "code",
   "execution_count": 45,
   "id": "72e92947",
   "metadata": {},
   "outputs": [],
   "source": [
    "c = a+b"
   ]
  },
  {
   "cell_type": "code",
   "execution_count": 46,
   "id": "2b0b453c",
   "metadata": {},
   "outputs": [
    {
     "data": {
      "text/plain": [
       "'한국교통대'"
      ]
     },
     "execution_count": 46,
     "metadata": {},
     "output_type": "execute_result"
    }
   ],
   "source": [
    "c"
   ]
  },
  {
   "cell_type": "code",
   "execution_count": 48,
   "id": "88631923",
   "metadata": {},
   "outputs": [
    {
     "data": {
      "text/plain": [
       "'한국한국한국'"
      ]
     },
     "execution_count": 48,
     "metadata": {},
     "output_type": "execute_result"
    }
   ],
   "source": [
    "a*3"
   ]
  },
  {
   "cell_type": "code",
   "execution_count": 49,
   "id": "2ede2581",
   "metadata": {},
   "outputs": [],
   "source": [
    "c = a+b"
   ]
  },
  {
   "cell_type": "code",
   "execution_count": 51,
   "id": "c4de5c86",
   "metadata": {},
   "outputs": [
    {
     "data": {
      "text/plain": [
       "'한국한국한국'"
      ]
     },
     "execution_count": 51,
     "metadata": {},
     "output_type": "execute_result"
    }
   ],
   "source": [
    "a*3"
   ]
  },
  {
   "cell_type": "code",
   "execution_count": 52,
   "id": "828c6f09",
   "metadata": {},
   "outputs": [],
   "source": [
    "삼성전자 = \"50000\""
   ]
  },
  {
   "cell_type": "code",
   "execution_count": 53,
   "id": "ce00bc74",
   "metadata": {},
   "outputs": [
    {
     "data": {
      "text/plain": [
       "'50000'"
      ]
     },
     "execution_count": 53,
     "metadata": {},
     "output_type": "execute_result"
    }
   ],
   "source": [
    "삼성전자"
   ]
  },
  {
   "cell_type": "code",
   "execution_count": null,
   "id": "82329e40",
   "metadata": {},
   "outputs": [],
   "source": []
  }
 ],
 "metadata": {
  "kernelspec": {
   "display_name": "Python 3 (ipykernel)",
   "language": "python",
   "name": "python3"
  },
  "language_info": {
   "codemirror_mode": {
    "name": "ipython",
    "version": 3
   },
   "file_extension": ".py",
   "mimetype": "text/x-python",
   "name": "python",
   "nbconvert_exporter": "python",
   "pygments_lexer": "ipython3",
   "version": "3.9.7"
  }
 },
 "nbformat": 4,
 "nbformat_minor": 5
}
