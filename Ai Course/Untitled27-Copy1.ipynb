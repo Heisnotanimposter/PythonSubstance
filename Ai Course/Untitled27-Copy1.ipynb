{
 "cells": [
  {
   "cell_type": "code",
   "execution_count": 13,
   "id": "c7769702",
   "metadata": {},
   "outputs": [],
   "source": [
    "def add(i,j):\n",
    "    c = i + j\n",
    "    return c"
   ]
  },
  {
   "cell_type": "code",
   "execution_count": 14,
   "id": "dcba3f3b",
   "metadata": {},
   "outputs": [],
   "source": [
    "#더하기 - ADD"
   ]
  },
  {
   "cell_type": "code",
   "execution_count": 15,
   "id": "39ef8df0",
   "metadata": {},
   "outputs": [],
   "source": [
    "#빼기 - SUB"
   ]
  },
  {
   "cell_type": "code",
   "execution_count": 16,
   "id": "f61b7802",
   "metadata": {},
   "outputs": [],
   "source": [
    "#곱하기 - mul"
   ]
  },
  {
   "cell_type": "code",
   "execution_count": 23,
   "id": "4f54e968",
   "metadata": {},
   "outputs": [],
   "source": [
    "#나누기 - div"
   ]
  },
  {
   "cell_type": "code",
   "execution_count": 24,
   "id": "84ed5619",
   "metadata": {},
   "outputs": [],
   "source": [
    "def sub(i,j):\n",
    "    c = i - j\n",
    "    return c"
   ]
  },
  {
   "cell_type": "code",
   "execution_count": 25,
   "id": "4d798e02",
   "metadata": {},
   "outputs": [],
   "source": [
    "def mul(i,j):\n",
    "    c = i*j\n",
    "    return c"
   ]
  },
  {
   "cell_type": "code",
   "execution_count": 26,
   "id": "6e3398dd",
   "metadata": {},
   "outputs": [],
   "source": [
    "def div(i,j):\n",
    "    c = i / j\n",
    "    return c"
   ]
  },
  {
   "cell_type": "code",
   "execution_count": 27,
   "id": "1ebfeb9d",
   "metadata": {},
   "outputs": [
    {
     "data": {
      "text/plain": [
       "10"
      ]
     },
     "execution_count": 27,
     "metadata": {},
     "output_type": "execute_result"
    }
   ],
   "source": [
    "add(5,5)"
   ]
  },
  {
   "cell_type": "code",
   "execution_count": 28,
   "id": "5a9f7a1a",
   "metadata": {},
   "outputs": [
    {
     "data": {
      "text/plain": [
       "0"
      ]
     },
     "execution_count": 28,
     "metadata": {},
     "output_type": "execute_result"
    }
   ],
   "source": [
    "sub(5,5)"
   ]
  },
  {
   "cell_type": "code",
   "execution_count": 29,
   "id": "f7f4e1ad",
   "metadata": {},
   "outputs": [
    {
     "data": {
      "text/plain": [
       "25"
      ]
     },
     "execution_count": 29,
     "metadata": {},
     "output_type": "execute_result"
    }
   ],
   "source": [
    "mul(5,5)"
   ]
  },
  {
   "cell_type": "code",
   "execution_count": 30,
   "id": "872ea512",
   "metadata": {},
   "outputs": [
    {
     "data": {
      "text/plain": [
       "1.0"
      ]
     },
     "execution_count": 30,
     "metadata": {},
     "output_type": "execute_result"
    }
   ],
   "source": [
    "div(5,5)"
   ]
  },
  {
   "cell_type": "code",
   "execution_count": 31,
   "id": "6b3aa4da",
   "metadata": {},
   "outputs": [],
   "source": [
    "r = add(100,5)"
   ]
  },
  {
   "cell_type": "code",
   "execution_count": 33,
   "id": "e0b60d3e",
   "metadata": {},
   "outputs": [
    {
     "data": {
      "text/plain": [
       "105"
      ]
     },
     "execution_count": 33,
     "metadata": {},
     "output_type": "execute_result"
    }
   ],
   "source": [
    "r"
   ]
  },
  {
   "cell_type": "code",
   "execution_count": 34,
   "id": "a492a45a",
   "metadata": {},
   "outputs": [],
   "source": [
    "r = add(100,5)"
   ]
  },
  {
   "cell_type": "code",
   "execution_count": null,
   "id": "56907085",
   "metadata": {},
   "outputs": [],
   "source": [
    "#아나콘타 프롬프트에서 design 입력 - 아나콘다 디자이너 진입 가능 - UI디자인 가능"
   ]
  }
 ],
 "metadata": {
  "kernelspec": {
   "display_name": "Python 3 (ipykernel)",
   "language": "python",
   "name": "python3"
  },
  "language_info": {
   "codemirror_mode": {
    "name": "ipython",
    "version": 3
   },
   "file_extension": ".py",
   "mimetype": "text/x-python",
   "name": "python",
   "nbconvert_exporter": "python",
   "pygments_lexer": "ipython3",
   "version": "3.9.12"
  }
 },
 "nbformat": 4,
 "nbformat_minor": 5
}
