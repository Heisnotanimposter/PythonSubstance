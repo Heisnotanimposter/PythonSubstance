{
 "cells": [
  {
   "cell_type": "code",
   "execution_count": 31,
   "id": "ad7ce389",
   "metadata": {},
   "outputs": [],
   "source": [
    "market = {'homerunball':1500, 'cornchips':1200, 'moncell':3000}"
   ]
  },
  {
   "cell_type": "code",
   "execution_count": 32,
   "id": "1336e324",
   "metadata": {},
   "outputs": [],
   "source": [
    "def info(cookies):\n",
    "    price = market[cookies]\n",
    "    print(price)"
   ]
  },
  {
   "cell_type": "code",
   "execution_count": 33,
   "id": "6f38f6ee",
   "metadata": {},
   "outputs": [
    {
     "name": "stdout",
     "output_type": "stream",
     "text": [
      "1500\n"
     ]
    }
   ],
   "source": [
    "info('homerunball')"
   ]
  },
  {
   "cell_type": "code",
   "execution_count": 34,
   "id": "bf04f429",
   "metadata": {},
   "outputs": [
    {
     "name": "stdout",
     "output_type": "stream",
     "text": [
      "1200\n"
     ]
    }
   ],
   "source": [
    "info('cornchips')"
   ]
  },
  {
   "cell_type": "code",
   "execution_count": 35,
   "id": "cdf5924e",
   "metadata": {},
   "outputs": [
    {
     "name": "stdout",
     "output_type": "stream",
     "text": [
      "3000\n"
     ]
    }
   ],
   "source": [
    "info('moncell')"
   ]
  },
  {
   "cell_type": "code",
   "execution_count": null,
   "id": "60e80754",
   "metadata": {},
   "outputs": [],
   "source": []
  }
 ],
 "metadata": {
  "kernelspec": {
   "display_name": "Python 3 (ipykernel)",
   "language": "python",
   "name": "python3"
  },
  "language_info": {
   "codemirror_mode": {
    "name": "ipython",
    "version": 3
   },
   "file_extension": ".py",
   "mimetype": "text/x-python",
   "name": "python",
   "nbconvert_exporter": "python",
   "pygments_lexer": "ipython3",
   "version": "3.9.12"
  }
 },
 "nbformat": 4,
 "nbformat_minor": 5
}
