{
 "cells": [
  {
   "cell_type": "code",
   "execution_count": 1,
   "id": "b44d6a7d",
   "metadata": {},
   "outputs": [],
   "source": [
    "def print_key(a):\n",
    "    print(a.keys())"
   ]
  },
  {
   "cell_type": "code",
   "execution_count": 3,
   "id": "5e0998d7",
   "metadata": {},
   "outputs": [
    {
     "name": "stdout",
     "output_type": "stream",
     "text": [
      "dict_keys(['apple', 'kiwi', 'melon'])\n"
     ]
    }
   ],
   "source": [
    "print_key({'apple':1000, 'kiwi':2000, 'melon':3000})"
   ]
  },
  {
   "cell_type": "code",
   "execution_count": 7,
   "id": "04bd908d",
   "metadata": {},
   "outputs": [
    {
     "data": {
      "text/plain": [
       "'\\n삼성전자 주식 (2022/05/16)\\nat 09:00 (시가 open=60,000원)\\n    \\n    11:00(55,000won - lowest price = low)\\n    14:00(70,000won - highest price = high)\\n    15:30(종가 = close = 65,000won)\\n        \\nvolume = 거래량 = 2만건\\n\\nOHLC(V) -> 시가 고가 저가 가격 거래량\\nO open\\nH high\\nL low\\nC close\\n\\n'"
      ]
     },
     "execution_count": 7,
     "metadata": {},
     "output_type": "execute_result"
    }
   ],
   "source": [
    "\"\"\"\n",
    "삼성전자 주식 (2022/05/16)\n",
    "at 09:00 (시가 open=60,000원)\n",
    "    \n",
    "    11:00(55,000won - lowest price = low)\n",
    "    14:00(70,000won - highest price = high)\n",
    "    15:30(종가 = close = 65,000won)\n",
    "        \n",
    "volume = 거래량 = 2만건\n",
    "\n",
    "OHLC(V) -> 시가 고가 저가 가격 거래량\n",
    "O open\n",
    "H high\n",
    "L low\n",
    "C close\n",
    "\n",
    "\"\"\""
   ]
  },
  {
   "cell_type": "code",
   "execution_count": 5,
   "id": "4b879bd7",
   "metadata": {},
   "outputs": [],
   "source": [
    "a_dict = {'10/26':[1,2,3,4], '10/27':[5,6,7,8]}"
   ]
  },
  {
   "cell_type": "code",
   "execution_count": 6,
   "id": "7c68e313",
   "metadata": {},
   "outputs": [
    {
     "ename": "IndentationError",
     "evalue": "expected an indented block (361119869.py, line 1)",
     "output_type": "error",
     "traceback": [
      "\u001b[1;36m  Input \u001b[1;32mIn [6]\u001b[1;36m\u001b[0m\n\u001b[1;33m    def print_value_by_key(a,b):\u001b[0m\n\u001b[1;37m                                ^\u001b[0m\n\u001b[1;31mIndentationError\u001b[0m\u001b[1;31m:\u001b[0m expected an indented block\n"
     ]
    }
   ],
   "source": [
    "def print_value_by_key(a,b):\n",
    "    a[b]\n",
    "    print()"
   ]
  },
  {
   "cell_type": "code",
   "execution_count": null,
   "id": "1534c555",
   "metadata": {},
   "outputs": [],
   "source": []
  }
 ],
 "metadata": {
  "kernelspec": {
   "display_name": "Python 3 (ipykernel)",
   "language": "python",
   "name": "python3"
  },
  "language_info": {
   "codemirror_mode": {
    "name": "ipython",
    "version": 3
   },
   "file_extension": ".py",
   "mimetype": "text/x-python",
   "name": "python",
   "nbconvert_exporter": "python",
   "pygments_lexer": "ipython3",
   "version": "3.9.12"
  }
 },
 "nbformat": 4,
 "nbformat_minor": 5
}
